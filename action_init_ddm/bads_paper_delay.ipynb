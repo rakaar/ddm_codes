{
 "cells": [
  {
   "cell_type": "code",
   "execution_count": 1,
   "metadata": {},
   "outputs": [],
   "source": [
    "import numpy as np\n",
    "import pickle\n",
    "from joblib import Parallel, delayed\n",
    "from scipy import stats\n",
    "from pybads import BADS\n",
    "import corner\n",
    "\n",
    "\n",
    "from psiam_delay_paper_utils import abort_RT_loglike_fn, correct_RT_loglike_fn, wrong_RT_loglike_fn"
   ]
  },
  {
   "cell_type": "code",
   "execution_count": 1,
   "metadata": {},
   "outputs": [
    {
     "ename": "NameError",
     "evalue": "name 'pickle' is not defined",
     "output_type": "error",
     "traceback": [
      "\u001b[0;31m---------------------------------------------------------------------------\u001b[0m",
      "\u001b[0;31mNameError\u001b[0m                                 Traceback (most recent call last)",
      "Cell \u001b[0;32mIn[1], line 2\u001b[0m\n\u001b[1;32m      1\u001b[0m \u001b[38;5;28;01mwith\u001b[39;00m \u001b[38;5;28mopen\u001b[39m(\u001b[38;5;124m'\u001b[39m\u001b[38;5;124mpsiam_data_delay_paper_10K_2.pkl\u001b[39m\u001b[38;5;124m'\u001b[39m, \u001b[38;5;124m'\u001b[39m\u001b[38;5;124mrb\u001b[39m\u001b[38;5;124m'\u001b[39m) \u001b[38;5;28;01mas\u001b[39;00m f:\n\u001b[0;32m----> 2\u001b[0m     psiam_data \u001b[38;5;241m=\u001b[39m \u001b[43mpickle\u001b[49m\u001b[38;5;241m.\u001b[39mload(f)\n\u001b[1;32m      5\u001b[0m choices \u001b[38;5;241m=\u001b[39m psiam_data[\u001b[38;5;124m'\u001b[39m\u001b[38;5;124mchoices\u001b[39m\u001b[38;5;124m'\u001b[39m]\n\u001b[1;32m      6\u001b[0m RTs \u001b[38;5;241m=\u001b[39m psiam_data[\u001b[38;5;124m'\u001b[39m\u001b[38;5;124mRTs\u001b[39m\u001b[38;5;124m'\u001b[39m]\n",
      "\u001b[0;31mNameError\u001b[0m: name 'pickle' is not defined"
     ]
    }
   ],
   "source": [
    "with open('psiam_data_delay_paper_10K_2.pkl', 'rb') as f:\n",
    "    psiam_data = pickle.load(f)\n",
    "\n",
    "\n",
    "choices = psiam_data['choices']\n",
    "RTs = psiam_data['RTs']\n",
    "is_act_resp = psiam_data['is_act_resp']\n",
    "V_A = psiam_data['V_A']\n",
    "theta_A = psiam_data['theta_A']\n",
    "V_E = psiam_data['V_E']\n",
    "theta_E = psiam_data['theta_E']\n",
    "Z_E = psiam_data['Z_E']\n",
    "t_stim = psiam_data['t_stim']\n",
    "t_A_aff = psiam_data['t_A_aff']\n",
    "t_E_aff = psiam_data['t_E_aff']\n",
    "t_motor = psiam_data['t_motor']\n",
    "\n",
    "\n",
    "indices_evid = np.where(is_act_resp == 0)[0]\n",
    "RTs_evid = RTs[indices_evid].flatten()\n",
    "\n",
    "indices_act = np.where(is_act_resp == 1)[0]\n",
    "RTs_act = RTs[indices_act].flatten()\n",
    "\n",
    "RTs = RTs.flatten()\n",
    "\n",
    "\n",
    "correct_idx = np.where(choices == 1)[0]\n",
    "wrong_idx = np.where(choices == -1)[0]\n",
    "non_abort_idx = np.where(RTs >= t_stim)[0]\n",
    "\n",
    "correct_non_abort_idx = np.intersect1d(correct_idx, non_abort_idx)\n",
    "wrong_non_abort_idx = np.intersect1d(wrong_idx, non_abort_idx)\n",
    "\n",
    "correct_RT = RTs[correct_non_abort_idx]\n",
    "wrong_RT = RTs[wrong_non_abort_idx]\n",
    "\n",
    "abort_idx = np.where(RTs < t_stim)[0]\n",
    "abort_RT = RTs[abort_idx]\n",
    "\n",
    "\n",
    "print(f\"V_A: {V_A}\")\n",
    "print(f\"theta_A: {theta_A}\")\n",
    "print(f\"V_E: {V_E}\")\n",
    "print(f\"theta_E: {theta_E}\")\n",
    "print(f\"t stim is {t_stim}\")\n",
    "print(f\"t_A_aff: {t_A_aff}, t_E_aff: {t_E_aff}, t_motor: {t_motor}\")\n",
    "\n",
    "print(f\"Num of AI process: {is_act_resp.sum()}/{len(is_act_resp)}\")\n",
    "print(f'Number of aborts = {(RTs < t_stim).sum()}')\n",
    "\n"
   ]
  },
  {
   "cell_type": "code",
   "execution_count": 3,
   "metadata": {},
   "outputs": [],
   "source": [
    "def psiam_neg_loglike_fn(params):\n",
    "    V_A, theta_A, V_E, theta_E, Z_E, t_A_aff, t_E_aff, t_motor = params\n",
    "\n",
    "    K_max = int(10)\n",
    "    n_jobs = -1\n",
    "\n",
    "    abort_loglike = sum(Parallel(n_jobs=n_jobs)(delayed(abort_RT_loglike_fn)(t, V_A, theta_A, V_E, theta_E, Z_E, K_max, t_A_aff, t_E_aff, t_stim, t_motor) for t in abort_RT))\n",
    "    correct_loglike = sum(Parallel(n_jobs=n_jobs)(delayed(correct_RT_loglike_fn)(t, V_A, theta_A, V_E, theta_E, Z_E, K_max, t_A_aff, t_E_aff, t_stim, t_motor) for t in correct_RT))\n",
    "    wrong_loglike = sum(Parallel(n_jobs=n_jobs)(delayed(wrong_RT_loglike_fn)(t, V_A, theta_A, V_E, theta_E, Z_E, K_max, t_A_aff, t_E_aff, t_stim, t_motor) for t in wrong_RT))\n",
    "\n",
    "\n",
    "    loglike = abort_loglike + correct_loglike + wrong_loglike\n",
    "\n",
    "    if np.isnan(loglike):\n",
    "        raise ValueError('loglike is nan')\n",
    "    if np.isinf(loglike):\n",
    "        raise ValueError('loglike is inf')\n",
    "    \n",
    "    return -loglike\n",
    "    "
   ]
  },
  {
   "cell_type": "code",
   "execution_count": 4,
   "metadata": {},
   "outputs": [],
   "source": [
    "V_A_bounds = [0.1, 2]; V_A_plausible_bounds = [0.5, 1.5]\n",
    "theta_A_bounds = [1, 3]; theta_A_plausible_bounds = [1.5, 2.5]\n",
    "V_E_bounds = [-2, 2]; V_E_plausible_bounds = [-1.5, 1.5]\n",
    "theta_E_bounds = [0.1, 3]; theta_E_plausible_bounds = [0.5,2.5]\n",
    "Z_E_bounds = [-0.5, 0.5]; Z_E_plausible_bounds = [-0.2, 0.2]\n",
    "t_A_aff_bounds = [0.01, 0.06]; t_A_aff_plausible_bounds = [0.015, 0.05]\n",
    "t_E_aff_bounds = [0.01, 0.06]; t_E_aff_plausible_bounds = [0.02, 0.05]\n",
    "t_motor_bounds = [0.01, 0.06]; t_motor_plausible_bounds = [0.03, 0.06]\n"
   ]
  },
  {
   "cell_type": "code",
   "execution_count": 5,
   "metadata": {},
   "outputs": [],
   "source": [
    "lb = np.array([V_A_bounds[0], theta_A_bounds[0], V_E_bounds[0], theta_E_bounds[0], Z_E_bounds[0], \n",
    "               t_A_aff_bounds[0], t_E_aff_bounds[0], t_motor_bounds[0]])\n",
    "ub = np.array([V_A_bounds[1], theta_A_bounds[1], V_E_bounds[1], theta_E_bounds[1], Z_E_bounds[1], \n",
    "               t_A_aff_bounds[1], t_E_aff_bounds[1], t_motor_bounds[1]])\n",
    "plb = np.array([V_A_plausible_bounds[0], theta_A_plausible_bounds[0], V_E_plausible_bounds[0], theta_E_plausible_bounds[0], Z_E_plausible_bounds[0], \n",
    "                t_A_aff_plausible_bounds[0], t_E_aff_plausible_bounds[0], t_motor_plausible_bounds[0]])\n",
    "pub = np.array([V_A_plausible_bounds[1], theta_A_plausible_bounds[1], V_E_plausible_bounds[1], theta_E_plausible_bounds[1], Z_E_plausible_bounds[1], \n",
    "                t_A_aff_plausible_bounds[1], t_E_aff_plausible_bounds[1], t_motor_plausible_bounds[1]])\n",
    "\n",
    "np.random.seed(42)  \n",
    "V_A_0 = np.random.uniform(plb[0], pub[0])\n",
    "theta_A_0 =  np.random.uniform(plb[1], pub[1])\n",
    "V_E_0 = np.random.uniform(plb[2], pub[2])\n",
    "theta_E_0 = np.random.uniform(plb[3], pub[3])\n",
    "Z_0 = np.random.uniform(plb[4], pub[4])\n",
    "t_A_aff_0 = np.random.uniform(plb[5], pub[5])\n",
    "t_E_aff_0 = np.random.uniform(plb[6], pub[6])\n",
    "t_motor_0 = np.random.uniform(plb[7], pub[7])\n",
    "\n",
    "x0 = np.array([V_A_0, theta_A_0, V_E_0, theta_E_0, Z_0, t_A_aff_0, t_E_aff_0, t_motor_0]);\n"
   ]
  },
  {
   "cell_type": "code",
   "execution_count": 6,
   "metadata": {},
   "outputs": [
    {
     "name": "stdout",
     "output_type": "stream",
     "text": [
      "bads:TooCloseBounds: For each variable, hard and plausible bounds should not be too close. Moving plausible bounds.\n",
      "Est. V_A = 1.002268140957753, True V_A = 1\n",
      "Est. theta_A = 2.018140455422092, True theta_A = 2\n",
      "Est. V_E = 1.224765021220989, True V_E = 1.2\n",
      "Est. theta_E = 2.014954265141057, True theta_E = 2\n",
      "Est. Z = -0.018122722803207127, True Z = 0\n",
      "Est. t_A_aff = 0.04452589218115613, True t_A_aff = 0.02\n",
      "Est. t_E_aff = 0.020749976264883688, True t_E_aff = 0.03\n",
      "Est. t_motor = 0.027316925668284035, True t_motor = 0.05\n"
     ]
    }
   ],
   "source": [
    "options = {'display': 'off'}\n",
    "bads = BADS(psiam_neg_loglike_fn, x0, lb, ub, plb, pub, options=options)\n",
    "optimize_result = bads.optimize()\n",
    "x_min = optimize_result['x']\n",
    "\n",
    "\n",
    "print(f'Est. V_A = {x_min[0]}, True V_A = {V_A}')\n",
    "print(f'Est. theta_A = {x_min[1]}, True theta_A = {theta_A}')\n",
    "print(f'Est. V_E = {x_min[2]}, True V_E = {V_E}')\n",
    "print(f'Est. theta_E = {x_min[3]}, True theta_E = {theta_E}')\n",
    "print(f'Est. Z = {x_min[4]}, True Z = {Z_E}')\n",
    "print(f'Est. t_A_aff = {x_min[5]}, True t_A_aff = {t_A_aff}')\n",
    "print(f'Est. t_E_aff = {x_min[6]}, True t_E_aff = {t_E_aff}')\n",
    "print(f'Est. t_motor = {x_min[7]}, True t_motor = {t_motor}')"
   ]
  }
 ],
 "metadata": {
  "kernelspec": {
   "display_name": "Python 3",
   "language": "python",
   "name": "python3"
  },
  "language_info": {
   "codemirror_mode": {
    "name": "ipython",
    "version": 3
   },
   "file_extension": ".py",
   "mimetype": "text/x-python",
   "name": "python",
   "nbconvert_exporter": "python",
   "pygments_lexer": "ipython3",
   "version": "3.10.12"
  }
 },
 "nbformat": 4,
 "nbformat_minor": 2
}
