{
 "cells": [
  {
   "cell_type": "code",
   "execution_count": 1,
   "metadata": {},
   "outputs": [],
   "source": [
    "import numpy as np\n",
    "import pickle\n",
    "from psiam_utils import rho_A_t_fn, rho_E_t_fn, cum_A_t_fn, rho_E_minus_t_fn, P_large_t_btn_1_2\n",
    "from scipy.integrate import quad\n",
    "from joblib import Parallel, delayed\n",
    "from pybads import BADS\n",
    "from tqdm import tqdm\n",
    "from concurrent.futures import ThreadPoolExecutor, as_completed\n",
    "from scipy.stats import median_abs_deviation\n",
    "import matplotlib.pyplot as plt"
   ]
  },
  {
   "cell_type": "markdown",
   "metadata": {},
   "source": [
    "# Read data"
   ]
  },
  {
   "cell_type": "code",
   "execution_count": 2,
   "metadata": {},
   "outputs": [
    {
     "name": "stdout",
     "output_type": "stream",
     "text": [
      "V_A: 1\n",
      "theta_A: 2\n",
      "V_E: 0.5\n",
      "theta_E: 1\n",
      "Num of AI process: 1975/10000\n",
      "t start is 0\n"
     ]
    }
   ],
   "source": [
    "with open('psiam_data_5k_1.pkl', 'rb') as f:\n",
    "    psiam_data = pickle.load(f)\n",
    "\n",
    "\n",
    "choices = psiam_data['choices']\n",
    "RTs = psiam_data['RTs']\n",
    "is_act_resp = psiam_data['is_act_resp']\n",
    "V_A = psiam_data['V_A']\n",
    "theta_A = psiam_data['theta_A']\n",
    "V_E = psiam_data['V_E']\n",
    "theta_E = psiam_data['theta_E']\n",
    "Z_E = psiam_data['Z_E']\n",
    "t_stim = psiam_data['t_stim']\n",
    "\n",
    "\n",
    "indices_evid = np.where(is_act_resp == 0)[0]\n",
    "RTs_evid = RTs[indices_evid].flatten()\n",
    "\n",
    "indices_act = np.where(is_act_resp == 1)[0]\n",
    "RTs_act = RTs[indices_act].flatten()\n",
    "\n",
    "\n",
    "RTs = RTs.flatten()\n",
    "\n",
    "correct_idx = np.where(choices == 1)[0]\n",
    "wrong_idx = np.where(choices == -1)[0]\n",
    "\n",
    "\n",
    "correct_RT = RTs[correct_idx]\n",
    "wrong_RT = RTs[wrong_idx]\n",
    "\n",
    "abort_idx = np.where(RTs < t_stim)[0]\n",
    "abort_RT = RTs[abort_idx]\n",
    "\n",
    "print(f\"V_A: {V_A}\")\n",
    "print(f\"theta_A: {theta_A}\")\n",
    "print(f\"V_E: {V_E}\")\n",
    "print(f\"theta_E: {theta_E}\")\n",
    "print(f\"Num of AI process: {is_act_resp.sum()}/{len(is_act_resp)}\")\n",
    "print(f\"t start is {t_stim}\")"
   ]
  },
  {
   "cell_type": "code",
   "execution_count": 2,
   "metadata": {},
   "outputs": [
    {
     "name": "stderr",
     "output_type": "stream",
     "text": [
      "  0%|          | 0/10000 [00:00<?, ?it/s]"
     ]
    },
    {
     "name": "stderr",
     "output_type": "stream",
     "text": [
      " 32%|███▏      | 3157/10000 [00:23<00:52, 129.77it/s]"
     ]
    },
    {
     "name": "stdout",
     "output_type": "stream",
     "text": [
      "Re-running\n"
     ]
    },
    {
     "name": "stderr",
     "output_type": "stream",
     "text": [
      "100%|██████████| 10000/10000 [01:14<00:00, 134.48it/s]\n"
     ]
    }
   ],
   "source": [
    "def simulate_AI_for_T(v, a, dt):\n",
    "    dB = dt**0.5 \n",
    "\n",
    "    DV = 0\n",
    "    t = 0\n",
    "    for t in range(1,t_max):\n",
    "        DV += v*dt + np.random.normal(0, dB)\n",
    "        t += 1\n",
    "        if DV >= a/2:\n",
    "            break\n",
    "        \n",
    "    \n",
    "    if DV < a/2:\n",
    "        print(f'Re-running')\n",
    "        simulate_AI_for_T(v, a, dt)\n",
    "    \n",
    "    return  t*dt\n",
    "\n",
    "v = 1.2\n",
    "a = 2\n",
    "dt = 1e-4\n",
    "t_max = int(10/dt)\n",
    "N_sim = 10000\n",
    "sim_results = np.zeros((N_sim))\n",
    "\n",
    "from tqdm import tqdm\n",
    "\n",
    "for i in tqdm(range(N_sim)):\n",
    "    result = simulate_AI_for_T(v, a, dt)\n",
    "    sim_results[i] = result"
   ]
  },
  {
   "cell_type": "code",
   "execution_count": 3,
   "metadata": {},
   "outputs": [],
   "source": [
    "def bads_negloglike_fn(params):\n",
    "    v,a = params\n",
    "    p_a_test = np.array([rho_A_t_fn(t, v, a/2, 0) for t in sim_results])\n",
    "    return -np.sum(np.log(p_a_test))"
   ]
  },
  {
   "cell_type": "code",
   "execution_count": 6,
   "metadata": {},
   "outputs": [
    {
     "name": "stdout",
     "output_type": "stream",
     "text": [
      "v = 1.200, a = 2.001\n"
     ]
    }
   ],
   "source": [
    "v_bounds = [0.1, 1.2]; v_plausible_bounds = [0.5, 1.1]\n",
    "a_bounds = [1,3]; a_plausible_bounds = [1.5, 2.5]\n",
    "\n",
    "lb = np.array([v_bounds[0], a_bounds[0]])\n",
    "ub = np.array([v_bounds[1], a_bounds[1]])\n",
    "plb = np.array([v_plausible_bounds[0], a_plausible_bounds[0]])\n",
    "pub = np.array([v_plausible_bounds[1], a_plausible_bounds[1]])\n",
    "\n",
    "v_0 = np.random.uniform(plb[0], pub[0])\n",
    "a_0 = np.random.uniform(plb[1], pub[1])\n",
    "\n",
    "x0 = np.array([v_0, a_0]);\n",
    "\n",
    "\n",
    "options = {'display': 'off'}\n",
    "bads = BADS(bads_negloglike_fn, x0, lb, ub, plb, pub, options=options)\n",
    "optimize_result = bads.optimize()\n",
    "x_min = optimize_result['x']\n",
    "print(f'v = {x_min[0]:.3f}, a = {x_min[1]:.3f}')"
   ]
  },
  {
   "cell_type": "code",
   "execution_count": 8,
   "metadata": {},
   "outputs": [
    {
     "name": "stderr",
     "output_type": "stream",
     "text": [
      " 42%|████▏     | 10533/25000 [01:22<01:51, 130.08it/s]"
     ]
    },
    {
     "name": "stdout",
     "output_type": "stream",
     "text": [
      "DV value is 0.5275891614928279\n"
     ]
    },
    {
     "name": "stderr",
     "output_type": "stream",
     "text": [
      "100%|██████████| 25000/25000 [03:17<00:00, 126.68it/s]\n"
     ]
    }
   ],
   "source": [
    "def simulate_ddm(v, a, dt):\n",
    "    t_max = int(7/dt)\n",
    "    \n",
    "    dB = dt**0.5 \n",
    "    DV = 0\n",
    "    c = 0\n",
    "    for t in range(1,t_max):\n",
    "        DV += v*dt + np.random.normal(0, dB)\n",
    "        if DV >= a/2:\n",
    "            c = 1\n",
    "            break\n",
    "        elif DV <= -a/2:\n",
    "            c = -1\n",
    "            break\n",
    "    \n",
    "    if DV < a/2 and DV > -a/2:\n",
    "        print(f'DV value is {DV}')\n",
    "        simulate_ddm(v, a, dt)\n",
    "    \n",
    "    return  t*dt, c\n",
    "\n",
    "\n",
    "v = 0.7\n",
    "a = 2\n",
    "dt = 1e-4\n",
    "t_max = int(7/dt)\n",
    "N_sim = 25000\n",
    "choices = np.zeros((N_sim))\n",
    "rts = np.zeros((N_sim))\n",
    "\n",
    "from tqdm import tqdm\n",
    "\n",
    "for i in tqdm(range(N_sim)):\n",
    "    result = simulate_ddm(v, a, dt)\n",
    "    rts[i] = result[0]\n",
    "    choices[i] = result[1]\n"
   ]
  },
  {
   "cell_type": "code",
   "execution_count": 9,
   "metadata": {},
   "outputs": [],
   "source": [
    "choices_np = np.array(choices); rts_np = np.array(rts);\n",
    "upp_bound_idx = np.where(choices_np == 1)[0]\n",
    "upp_bound_rt = rts_np[upp_bound_idx]\n",
    "\n",
    "low_bound_idx = np.where(choices_np == -1)[0]\n",
    "low_bound_rt = rts_np[low_bound_idx]"
   ]
  },
  {
   "cell_type": "code",
   "execution_count": 14,
   "metadata": {},
   "outputs": [],
   "source": [
    "def bads_ea_neg_loglike_fn(params):\n",
    "    v,a,z = params\n",
    "    \n",
    "\n",
    "    t_pts = upp_bound_rt\n",
    "    theory_up = np.array([rho_E_minus_t_fn(t, -v, a/2, 50, 0, -z, 0) for t in t_pts])/(len(upp_bound_idx)/N_sim)\n",
    "\n",
    "    t_pts = low_bound_rt\n",
    "    theory_down = np.array([rho_E_minus_t_fn(t, v, a/2, 50, 0, z, 0) for t in t_pts])/(len(low_bound_idx)/N_sim)\n",
    "\n",
    "    return -(np.sum(np.log(theory_up)) + np.sum(np.log(theory_down)))"
   ]
  },
  {
   "cell_type": "code",
   "execution_count": 17,
   "metadata": {},
   "outputs": [
    {
     "name": "stdout",
     "output_type": "stream",
     "text": [
      "v = 0.692, a = 2.009, z = 0.001\n"
     ]
    }
   ],
   "source": [
    "v_bounds = [0.1, 3]; v_plausible_bounds = [0.2, 1]\n",
    "a_bounds = [1,3]; a_plausible_bounds = [1.5, 2.5]\n",
    "z_bounds = [-0.9, 0.9]; z_plausible_bounds = [-0.5, 0.5]\n",
    "\n",
    "lb = np.array([v_bounds[0], a_bounds[0], z_bounds[0]])\n",
    "ub = np.array([v_bounds[1], a_bounds[1], z_bounds[1]])\n",
    "plb = np.array([v_plausible_bounds[0], a_plausible_bounds[0], z_plausible_bounds[0]])\n",
    "pub = np.array([v_plausible_bounds[1], a_plausible_bounds[1], z_plausible_bounds[1]])\n",
    "\n",
    "v_0 = np.random.uniform(plb[0], pub[0])\n",
    "a_0 = np.random.uniform(plb[1], pub[1])\n",
    "z_0 = np.random.uniform(plb[2], pub[2])\n",
    "\n",
    "x0 = np.array([v_0, a_0, z_0]);\n",
    "\n",
    "\n",
    "options = {'display': 'off'}\n",
    "bads = BADS(bads_ea_neg_loglike_fn, x0, lb, ub, plb, pub, options=options)\n",
    "optimize_result = bads.optimize()\n",
    "x_min = optimize_result['x']\n",
    "print(f'v = {x_min[0]:.3f}, a = {x_min[1]:.3f}, z = {x_min[2]:.3f}')"
   ]
  },
  {
   "cell_type": "code",
   "execution_count": 19,
   "metadata": {},
   "outputs": [
    {
     "name": "stdout",
     "output_type": "stream",
     "text": [
      "True params likelihood = 17857.428586494272\n",
      "BADS est likelihood = 17854.96368788252\n"
     ]
    }
   ],
   "source": [
    "print(f'True params likelihood = {bads_ea_neg_loglike_fn([v,a,0])}')\n",
    "print(f'BADS est likelihood = {bads_ea_neg_loglike_fn(x_min)}')"
   ]
  },
  {
   "cell_type": "markdown",
   "metadata": {},
   "source": [
    "# DV Btn x1 and x2"
   ]
  },
  {
   "cell_type": "code",
   "execution_count": 2,
   "metadata": {},
   "outputs": [
    {
     "name": "stderr",
     "output_type": "stream",
     "text": [
      "100%|██████████| 5000/5000 [00:43<00:00, 114.45it/s]\n"
     ]
    }
   ],
   "source": [
    "def simulate_ddm(v, a, dt):\n",
    "    t_max = int(7/dt)\n",
    "    \n",
    "    dB = dt**0.5 \n",
    "    DV_arr = np.full((t_max), np.nan)\n",
    "\n",
    "    DV = 0\n",
    "    DV_arr[0] = DV\n",
    "    # DV_arr = []\n",
    "    # DV_arr.append(DV)\n",
    "    for t in range(1,t_max):\n",
    "        DV += v*dt + np.random.normal(0, dB)\n",
    "        DV_arr[t] = DV\n",
    "        # DV_arr.append(DV)\n",
    "        if DV >= a/2:\n",
    "            break\n",
    "        elif DV <= -a/2:\n",
    "            break\n",
    "    \n",
    "    if DV < a/2 and DV > -a/2:\n",
    "        print(f'DV value is {DV}')\n",
    "        raise ValueError('Simulation failed')\n",
    "    \n",
    "    return  DV_arr\n",
    "\n",
    "v = 1.2\n",
    "a = 2\n",
    "dt = 1e-4\n",
    "t_max = int(7/dt)\n",
    "N_sim = 5000\n",
    "sim_results = np.zeros((N_sim, t_max))\n",
    "\n",
    "from tqdm import tqdm\n",
    "\n",
    "for i in tqdm(range(N_sim)):\n",
    "    result = simulate_ddm(v, a, dt)\n",
    "    sim_results[i,:] = result\n"
   ]
  },
  {
   "cell_type": "code",
   "execution_count": 3,
   "metadata": {},
   "outputs": [],
   "source": [
    "t_pts = np.linspace(0.0001, 7, t_max)\n",
    "\n",
    "prob_data = np.zeros((t_max))\n",
    "for t in range(1, t_max):\n",
    "    # remove the nan. if at \"t\" upper bound is reached, then from t+1 to end of array \"nans\" are filled\n",
    "    cleaned_data = sim_results[:,t][~np.isnan(sim_results[:,t])]\n",
    "    # In how many simulations, is the DV between starting point and upper threshold\n",
    "    count_between_0_and_1 = np.sum((cleaned_data >= 0) & (cleaned_data <= 1))\n",
    "    # count_between_0_and_1 = np.sum((cleaned_data >= -1) & (cleaned_data <= 0))\n",
    "\n",
    "    # Prob that at time 't' DV = Num of simulations in which DV is between starting pt and upper threshold / Total num of simulations \n",
    "    prob_data[t] = count_between_0_and_1 / N_sim\n"
   ]
  },
  {
   "cell_type": "code",
   "execution_count": 11,
   "metadata": {},
   "outputs": [],
   "source": [
    "from psiam_utils import P_small_t_btn_1_2\n",
    "\n",
    "def bads_btn_loglike_fn(params):\n",
    "    V_E,Z = params\n",
    "    theta_E = 1\n",
    "    K_max = 20\n",
    "    P_EA_btn = np.zeros((len(t_pts)))\n",
    "    for i in range(len(t_pts)):\n",
    "        t = t_pts[i]\n",
    "        p = P_large_t_btn_1_2(1, 2, t, V_E, theta_E, Z, K_max, 0)\n",
    "        # p = P_small_t_btn_1_2(t, V_E, theta_E, Z, K_max, 0)\n",
    "        if p <= 0:\n",
    "            p = 1e-9\n",
    "        if np.isnan(p):\n",
    "            raise ValueError(f'p is nan. Params={[V_E,theta_E,Z,t]}')\n",
    "        \n",
    "            \n",
    "        P_EA_btn[i] = p\n",
    "\n",
    "    P_EA_btn = np.array(P_EA_btn)\n",
    "    \n",
    "\n",
    "    return np.sum((prob_data - P_EA_btn)**2)*(1/len(P_EA_btn))"
   ]
  },
  {
   "cell_type": "code",
   "execution_count": 14,
   "metadata": {},
   "outputs": [
    {
     "name": "stdout",
     "output_type": "stream",
     "text": [
      "True: v=1.2, theta = 1.0 z = 0\n"
     ]
    }
   ],
   "source": [
    "v_bounds = [0.1, 2]; v_plausible_bounds = [0.2, 1.6]\n",
    "a_bounds = [0.1, 2]; a_plausible_bounds = [0.5, 1.5] # theta here\n",
    "z_bounds = [-0.5, 0.5]; z_plausible_bounds = [-0.3, 0.3]\n",
    "\n",
    "# lb = np.array([v_bounds[0], a_bounds[0], z_bounds[0]])\n",
    "# ub = np.array([v_bounds[1], a_bounds[1], z_bounds[1]])\n",
    "# plb = np.array([v_plausible_bounds[0], a_plausible_bounds[0], z_plausible_bounds[0]])\n",
    "# pub = np.array([v_plausible_bounds[1], a_plausible_bounds[1], z_plausible_bounds[1]])\n",
    "\n",
    "lb = np.array([v_bounds[0], z_bounds[0]])\n",
    "ub = np.array([v_bounds[1], z_bounds[1]])\n",
    "plb = np.array([v_plausible_bounds[0], z_plausible_bounds[0]])\n",
    "pub = np.array([v_plausible_bounds[1], z_plausible_bounds[1]])\n",
    "\n",
    "v_0 = np.random.uniform(plb[0], pub[0])\n",
    "# a_0 = np.random.uniform(plb[1], pub[1])\n",
    "z_0 = np.random.uniform(plb[1], pub[1])\n",
    "\n",
    "x0 = np.array([v_0,  z_0]);\n",
    "\n",
    "\n",
    "options = {'display': 'off'}\n",
    "bads = BADS(bads_btn_loglike_fn, x0, lb, ub, plb, pub, options=options)\n",
    "optimize_result = bads.optimize()\n",
    "x_min = optimize_result['x']\n",
    "# print(f'BADS: v = {x_min[0]:.3f}, theta = {x_min[1]:.3f}, z = {x_min[2]:.3f}')\n",
    "print(f'True: v={v}, theta = {a/2} z = {0}')"
   ]
  },
  {
   "cell_type": "code",
   "execution_count": 15,
   "metadata": {},
   "outputs": [
    {
     "data": {
      "text/plain": [
       "array([1.12526567, 0.00139539])"
      ]
     },
     "execution_count": 15,
     "metadata": {},
     "output_type": "execute_result"
    }
   ],
   "source": [
    "x_min"
   ]
  },
  {
   "cell_type": "code",
   "execution_count": 9,
   "metadata": {},
   "outputs": [
    {
     "name": "stdout",
     "output_type": "stream",
     "text": [
      "Err with true params = 1.2490716207029107e-05\n",
      "Err with BADS params = 1.0499221336388876e-05\n"
     ]
    }
   ],
   "source": [
    "print(f'Err with true params = {bads_btn_loglike_fn([v,a/2,0])}')\n",
    "print(f'Err with BADS params = {bads_btn_loglike_fn(x_min)}')"
   ]
  },
  {
   "cell_type": "code",
   "execution_count": null,
   "metadata": {},
   "outputs": [],
   "source": [
    "# large, K_max = 100"
   ]
  },
  {
   "cell_type": "code",
   "execution_count": 25,
   "metadata": {},
   "outputs": [],
   "source": [
    "def P_small_t_btn_1_2_CUSTOM(t, V_E, theta_E, Z, n_max, t_stim):\n",
    "    \"\"\"\n",
    "    Integration of P_small(x,t) with x from 1,2\n",
    "    \"\"\"\n",
    "    v = V_E\n",
    "    a = 2*theta_E\n",
    "    mu = v*theta_E\n",
    "    z = a * (Z + theta_E)/(2*theta_E)\n",
    "    \n",
    "    if t <= t_stim:\n",
    "        return 0\n",
    "    else:\n",
    "        t = t - t_stim\n",
    "\n",
    "    result = 0\n",
    "    \n",
    "    sqrt_t = np.sqrt(t)\n",
    "    \n",
    "    for n in range(-n_max, n_max + 1):\n",
    "        term1 = np.exp(4 * mu * n) * (\n",
    "            Phi((2 - (z + 4 * n + mu * t)) / sqrt_t) -\n",
    "            Phi((1 - (z + 4 * n + mu * t)) / sqrt_t)\n",
    "        )\n",
    "        \n",
    "        term2 = np.exp(2 * mu * (2 * (1 - n) - z)) * (\n",
    "            Phi((2 - (-z + 4 * (1 - n) + mu * t)) / sqrt_t) -\n",
    "            Phi((1 - (-z + 4 * (1 - n) + mu * t)) / sqrt_t)\n",
    "        )\n",
    "\n",
    "        if np.isnan(term1):\n",
    "            print(\"term1 is NaN\")\n",
    "        \n",
    "        if np.isnan(term2):\n",
    "            print(\"term2 is NaN\")\n",
    "        \n",
    "        result += term1 - term2\n",
    "    \n",
    "    return result\n"
   ]
  },
  {
   "cell_type": "code",
   "execution_count": 39,
   "metadata": {},
   "outputs": [
    {
     "data": {
      "text/plain": [
       "-0.014663879292970366"
      ]
     },
     "execution_count": 39,
     "metadata": {},
     "output_type": "execute_result"
    }
   ],
   "source": [
    "# P_small_t_btn_1_2(0.0001, 1.81, 2.16, 0.38, 50, 0)\n",
    "P_small_t_btn_1_2_CUSTOM(0.001, 1.81, 2.16, 0.38, 30, 0)\n",
    "# P_small_t_btn_1_2(0.0001, 0.5, 1, 0, 50, 0)\n"
   ]
  },
  {
   "cell_type": "code",
   "execution_count": 4,
   "metadata": {},
   "outputs": [
    {
     "name": "stdout",
     "output_type": "stream",
     "text": [
      "Est. V_A = 1.4999999999883586, True V_A = 1\n",
      "Est. theta_A = 1.710153133160202, True theta_A = 2\n",
      "Est. V_E = 0.00017448158469052233, True V_E = 0.5\n",
      "Est. theta_E = 2.0, True theta_E = 1\n",
      "Est. Z = -0.00027932946104556325, True Z = 0\n"
     ]
    }
   ],
   "source": [
    "# V_A: 1 # theta_A: 2 # V_E: 0.5 # theta_E: 1 # Z = 0\n",
    "# V_A_bounds = [0.1, 3]; V_A_plausible_bounds = [0.5, 1.5]\n",
    "# theta_A_bounds = [1, 3]; theta_A_plausible_bounds = [1.5, 2.5]\n",
    "# V_E_bounds = [-5, 5]; V_E_plausible_bounds = [-2, 2]\n",
    "# theta_E_bounds = [0.1, 5]; theta_E_plausible_bounds = [0.5,1.5]\n",
    "# Z_bounds = [-0.5, 0.5]; Z_plausible_bounds = [-0.2, 0.2]\n",
    "\n",
    "V_A_bounds = [0.5, 1.5]; V_A_plausible_bounds = [0.7, 1.3]\n",
    "theta_A_bounds = [1.5, 2.5]; theta_A_plausible_bounds = [1.7, 2.2]\n",
    "V_E_bounds = [0, 1]; V_E_plausible_bounds = [0.2, 0.7]\n",
    "theta_E_bounds = [0.1, 2]; theta_E_plausible_bounds = [0.5,1.5]\n",
    "Z_bounds = [-0.2, 0.2]; Z_plausible_bounds = [-0.1, 0.1]\n",
    "\n",
    "lb = np.array([V_A_bounds[0], theta_A_bounds[0], V_E_bounds[0], theta_E_bounds[0], Z_bounds[0]])\n",
    "ub = np.array([V_A_bounds[1], theta_A_bounds[1], V_E_bounds[1], theta_E_bounds[1], Z_bounds[1]])\n",
    "plb = np.array([V_A_plausible_bounds[0], theta_A_plausible_bounds[0], V_E_plausible_bounds[0], theta_E_plausible_bounds[0], Z_plausible_bounds[0]])\n",
    "pub = np.array([V_A_plausible_bounds[1], theta_A_plausible_bounds[1], V_E_plausible_bounds[1], theta_E_plausible_bounds[1], Z_plausible_bounds[1]])\n",
    "\n",
    "\n",
    "V_A_0 = np.random.uniform(plb[0], pub[0])\n",
    "theta_A_0 =  np.random.uniform(plb[1], pub[1])\n",
    "V_E_0 = np.random.uniform(plb[2], pub[2])\n",
    "theta_E_0 = np.random.uniform(plb[3], pub[3])\n",
    "Z_0 = np.random.uniform(plb[4], pub[4])\n",
    "\n",
    "x0 = np.array([V_A_0, theta_A_0, V_E_0, theta_E_0, Z_0]);\n",
    "\n",
    "options = {'display': 'off'}\n",
    "bads = BADS(psiam_ai_loglike, x0, lb, ub, plb, pub, options=options)\n",
    "optimize_result = bads.optimize()\n",
    "x_min = optimize_result['x']\n",
    "\n",
    "\n",
    "# V_A: 1 # theta_A: 2 # V_E: 0.5 # theta_E: 1 # Z = 0\n",
    "print(f'Est. V_A = {x_min[0]}, True V_A = {V_A}')\n",
    "print(f'Est. theta_A = {x_min[1]}, True theta_A = {theta_A}')\n",
    "print(f'Est. V_E = {x_min[2]}, True V_E = {V_E}')\n",
    "print(f'Est. theta_E = {x_min[3]}, True theta_E = {theta_E}')\n",
    "print(f'Est. Z = {x_min[4]}, True Z = {Z_E}')"
   ]
  }
 ],
 "metadata": {
  "kernelspec": {
   "display_name": "Python 3",
   "language": "python",
   "name": "python3"
  },
  "language_info": {
   "codemirror_mode": {
    "name": "ipython",
    "version": 3
   },
   "file_extension": ".py",
   "mimetype": "text/x-python",
   "name": "python",
   "nbconvert_exporter": "python",
   "pygments_lexer": "ipython3",
   "version": "3.10.-1"
  }
 },
 "nbformat": 4,
 "nbformat_minor": 2
}
