{
 "cells": [
  {
   "cell_type": "code",
   "execution_count": 2,
   "metadata": {},
   "outputs": [],
   "source": [
    "import torch\n",
    "import pyro\n",
    "import pyro.distributions as dist\n",
    "from pyro.infer import MCMC, NUTS\n"
   ]
  },
  {
   "cell_type": "code",
   "execution_count": 3,
   "metadata": {},
   "outputs": [],
   "source": [
    "from ddm_utils import simulate_ddm, parse_sim_results\n",
    "from joblib import Parallel, delayed\n",
    "import pickle\n",
    "import numpy as np"
   ]
  },
  {
   "cell_type": "markdown",
   "metadata": {},
   "source": [
    "# simuldate data and make it torch tensor"
   ]
  },
  {
   "cell_type": "code",
   "execution_count": 4,
   "metadata": {},
   "outputs": [],
   "source": [
    "N_sim = 100; true_v = 0.2; true_a = 2; true_w = 0.5; true_params = [true_v, true_a, true_w]\n",
    "\n",
    "sim_results = Parallel(n_jobs=-1)(delayed(simulate_ddm)(true_v, true_a) for _ in range(N_sim))\n",
    "choices, RTs = parse_sim_results(sim_results)\n",
    "with open('sample_rt.pkl', 'wb') as f:\n",
    "    pickle.dump(RTs, f)\n",
    "with open('sample_choice.pkl', 'wb') as f:\n",
    "    pickle.dump(choices, f)"
   ]
  },
  {
   "cell_type": "code",
   "execution_count": 13,
   "metadata": {},
   "outputs": [],
   "source": [
    "def rtd_density_a_NUTS_pyro(t, v, a, w, K_max=10):\n",
    "    if t > 0.25:\n",
    "        non_sum_term = (torch.pi / a**2) * torch.exp(-v * a * w - (v**2 * t / 2))\n",
    "        k_vals = torch.linspace(1, K_max, K_max, device=t.device)\n",
    "        sum_sine_term = torch.sin(k_vals * torch.pi * w)\n",
    "        sum_exp_term = torch.exp(-(k_vals**2 * torch.pi**2 * t) / (2 * a**2))\n",
    "        sum_result = torch.sum(k_vals * sum_sine_term * sum_exp_term)\n",
    "    else:\n",
    "        non_sum_term = (1 / a**2) * (a**3 / torch.sqrt(2 * torch.pi * t**3)) * torch.exp(-v * a * w - (v**2 * t) / 2)\n",
    "        K_max = int(K_max / 2)\n",
    "        k_vals = torch.linspace(-K_max, K_max, 2 * K_max + 1, device=t.device)\n",
    "        sum_w_term = w + 2 * k_vals\n",
    "        sum_exp_term = torch.exp(-(a**2 * (w + 2 * k_vals)**2) / (2 * t))\n",
    "        sum_result = torch.sum(sum_w_term * sum_exp_term)\n",
    "\n",
    "    density = non_sum_term * sum_result\n",
    "    return density"
   ]
  },
  {
   "cell_type": "code",
   "execution_count": 16,
   "metadata": {},
   "outputs": [
    {
     "name": "stderr",
     "output_type": "stream",
     "text": [
      "Sample: 100%|██████████| 10500/10500 [1:09:42,  2.51it/s, step size=6.82e-01, acc. prob=0.914]\n"
     ]
    }
   ],
   "source": [
    "\n",
    "\n",
    "def potential_fn(params):\n",
    "    v = params['v']\n",
    "    a = params['a']\n",
    "    w = params['w']\n",
    "\n",
    "\n",
    "    with open('sample_choice.pkl', 'rb') as f:\n",
    "        choices = pickle.load(f)\n",
    "    with open('sample_rt.pkl', 'rb') as f:\n",
    "        RTs = pickle.load(f)\n",
    "    \n",
    "    choices = torch.tensor(choices, dtype=torch.float32)\n",
    "    RTs = torch.tensor(RTs, dtype=torch.float32)\n",
    "\n",
    "    choices_pos = torch.where(choices == 1)[0]\n",
    "    choices_neg = torch.where(choices == -1)[0]\n",
    "\n",
    "    RTs_pos = RTs[choices_pos]\n",
    "    RTs_neg = RTs[choices_neg]\n",
    "\n",
    "    prob_pos = torch.zeros_like(RTs_pos)\n",
    "    prob_neg = torch.zeros_like(RTs_neg)\n",
    "\n",
    "    for idx,t in enumerate(RTs_pos):\n",
    "        prob_pos[idx] = rtd_density_a_NUTS_pyro(t, -v, a, 1 - w)\n",
    "\n",
    "    for idx,t in enumerate(RTs_neg):\n",
    "        prob_neg[idx] = rtd_density_a_NUTS_pyro(t, v, a, w)\n",
    "\n",
    "    # prob_pos = torch.stack([rtd_density_a_NUTS_pyro(t, -v, a, 1 - w) for t in RTs_pos])\n",
    "    # prob_neg = torch.stack([rtd_density_a_NUTS_pyro(t, v, a, w) for t in RTs_neg])\n",
    "\n",
    "    log_pos = torch.log(prob_pos)\n",
    "    log_neg = torch.log(prob_neg)\n",
    "\n",
    "    sum_loglike = torch.sum(log_pos) + torch.sum(log_neg)\n",
    "\n",
    "    # priors\n",
    "    v_prior = dist.Uniform(-5., 5.)\n",
    "    a_prior = dist.Uniform(1., 3.)\n",
    "    w_prior = dist.Uniform(0.3, 0.7)\n",
    "\n",
    "    log_prior = v_prior.log_prob(v) + a_prior.log_prob(a) + w_prior.log_prob(w)\n",
    "\n",
    "    total_log_prob = -(sum_loglike + log_prior)\n",
    "\n",
    "    return total_log_prob\n",
    "\n",
    "init_v = torch.tensor(np.random.uniform(-5, 5))\n",
    "init_a = torch.tensor(np.random.uniform(1, 3))\n",
    "init_w = torch.tensor(np.random.uniform(0.3, 0.7))\n",
    "\n",
    "initial_params = {\n",
    "    \"v\": init_v,\n",
    "    \"a\": init_a,\n",
    "    \"w\": init_w,\n",
    "}\n",
    "\n",
    "\n",
    "# Create NUTS kernel\n",
    "nuts_kernel = NUTS(potential_fn=potential_fn)\n",
    "\n",
    "# Create MCMC object\n",
    "mcmc = MCMC(\n",
    "    nuts_kernel,\n",
    "    num_samples=10000,\n",
    "    warmup_steps=500,\n",
    "    num_chains=1,\n",
    "    initial_params=initial_params\n",
    ")\n",
    "\n",
    "# Run MCMC\n",
    "mcmc.run()\n",
    "\n",
    "# Get samples\n",
    "samples = mcmc.get_samples()\n"
   ]
  }
 ],
 "metadata": {
  "kernelspec": {
   "display_name": "Python 3",
   "language": "python",
   "name": "python3"
  },
  "language_info": {
   "codemirror_mode": {
    "name": "ipython",
    "version": 3
   },
   "file_extension": ".py",
   "mimetype": "text/x-python",
   "name": "python",
   "nbconvert_exporter": "python",
   "pygments_lexer": "ipython3",
   "version": "3.10.12"
  }
 },
 "nbformat": 4,
 "nbformat_minor": 2
}
