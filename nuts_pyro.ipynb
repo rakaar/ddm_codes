{
 "cells": [
  {
   "cell_type": "code",
   "execution_count": null,
   "metadata": {},
   "outputs": [],
   "source": [
    "import pyro"
   ]
  },
  {
   "cell_type": "code",
   "execution_count": null,
   "metadata": {},
   "outputs": [],
   "source": [
    "import torch"
   ]
  },
  {
   "cell_type": "code",
   "execution_count": null,
   "metadata": {},
   "outputs": [],
   "source": [
    "true_coefs = torch.tensor([1., 2., 3.])"
   ]
  },
  {
   "cell_type": "code",
   "execution_count": null,
   "metadata": {},
   "outputs": [],
   "source": [
    "data = torch.randn(2000, 3)"
   ]
  },
  {
   "cell_type": "code",
   "execution_count": null,
   "metadata": {},
   "outputs": [],
   "source": [
    "dim = 3"
   ]
  },
  {
   "cell_type": "code",
   "execution_count": null,
   "metadata": {},
   "outputs": [],
   "source": [
    "import pyro.distributions as dist"
   ]
  },
  {
   "cell_type": "code",
   "execution_count": null,
   "metadata": {},
   "outputs": [],
   "source": [
    "labels = dist.Bernoulli(logits=(true_coefs * data).sum(-1)).sample()"
   ]
  },
  {
   "cell_type": "code",
   "execution_count": null,
   "metadata": {},
   "outputs": [],
   "source": [
    "((true_coefs * data).sum(-1)).shape"
   ]
  },
  {
   "cell_type": "code",
   "execution_count": null,
   "metadata": {},
   "outputs": [],
   "source": [
    "coefs_mean = torch.zeros(dim)\n",
    "coefs_mean"
   ]
  },
  {
   "cell_type": "code",
   "execution_count": null,
   "metadata": {},
   "outputs": [],
   "source": [
    "coefs = pyro.sample('beta', dist.Normal(coefs_mean, torch.ones(3)))\n"
   ]
  },
  {
   "cell_type": "code",
   "execution_count": null,
   "metadata": {},
   "outputs": [],
   "source": [
    "coefs # random coeffs sampled from beta distr"
   ]
  },
  {
   "cell_type": "code",
   "execution_count": null,
   "metadata": {},
   "outputs": [],
   "source": [
    "y = pyro.sample('y', dist.Bernoulli(logits=(coefs * data).sum(-1)), obs=labels)"
   ]
  },
  {
   "cell_type": "code",
   "execution_count": null,
   "metadata": {},
   "outputs": [],
   "source": [
    "y[1:100]"
   ]
  },
  {
   "cell_type": "code",
   "execution_count": null,
   "metadata": {},
   "outputs": [],
   "source": [
    "labels[1:100]"
   ]
  },
  {
   "cell_type": "code",
   "execution_count": null,
   "metadata": {},
   "outputs": [],
   "source": [
    "(labels == y).sum()"
   ]
  },
  {
   "cell_type": "code",
   "execution_count": null,
   "metadata": {},
   "outputs": [],
   "source": [
    "y.shape"
   ]
  },
  {
   "cell_type": "markdown",
   "metadata": {},
   "source": [
    "# Random Normal Data"
   ]
  },
  {
   "cell_type": "code",
   "execution_count": null,
   "metadata": {},
   "outputs": [],
   "source": [
    "import pyro\n",
    "import pyro.distributions as dist\n",
    "from pyro.infer import MCMC, NUTS\n",
    "import torch\n",
    "import numpy as np"
   ]
  },
  {
   "cell_type": "code",
   "execution_count": null,
   "metadata": {},
   "outputs": [],
   "source": [
    "data = torch.randn(1000)"
   ]
  },
  {
   "cell_type": "code",
   "execution_count": null,
   "metadata": {},
   "outputs": [],
   "source": [
    "def custom_likelihood(data, params):\n",
    "    # Ensure data is a PyTorch tensor\n",
    "    mu, sigma = params\n",
    "    if sigma <= 0:\n",
    "        raise ValueError(\"Sigma must be positive.\")\n",
    "\n",
    "    n = data.shape[0]\n",
    "    log_likelihood = -n / 2 * torch.log(torch.tensor(2 * torch.pi)) - n * torch.log(sigma) - (1 / (2 * sigma**2)) * torch.sum((data - mu)**2)\n",
    "    if torch.isnan(log_likelihood) or torch.isinf(log_likelihood):\n",
    "        raise ValueError(\"Log-likelihood is NaN or infinite.\")\n",
    "\n",
    "    return log_likelihood\n",
    "\n",
    "\n",
    "\n",
    "def model(data):\n",
    "    # Prior distributions for parameters\n",
    "    mu = pyro.sample(\"mu\", dist.Normal(-0.5, 0.5))\n",
    "    sigma = pyro.sample(\"sigma\", dist.LogNormal(1.8, 2.2))\n",
    "    print(f'Sampled mu: {mu}, sigma: {sigma}')\n",
    "    log_likelihood = custom_likelihood(data, (mu, sigma))\n",
    "\n",
    "    print(f'Log Likelihood: {log_likelihood}')\n",
    "\n",
    "    pyro.sample(\"obs\", dist.Delta(log_likelihood), obs=data)\n",
    "\n",
    "nuts_kernel = NUTS(model, adapt_step_size=True)\n",
    "\n",
    "mcmc = MCMC(nuts_kernel, num_samples=1000, warmup_steps=200)\n",
    "mcmc.run(data)\n"
   ]
  },
  {
   "cell_type": "markdown",
   "metadata": {},
   "source": [
    "# define using potential func"
   ]
  },
  {
   "cell_type": "code",
   "execution_count": 27,
   "metadata": {},
   "outputs": [],
   "source": [
    "import torch\n",
    "\n",
    "# Generate 1000 samples from a standard normal distribution\n",
    "data = torch.normal(mean=0, std=2.5, size=(1000,))\n"
   ]
  },
  {
   "cell_type": "code",
   "execution_count": 2,
   "metadata": {},
   "outputs": [],
   "source": [
    "import pyro\n",
    "import pyro.distributions as dist\n",
    "from pyro.infer import MCMC, NUTS\n"
   ]
  },
  {
   "cell_type": "code",
   "execution_count": 30,
   "metadata": {},
   "outputs": [
    {
     "name": "stderr",
     "output_type": "stream",
     "text": [
      "Warmup:   0%|          | 0/10500 [00:00, ?it/s]"
     ]
    },
    {
     "name": "stderr",
     "output_type": "stream",
     "text": [
      "Sample: 100%|██████████| 10500/10500 [00:45, 228.50it/s, step size=8.53e-01, acc. prob=0.917]\n"
     ]
    }
   ],
   "source": [
    "def potential_fn(params):\n",
    "    # mean and sigma should be torch tensors check that\n",
    "    assert isinstance(params[\"mean\"], torch.Tensor)\n",
    "    assert isinstance(params[\"sigma\"], torch.Tensor)\n",
    "\n",
    "    mu = params[\"mean\"]\n",
    "    sigma = params[\"sigma\"]\n",
    "\n",
    "    # Prior for mean and std\n",
    "    mean_prior = dist.Uniform(-1., 1.)\n",
    "    sigma_prior = dist.Uniform(0.5, 5.)\n",
    "\n",
    "    # Compute the log probability of the priors\n",
    "    log_prior = mean_prior.log_prob(mu) + sigma_prior.log_prob(sigma)\n",
    "\n",
    "    # Compute the log likelihood\n",
    "    n = data.shape[0]\n",
    "    log_likelihood = -n / 2 * torch.log(torch.tensor(2 * torch.pi)) - n * torch.log(sigma) - (1 / (2 * sigma**2)) * torch.sum((data - mu)**2)\n",
    "\n",
    "    # Compute the negative log posterior (potential energy)\n",
    "    return -(log_prior + log_likelihood)\n",
    "\n",
    "\n",
    "nuts_kernel = NUTS(potential_fn=potential_fn)\n",
    "initial_params = {\n",
    "    \"mean\": torch.tensor(0.),\n",
    "    \"sigma\": torch.tensor(1.)\n",
    "}\n",
    "\n",
    "mcmc = MCMC(\n",
    "    nuts_kernel,\n",
    "    num_samples=10000,\n",
    "    warmup_steps=500,\n",
    "    num_chains = 1,\n",
    "    initial_params=initial_params\n",
    ")\n",
    "\n",
    "mcmc.run()"
   ]
  },
  {
   "cell_type": "code",
   "execution_count": 31,
   "metadata": {},
   "outputs": [],
   "source": [
    "samples = mcmc.get_samples()"
   ]
  },
  {
   "cell_type": "code",
   "execution_count": 32,
   "metadata": {},
   "outputs": [],
   "source": [
    "mean_tensor, sigma_tensor  = samples['mean'], samples['sigma']\n",
    "# convert torch to numpy arrs\n",
    "mean_arr = mean_tensor.detach().numpy()\n",
    "sigma_arr = sigma_tensor.detach().numpy()"
   ]
  },
  {
   "cell_type": "code",
   "execution_count": 36,
   "metadata": {},
   "outputs": [
    {
     "data": {
      "image/png": "[encoded data removed]",
      "text/plain": [
       "<Figure size 1200x500 with 2 Axes>"
      ]
     },
     "metadata": {},
     "output_type": "display_data"
    }
   ],
   "source": [
    "import matplotlib.pyplot as plt\n",
    "import numpy as np\n",
    "plt.figure(figsize=(12, 5))\n",
    "plt.subplot(1,2,1)\n",
    "plt.hist(mean_arr); plt.title(f'mean ={np.mean(mean_arr): .2f}')\n",
    "plt.subplot(1,2,2)\n",
    "plt.hist(sigma_arr); plt.title(f'sigma ={np.mean(sigma_arr) : .2f}');"
   ]
  },
  {
   "cell_type": "markdown",
   "metadata": {},
   "source": [
    "# Move to CUDA?"
   ]
  },
  {
   "cell_type": "code",
   "execution_count": 41,
   "metadata": {},
   "outputs": [],
   "source": [
    "import torch\n",
    "import pyro\n",
    "import pyro.distributions as dist\n",
    "from pyro.infer import MCMC, NUTS\n",
    "\n",
    "\n",
    "# Generate 1000 samples from a standard normal distribution\n",
    "data = torch.normal(mean=0, std=2.5, size=(1000,))\n"
   ]
  },
  {
   "cell_type": "code",
   "execution_count": 42,
   "metadata": {},
   "outputs": [
    {
     "name": "stderr",
     "output_type": "stream",
     "text": [
      "Sample: 100%|██████████| 10500/10500 [00:49, 213.50it/s, step size=8.94e-01, acc. prob=0.923]\n"
     ]
    }
   ],
   "source": [
    "def potential_fn(params):\n",
    "    # mean and sigma should be torch tensors check that\n",
    "    assert isinstance(params[\"mean\"], torch.Tensor)\n",
    "    assert isinstance(params[\"sigma\"], torch.Tensor)\n",
    "\n",
    "    mu = params[\"mean\"]\n",
    "    sigma = params[\"sigma\"]\n",
    "\n",
    "    # Prior for mean and std\n",
    "    mean_prior = dist.Uniform(-1., 1.)\n",
    "    sigma_prior = dist.Uniform(0.5, 5.)\n",
    "\n",
    "    # Compute the log probability of the priors\n",
    "    log_prior = mean_prior.log_prob(mu) + sigma_prior.log_prob(sigma)\n",
    "\n",
    "    # Compute the log likelihood\n",
    "    n = data.shape[0]\n",
    "    log_likelihood = -n / 2 * torch.log(torch.tensor(2 * torch.pi)) - n * torch.log(sigma) - (1 / (2 * sigma**2)) * torch.sum((data - mu)**2)\n",
    "\n",
    "    # Compute the negative log posterior (potential energy)\n",
    "    return -(log_prior + log_likelihood)\n",
    "\n",
    "\n",
    "nuts_kernel = NUTS(potential_fn=potential_fn)\n",
    "initial_params = {\n",
    "    \"mean\": torch.tensor(0.),\n",
    "    \"sigma\": torch.tensor(1.)\n",
    "}\n",
    "\n",
    "mcmc = MCMC(\n",
    "    nuts_kernel,\n",
    "    num_samples=10000,\n",
    "    warmup_steps=500,\n",
    "    num_chains = 1,\n",
    "    initial_params=initial_params\n",
    ")\n",
    "\n",
    "mcmc.run()"
   ]
  }
 ],
 "metadata": {
  "kernelspec": {
   "display_name": "Python 3",
   "language": "python",
   "name": "python3"
  },
  "language_info": {
   "codemirror_mode": {
    "name": "ipython",
    "version": 3
   },
   "file_extension": ".py",
   "mimetype": "text/x-python",
   "name": "python",
   "nbconvert_exporter": "python",
   "pygments_lexer": "ipython3",
   "version": "3.10.12"
  }
 },
 "nbformat": 4,
 "nbformat_minor": 2
}
