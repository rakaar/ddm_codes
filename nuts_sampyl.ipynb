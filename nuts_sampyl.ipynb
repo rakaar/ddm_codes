{
 "cells": [
  {
   "cell_type": "markdown",
   "metadata": {},
   "source": [
    "# Sampyl - OLD and unmaintained"
   ]
  },
  {
   "cell_type": "code",
   "execution_count": 1,
   "metadata": {},
   "outputs": [],
   "source": [
    "from sampyl import NUTS\n",
    "import numpy as np\n",
    "\n",
    "import corner\n",
    "import matplotlib.pyplot as plt"
   ]
  },
  {
   "cell_type": "code",
   "execution_count": 2,
   "metadata": {},
   "outputs": [],
   "source": [
    "data = np.random.normal(0,1, 1000)"
   ]
  },
  {
   "cell_type": "code",
   "execution_count": 3,
   "metadata": {},
   "outputs": [],
   "source": [
    "def logp(mu, sigma):\n",
    "    print('in logp')\n",
    "    n = len(data)\n",
    "    log_likelihood = -n/2 * np.log(2 * np.pi) - n * np.log(sigma) - (1/(2 * sigma**2)) * np.sum((data - mu)**2)\n",
    "    return log_likelihood"
   ]
  },
  {
   "cell_type": "code",
   "execution_count": 4,
   "metadata": {},
   "outputs": [],
   "source": [
    "start = {'mu': 0.5,  'sigma': 0.5}"
   ]
  },
  {
   "cell_type": "code",
   "execution_count": 5,
   "metadata": {},
   "outputs": [],
   "source": [
    "nuts = NUTS(logp, start)"
   ]
  },
  {
   "cell_type": "code",
   "execution_count": 6,
   "metadata": {},
   "outputs": [
    {
     "ename": "AttributeError",
     "evalue": "module 'collections' has no attribute 'Hashable'",
     "output_type": "error",
     "traceback": [
      "\u001b[0;31m---------------------------------------------------------------------------\u001b[0m",
      "\u001b[0;31mAttributeError\u001b[0m                            Traceback (most recent call last)",
      "Cell \u001b[0;32mIn[6], line 1\u001b[0m\n\u001b[0;32m----> 1\u001b[0m chain \u001b[38;5;241m=\u001b[39m \u001b[43mnuts\u001b[49m\u001b[38;5;241;43m.\u001b[39;49m\u001b[43msample\u001b[49m\u001b[43m(\u001b[49m\u001b[38;5;241;43m1000\u001b[39;49m\u001b[43m)\u001b[49m\n",
      "File \u001b[0;32m~/code/ddm_codes/venv/lib/python3.10/site-packages/sampyl/samplers/base.py:131\u001b[0m, in \u001b[0;36mSampler.sample\u001b[0;34m(self, num, burn, thin, n_chains, progress_bar)\u001b[0m\n\u001b[1;32m    129\u001b[0m \u001b[38;5;66;03m# Start sampling, add each \u001b[39;00m\n\u001b[1;32m    130\u001b[0m \u001b[38;5;28;01mfor\u001b[39;00m i \u001b[38;5;129;01min\u001b[39;00m \u001b[38;5;28mrange\u001b[39m(num):\n\u001b[0;32m--> 131\u001b[0m     samples[i] \u001b[38;5;241m=\u001b[39m \u001b[38;5;28mtuple\u001b[39m(\u001b[38;5;28;43mnext\u001b[39;49m\u001b[43m(\u001b[49m\u001b[38;5;28;43mself\u001b[39;49m\u001b[38;5;241;43m.\u001b[39;49m\u001b[43msampler\u001b[49m\u001b[43m)\u001b[49m\u001b[38;5;241m.\u001b[39mvalues())\n\u001b[1;32m    133\u001b[0m     \u001b[38;5;28;01mif\u001b[39;00m progress_bar \u001b[38;5;129;01mand\u001b[39;00m time\u001b[38;5;241m.\u001b[39mtime() \u001b[38;5;241m-\u001b[39m start_time \u001b[38;5;241m>\u001b[39m \u001b[38;5;241m1\u001b[39m:\n\u001b[1;32m    134\u001b[0m         update_progress(i\u001b[38;5;241m+\u001b[39m\u001b[38;5;241m1\u001b[39m, num)\n",
      "File \u001b[0;32m~/code/ddm_codes/venv/lib/python3.10/site-packages/sampyl/samplers/base.py:125\u001b[0m, in \u001b[0;36m<genexpr>\u001b[0;34m(.0)\u001b[0m\n\u001b[1;32m    120\u001b[0m     \u001b[38;5;28;01mreturn\u001b[39;00m parallel(\u001b[38;5;28mself\u001b[39m, n_chains, samples,\n\u001b[1;32m    121\u001b[0m                     burn\u001b[38;5;241m=\u001b[39mburn, thin\u001b[38;5;241m=\u001b[39mthin,\n\u001b[1;32m    122\u001b[0m                     progress_bar\u001b[38;5;241m=\u001b[39mprogress_bar)\n\u001b[1;32m    124\u001b[0m \u001b[38;5;28;01mif\u001b[39;00m \u001b[38;5;28mself\u001b[39m\u001b[38;5;241m.\u001b[39msampler \u001b[38;5;129;01mis\u001b[39;00m \u001b[38;5;28;01mNone\u001b[39;00m:\n\u001b[0;32m--> 125\u001b[0m     \u001b[38;5;28mself\u001b[39m\u001b[38;5;241m.\u001b[39msampler \u001b[38;5;241m=\u001b[39m (\u001b[38;5;28;43mself\u001b[39;49m\u001b[38;5;241;43m.\u001b[39;49m\u001b[43mstep\u001b[49m\u001b[43m(\u001b[49m\u001b[43m)\u001b[49m \u001b[38;5;28;01mfor\u001b[39;00m _ \u001b[38;5;129;01min\u001b[39;00m count(start\u001b[38;5;241m=\u001b[39m\u001b[38;5;241m0\u001b[39m, step\u001b[38;5;241m=\u001b[39m\u001b[38;5;241m1\u001b[39m))\n\u001b[1;32m    127\u001b[0m start_time \u001b[38;5;241m=\u001b[39m time\u001b[38;5;241m.\u001b[39mtime() \u001b[38;5;66;03m# For progress bar\u001b[39;00m\n\u001b[1;32m    129\u001b[0m \u001b[38;5;66;03m# Start sampling, add each \u001b[39;00m\n",
      "File \u001b[0;32m~/code/ddm_codes/venv/lib/python3.10/site-packages/sampyl/samplers/NUTS.py:106\u001b[0m, in \u001b[0;36mNUTS.step\u001b[0;34m(self)\u001b[0m\n\u001b[1;32m    104\u001b[0m v \u001b[38;5;241m=\u001b[39m bern(\u001b[38;5;241m0.5\u001b[39m)\u001b[38;5;241m*\u001b[39m\u001b[38;5;241m2\u001b[39m \u001b[38;5;241m-\u001b[39m \u001b[38;5;241m1\u001b[39m\n\u001b[1;32m    105\u001b[0m \u001b[38;5;28;01mif\u001b[39;00m v \u001b[38;5;241m==\u001b[39m \u001b[38;5;241m-\u001b[39m\u001b[38;5;241m1\u001b[39m:\n\u001b[0;32m--> 106\u001b[0m     xn, rn, _, _, x1, n1, s1, a, na \u001b[38;5;241m=\u001b[39m \u001b[43mbuildtree\u001b[49m\u001b[43m(\u001b[49m\u001b[43mxn\u001b[49m\u001b[43m,\u001b[49m\u001b[43m \u001b[49m\u001b[43mrn\u001b[49m\u001b[43m,\u001b[49m\u001b[43m \u001b[49m\u001b[43mu\u001b[49m\u001b[43m,\u001b[49m\u001b[43m \u001b[49m\u001b[43mv\u001b[49m\u001b[43m,\u001b[49m\u001b[43m \u001b[49m\u001b[43mj\u001b[49m\u001b[43m,\u001b[49m\u001b[43m \u001b[49m\u001b[43me\u001b[49m\u001b[43m,\u001b[49m\u001b[43m \u001b[49m\u001b[43mx\u001b[49m\u001b[43m,\u001b[49m\u001b[43m \u001b[49m\u001b[43mr0\u001b[49m\u001b[43m,\u001b[49m\n\u001b[1;32m    107\u001b[0m \u001b[43m                                                \u001b[49m\u001b[43mH\u001b[49m\u001b[43m,\u001b[49m\u001b[43m \u001b[49m\u001b[43mdH\u001b[49m\u001b[43m,\u001b[49m\u001b[43m \u001b[49m\u001b[38;5;28;43mself\u001b[39;49m\u001b[38;5;241;43m.\u001b[39;49m\u001b[43mEmax\u001b[49m\u001b[43m)\u001b[49m\n\u001b[1;32m    108\u001b[0m \u001b[38;5;28;01melse\u001b[39;00m:\n\u001b[1;32m    109\u001b[0m     _, _, xp, rp, x1, n1, s1, a, na \u001b[38;5;241m=\u001b[39m buildtree(xp, rp, u, v, j, e, x, r0,\n\u001b[1;32m    110\u001b[0m                                                 H, dH, \u001b[38;5;28mself\u001b[39m\u001b[38;5;241m.\u001b[39mEmax)\n",
      "File \u001b[0;32m~/code/ddm_codes/venv/lib/python3.10/site-packages/sampyl/samplers/NUTS.py:145\u001b[0m, in \u001b[0;36mbuildtree\u001b[0;34m(x, r, u, v, j, e, x0, r0, H, dH, Emax)\u001b[0m\n\u001b[1;32m    143\u001b[0m \u001b[38;5;28;01mdef\u001b[39;00m \u001b[38;5;21mbuildtree\u001b[39m(x, r, u, v, j, e, x0, r0, H, dH, Emax):\n\u001b[1;32m    144\u001b[0m     \u001b[38;5;28;01mif\u001b[39;00m j \u001b[38;5;241m==\u001b[39m \u001b[38;5;241m0\u001b[39m:\n\u001b[0;32m--> 145\u001b[0m         x1, r1 \u001b[38;5;241m=\u001b[39m \u001b[43mleapfrog\u001b[49m\u001b[43m(\u001b[49m\u001b[43mx\u001b[49m\u001b[43m,\u001b[49m\u001b[43m \u001b[49m\u001b[43mr\u001b[49m\u001b[43m,\u001b[49m\u001b[43m \u001b[49m\u001b[43mv\u001b[49m\u001b[38;5;241;43m*\u001b[39;49m\u001b[43me\u001b[49m\u001b[43m,\u001b[49m\u001b[43m \u001b[49m\u001b[43mdH\u001b[49m\u001b[43m)\u001b[49m\n\u001b[1;32m    146\u001b[0m         E \u001b[38;5;241m=\u001b[39m energy(H, x1, r1)\n\u001b[1;32m    147\u001b[0m         E0 \u001b[38;5;241m=\u001b[39m energy(H, x0, r0)\n",
      "File \u001b[0;32m~/code/ddm_codes/venv/lib/python3.10/site-packages/sampyl/samplers/hamiltonian.py:81\u001b[0m, in \u001b[0;36mleapfrog\u001b[0;34m(x, r, step_size, grad)\u001b[0m\n\u001b[1;32m     79\u001b[0m \u001b[38;5;28;01mdef\u001b[39;00m \u001b[38;5;21mleapfrog\u001b[39m(x, r, step_size, grad):\n\u001b[0;32m---> 81\u001b[0m     r1 \u001b[38;5;241m=\u001b[39m r \u001b[38;5;241m+\u001b[39m step_size\u001b[38;5;241m/\u001b[39m\u001b[38;5;241m2\u001b[39m\u001b[38;5;241m*\u001b[39m\u001b[43mgrad\u001b[49m\u001b[43m(\u001b[49m\u001b[43mx\u001b[49m\u001b[43m)\u001b[49m\n\u001b[1;32m     82\u001b[0m     x1 \u001b[38;5;241m=\u001b[39m x \u001b[38;5;241m+\u001b[39m step_size\u001b[38;5;241m*\u001b[39mr1\n\u001b[1;32m     83\u001b[0m     r2 \u001b[38;5;241m=\u001b[39m r1 \u001b[38;5;241m+\u001b[39m step_size\u001b[38;5;241m/\u001b[39m\u001b[38;5;241m2\u001b[39m\u001b[38;5;241m*\u001b[39mgrad(x1)\n",
      "File \u001b[0;32m~/code/ddm_codes/venv/lib/python3.10/site-packages/sampyl/posterior.py:133\u001b[0m, in \u001b[0;36mPosterior.grad\u001b[0;34m(self, state)\u001b[0m\n\u001b[1;32m    131\u001b[0m \u001b[38;5;66;03m# Freeze the state as a tuple so we can use it as a dictionary key\u001b[39;00m\n\u001b[1;32m    132\u001b[0m frozen_state \u001b[38;5;241m=\u001b[39m state\u001b[38;5;241m.\u001b[39mfreeze()\n\u001b[0;32m--> 133\u001b[0m \u001b[38;5;28;01mif\u001b[39;00m \u001b[38;5;129;01mnot\u001b[39;00m \u001b[38;5;28misinstance\u001b[39m(frozen_state, \u001b[43mcollections\u001b[49m\u001b[38;5;241;43m.\u001b[39;49m\u001b[43mHashable\u001b[49m):\n\u001b[1;32m    134\u001b[0m     \u001b[38;5;66;03m# uncacheable. a list, for instance.\u001b[39;00m\n\u001b[1;32m    135\u001b[0m     \u001b[38;5;66;03m# better to not cache than blow up.\u001b[39;00m\n\u001b[1;32m    136\u001b[0m     grad_value \u001b[38;5;241m=\u001b[39m grad_vec(\u001b[38;5;28mself\u001b[39m\u001b[38;5;241m.\u001b[39mgrad_func, state)\n\u001b[1;32m    137\u001b[0m     \u001b[38;5;28;01mreturn\u001b[39;00m grad_value\n",
      "\u001b[0;31mAttributeError\u001b[0m: module 'collections' has no attribute 'Hashable'"
     ]
    }
   ],
   "source": [
    "chain = nuts.sample(1000)"
   ]
  }
 ],
 "metadata": {
  "kernelspec": {
   "display_name": "venv",
   "language": "python",
   "name": "python3"
  },
  "language_info": {
   "codemirror_mode": {
    "name": "ipython",
    "version": 3
   },
   "file_extension": ".py",
   "mimetype": "text/x-python",
   "name": "python",
   "nbconvert_exporter": "python",
   "pygments_lexer": "ipython3",
   "version": "3.10.12"
  }
 },
 "nbformat": 4,
 "nbformat_minor": 2
}
