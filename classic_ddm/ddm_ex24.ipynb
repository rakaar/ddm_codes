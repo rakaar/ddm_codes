{
 "cells": [
  {
   "cell_type": "markdown",
   "metadata": {},
   "source": [
    "# NUTS"
   ]
  },
  {
   "cell_type": "code",
   "execution_count": 1,
   "metadata": {},
   "outputs": [],
   "source": [
    "import numpy as np\n",
    "import pickle\n",
    "from scipy import stats\n",
    "from joblib import Parallel, delayed\n",
    "import matplotlib.pyplot as plt\n",
    "from nuts import NUTSSampler, nuts6\n",
    "import sys\n",
    "from numba import jit"
   ]
  },
  {
   "cell_type": "code",
   "execution_count": 2,
   "metadata": {},
   "outputs": [],
   "source": [
    "@jit(nopython=True)\n",
    "def rtd_density_a(t, v, a, w, K_max=10):\n",
    "    if t > 0.25:\n",
    "        non_sum_term = (np.pi/a**2)*np.exp(-v*a*w - (v**2 * t/2))\n",
    "        k_vals = np.linspace(1, K_max, K_max)\n",
    "        sum_sine_term = np.sin(k_vals*np.pi*w)\n",
    "        sum_exp_term = np.exp(-(k_vals**2 * np.pi**2 * t)/(2*a**2))\n",
    "        sum_result = np.sum(k_vals * sum_sine_term * sum_exp_term)\n",
    "    else:\n",
    "        non_sum_term = (1/a**2)*(a**3/np.sqrt(2*np.pi*t**3))*np.exp(-v*a*w - (v**2 * t)/2)\n",
    "        K_max = int(K_max/2)\n",
    "        k_vals = np.linspace(-K_max, K_max, 2*K_max + 1)\n",
    "        sum_w_term = w + 2*k_vals\n",
    "        sum_exp_term = np.exp(-(a**2 * (w + 2*k_vals)**2)/(2*t))\n",
    "        sum_result = np.sum(sum_w_term*sum_exp_term)\n",
    "\n",
    "    \n",
    "    density =  non_sum_term * sum_result\n",
    "    if density <= 0:\n",
    "        density += 1e-6\n",
    "    return density"
   ]
  },
  {
   "cell_type": "code",
   "execution_count": 3,
   "metadata": {},
   "outputs": [],
   "source": [
    "def loglike_fn(params):\n",
    "    v,a,w = params\n",
    "    with open('sample_rt_nuts.pkl', 'rb') as f:\n",
    "        RTs = np.array(pickle.load(f))\n",
    "    with open('sample_choice_nuts.pkl', 'rb') as f:\n",
    "        choices = np.array(pickle.load(f))\n",
    "\n",
    "    choices_pos = np.where(choices == 1)[0]\n",
    "    choices_neg = np.where(choices == -1)[0]\n",
    "\n",
    "    RTs_pos = RTs[choices_pos]\n",
    "    RTs_neg = RTs[choices_neg]\n",
    "\n",
    "    prob_pos = Parallel(n_jobs=-1)(delayed(rtd_density_a)(t, -v, a, 1-w) for t in RTs_pos)\n",
    "    prob_neg = Parallel(n_jobs=-1)(delayed(rtd_density_a)(t, v, a, w) for t in RTs_neg)\n",
    "\n",
    "    prob_pos = np.array(prob_pos)\n",
    "    prob_neg = np.array(prob_neg)\n",
    "\n",
    "    prob_pos[prob_pos <= 0] = 1e-10\n",
    "    prob_neg[prob_neg <= 0] = 1e-10\n",
    "\n",
    "    prob_pos[np.isnan(prob_pos)] = 1e-10\n",
    "    prob_neg[np.isnan(prob_neg)] = 1e-10\n",
    "\n",
    "    if (prob_pos <= 0).any() or (prob_neg <= 0).any():\n",
    "        raise ValueError(\"Negative or zero values found in prob_pos or prob_neg\")\n",
    "\n",
    "    log_pos = np.log(prob_pos)\n",
    "    log_neg = np.log(prob_neg)\n",
    "    \n",
    "    if np.isnan(log_pos).any() or np.isnan(log_neg).any():\n",
    "        raise ValueError(\"NaN values found in log_pos or log_neg\")\n",
    "\n",
    "    loglike = (np.sum(log_pos) + np.sum(log_neg))\n",
    "    return loglike"
   ]
  },
  {
   "cell_type": "code",
   "execution_count": 4,
   "metadata": {},
   "outputs": [],
   "source": [
    "def grad_fn(params):\n",
    "    v,a,w = params\n",
    "    delta = 1e-6\n",
    "    grads = np.zeros_like(params)\n",
    "    with open('sample_rt_nuts.pkl', 'rb') as f:\n",
    "        RTs = np.array(pickle.load(f))\n",
    "    with open('sample_choice_nuts.pkl', 'rb') as f:\n",
    "        choices = np.array(pickle.load(f))\n",
    "\n",
    "    choices_pos = np.where(choices == 1)[0]\n",
    "    choices_neg = np.where(choices == -1)[0]\n",
    "\n",
    "    RTs_pos = RTs[choices_pos]\n",
    "    RTs_neg = RTs[choices_neg]\n",
    "\n",
    "    grad_pos_v = Parallel(n_jobs=-1)(delayed(delta_rule)(t, [-v, a, 1-w], [delta,0,0], delta) for t in RTs_pos)\n",
    "    grad_neg_v = Parallel(n_jobs=-1)(delayed(delta_rule)(t, [v, a, w], [delta,0,0], delta) for t in RTs_neg)\n",
    "    grads[0] = np.sum(grad_pos_v) + np.sum(grad_neg_v)\n",
    "\n",
    "\n",
    "    grad_pos_a = Parallel(n_jobs=-1)(delayed(delta_rule)(t, [-v, a, 1-w], [0,delta,0], delta) for t in RTs_pos)\n",
    "    grad_neg_a = Parallel(n_jobs=-1)(delayed(delta_rule)(t, [v, a, w], [0,delta,0], delta) for t in RTs_neg)\n",
    "    grads[1] = np.sum(grad_pos_a) + np.sum(grad_neg_a)\n",
    "\n",
    "\n",
    "    grad_pos_w = Parallel(n_jobs=-1)(delayed(delta_rule)(t, [-v, a, 1-w], [0,0,delta], delta) for t in RTs_pos)\n",
    "    grad_neg_w = Parallel(n_jobs=-1)(delayed(delta_rule)(t, [v, a, w], [0,0,delta], delta) for t in RTs_neg)\n",
    "    grads[2] = np.sum(grad_pos_w) + np.sum(grad_neg_w)\n",
    "\n",
    "    return grads\n",
    "\n",
    "def delta_rule(t,params,delta_arr, delta):\n",
    "    v,a,w = params\n",
    "    rtd = rtd_density_a(t,v,a,w)\n",
    "\n",
    "    params = np.array(params); delta_arr = np.array(delta_arr)\n",
    "    params = params + delta_arr\n",
    "    v,a,w = params\n",
    "    rtd_delta = rtd_density_a(t, v, a, w)\n",
    "\n",
    "    if rtd == 0:\n",
    "        rtd = 1e-10\n",
    "\n",
    "    diff_val = (1.0/rtd)*(rtd_delta - rtd)*(1.0/delta)\n",
    "    return diff_val\n"
   ]
  },
  {
   "cell_type": "code",
   "execution_count": 5,
   "metadata": {},
   "outputs": [],
   "source": [
    "def log_like_and_grad(params):\n",
    "    loglike = loglike_fn(params)\n",
    "    grad = grad_fn(params)\n",
    "\n",
    "    return loglike, grad"
   ]
  },
  {
   "cell_type": "code",
   "execution_count": 6,
   "metadata": {},
   "outputs": [],
   "source": [
    "def parse_sim_results(results):\n",
    "    choices =  [r[0] for r in results]\n",
    "    rts = [r[1] for r in results]\n",
    "    return choices, rts\n",
    "\n",
    "def sim_data_to_files(v,a):\n",
    "    with open('all_sim_results.pkl', 'rb') as f:\n",
    "        all_sim_results = pickle.load(f)\n",
    "    \n",
    "    keyname = f\"a={str(a)},v={str(v)}\"\n",
    "    choices, RTs = parse_sim_results(all_sim_results[keyname])\n",
    "    \n",
    "    with open('sample_rt_nuts.pkl', 'wb') as f:\n",
    "        pickle.dump(RTs, f)\n",
    "    with open('sample_choice_nuts.pkl', 'wb') as f:\n",
    "        pickle.dump(choices, f)"
   ]
  },
  {
   "cell_type": "code",
   "execution_count": 7,
   "metadata": {},
   "outputs": [],
   "source": [
    "v = 2; a = 2;\n",
    "sim_data_to_files(v,a)"
   ]
  },
  {
   "cell_type": "code",
   "execution_count": 8,
   "metadata": {
    "metadata": {}
   },
   "outputs": [
    {
     "name": "stdout",
     "output_type": "stream",
     "text": [
      "new epsilon= 0.0005\n"
     ]
    },
    {
     "name": "stderr",
     "output_type": "stream",
     "text": [
      "  1%|          | 6/999 [16:24<45:15:54, 164.10s/it]\n"
     ]
    },
    {
     "ename": "KeyboardInterrupt",
     "evalue": "",
     "output_type": "error",
     "traceback": [
      "\u001b[0;31m---------------------------------------------------------------------------\u001b[0m",
      "\u001b[0;31mKeyboardInterrupt\u001b[0m                         Traceback (most recent call last)",
      "Cell \u001b[0;32mIn[8], line 7\u001b[0m\n\u001b[1;32m      3\u001b[0m delta \u001b[38;5;241m=\u001b[39m \u001b[38;5;241m0.7\u001b[39m\n\u001b[1;32m      5\u001b[0m \u001b[38;5;66;03m# Initialize NUTS sampler\u001b[39;00m\n\u001b[1;32m      6\u001b[0m \u001b[38;5;66;03m# sampler = NUTSSampler(len(x0), log_joint, grad_log_like)\u001b[39;00m\n\u001b[0;32m----> 7\u001b[0m samples, lnprob, epsilon \u001b[38;5;241m=\u001b[39m \u001b[43mnuts6\u001b[49m\u001b[43m(\u001b[49m\u001b[43mlog_like_and_grad\u001b[49m\u001b[43m,\u001b[49m\u001b[43m \u001b[49m\u001b[43mM\u001b[49m\u001b[43m,\u001b[49m\u001b[43m \u001b[49m\u001b[43mMadapt\u001b[49m\u001b[43m,\u001b[49m\u001b[43m \u001b[49m\u001b[43mx0\u001b[49m\u001b[43m,\u001b[49m\u001b[43m \u001b[49m\u001b[43mdelta\u001b[49m\u001b[43m,\u001b[49m\u001b[43m \u001b[49m\u001b[43mprogress\u001b[49m\u001b[38;5;241;43m=\u001b[39;49m\u001b[38;5;28;43;01mTrue\u001b[39;49;00m\u001b[43m)\u001b[49m\n",
      "File \u001b[0;32m~/code/rough/NUTS/nuts/nuts.py:311\u001b[0m, in \u001b[0;36mnuts6\u001b[0;34m(f, M, Madapt, theta0, delta, progress)\u001b[0m\n\u001b[1;32m    309\u001b[0m     thetaminus, rminus, gradminus, _, _, _, thetaprime, gradprime, logpprime, nprime, sprime, alpha, nalpha \u001b[38;5;241m=\u001b[39m build_tree(thetaminus, rminus, gradminus, logu, v, j, epsilon, f, joint)\n\u001b[1;32m    310\u001b[0m \u001b[38;5;28;01melse\u001b[39;00m:\n\u001b[0;32m--> 311\u001b[0m     _, _, _, thetaplus, rplus, gradplus, thetaprime, gradprime, logpprime, nprime, sprime, alpha, nalpha \u001b[38;5;241m=\u001b[39m \u001b[43mbuild_tree\u001b[49m\u001b[43m(\u001b[49m\u001b[43mthetaplus\u001b[49m\u001b[43m,\u001b[49m\u001b[43m \u001b[49m\u001b[43mrplus\u001b[49m\u001b[43m,\u001b[49m\u001b[43m \u001b[49m\u001b[43mgradplus\u001b[49m\u001b[43m,\u001b[49m\u001b[43m \u001b[49m\u001b[43mlogu\u001b[49m\u001b[43m,\u001b[49m\u001b[43m \u001b[49m\u001b[43mv\u001b[49m\u001b[43m,\u001b[49m\u001b[43m \u001b[49m\u001b[43mj\u001b[49m\u001b[43m,\u001b[49m\u001b[43m \u001b[49m\u001b[43mepsilon\u001b[49m\u001b[43m,\u001b[49m\u001b[43m \u001b[49m\u001b[43mf\u001b[49m\u001b[43m,\u001b[49m\u001b[43m \u001b[49m\u001b[43mjoint\u001b[49m\u001b[43m)\u001b[49m\n\u001b[1;32m    313\u001b[0m \u001b[38;5;66;03m# Use Metropolis-Hastings to decide whether or not to move to a\u001b[39;00m\n\u001b[1;32m    314\u001b[0m \u001b[38;5;66;03m# point from the half-tree we just generated.\u001b[39;00m\n\u001b[1;32m    315\u001b[0m _tmp \u001b[38;5;241m=\u001b[39m \u001b[38;5;28mmin\u001b[39m(\u001b[38;5;241m1\u001b[39m, \u001b[38;5;28mfloat\u001b[39m(nprime) \u001b[38;5;241m/\u001b[39m \u001b[38;5;28mfloat\u001b[39m(n))\n",
      "File \u001b[0;32m~/code/rough/NUTS/nuts/nuts.py:182\u001b[0m, in \u001b[0;36mbuild_tree\u001b[0;34m(theta, r, grad, logu, v, j, epsilon, f, joint0)\u001b[0m\n\u001b[1;32m    179\u001b[0m     nalphaprime \u001b[38;5;241m=\u001b[39m \u001b[38;5;241m1\u001b[39m\n\u001b[1;32m    180\u001b[0m \u001b[38;5;28;01melse\u001b[39;00m:\n\u001b[1;32m    181\u001b[0m     \u001b[38;5;66;03m# Recursion: Implicitly build the height j-1 left and right subtrees.\u001b[39;00m\n\u001b[0;32m--> 182\u001b[0m     thetaminus, rminus, gradminus, thetaplus, rplus, gradplus, thetaprime, gradprime, logpprime, nprime, sprime, alphaprime, nalphaprime \u001b[38;5;241m=\u001b[39m \u001b[43mbuild_tree\u001b[49m\u001b[43m(\u001b[49m\u001b[43mtheta\u001b[49m\u001b[43m,\u001b[49m\u001b[43m \u001b[49m\u001b[43mr\u001b[49m\u001b[43m,\u001b[49m\u001b[43m \u001b[49m\u001b[43mgrad\u001b[49m\u001b[43m,\u001b[49m\u001b[43m \u001b[49m\u001b[43mlogu\u001b[49m\u001b[43m,\u001b[49m\u001b[43m \u001b[49m\u001b[43mv\u001b[49m\u001b[43m,\u001b[49m\u001b[43m \u001b[49m\u001b[43mj\u001b[49m\u001b[43m \u001b[49m\u001b[38;5;241;43m-\u001b[39;49m\u001b[43m \u001b[49m\u001b[38;5;241;43m1\u001b[39;49m\u001b[43m,\u001b[49m\u001b[43m \u001b[49m\u001b[43mepsilon\u001b[49m\u001b[43m,\u001b[49m\u001b[43m \u001b[49m\u001b[43mf\u001b[49m\u001b[43m,\u001b[49m\u001b[43m \u001b[49m\u001b[43mjoint0\u001b[49m\u001b[43m)\u001b[49m\n\u001b[1;32m    183\u001b[0m     \u001b[38;5;66;03m# No need to keep going if the stopping criteria were met in the first subtree.\u001b[39;00m\n\u001b[1;32m    184\u001b[0m     \u001b[38;5;28;01mif\u001b[39;00m (sprime \u001b[38;5;241m==\u001b[39m \u001b[38;5;241m1\u001b[39m):\n",
      "File \u001b[0;32m~/code/rough/NUTS/nuts/nuts.py:182\u001b[0m, in \u001b[0;36mbuild_tree\u001b[0;34m(theta, r, grad, logu, v, j, epsilon, f, joint0)\u001b[0m\n\u001b[1;32m    179\u001b[0m     nalphaprime \u001b[38;5;241m=\u001b[39m \u001b[38;5;241m1\u001b[39m\n\u001b[1;32m    180\u001b[0m \u001b[38;5;28;01melse\u001b[39;00m:\n\u001b[1;32m    181\u001b[0m     \u001b[38;5;66;03m# Recursion: Implicitly build the height j-1 left and right subtrees.\u001b[39;00m\n\u001b[0;32m--> 182\u001b[0m     thetaminus, rminus, gradminus, thetaplus, rplus, gradplus, thetaprime, gradprime, logpprime, nprime, sprime, alphaprime, nalphaprime \u001b[38;5;241m=\u001b[39m \u001b[43mbuild_tree\u001b[49m\u001b[43m(\u001b[49m\u001b[43mtheta\u001b[49m\u001b[43m,\u001b[49m\u001b[43m \u001b[49m\u001b[43mr\u001b[49m\u001b[43m,\u001b[49m\u001b[43m \u001b[49m\u001b[43mgrad\u001b[49m\u001b[43m,\u001b[49m\u001b[43m \u001b[49m\u001b[43mlogu\u001b[49m\u001b[43m,\u001b[49m\u001b[43m \u001b[49m\u001b[43mv\u001b[49m\u001b[43m,\u001b[49m\u001b[43m \u001b[49m\u001b[43mj\u001b[49m\u001b[43m \u001b[49m\u001b[38;5;241;43m-\u001b[39;49m\u001b[43m \u001b[49m\u001b[38;5;241;43m1\u001b[39;49m\u001b[43m,\u001b[49m\u001b[43m \u001b[49m\u001b[43mepsilon\u001b[49m\u001b[43m,\u001b[49m\u001b[43m \u001b[49m\u001b[43mf\u001b[49m\u001b[43m,\u001b[49m\u001b[43m \u001b[49m\u001b[43mjoint0\u001b[49m\u001b[43m)\u001b[49m\n\u001b[1;32m    183\u001b[0m     \u001b[38;5;66;03m# No need to keep going if the stopping criteria were met in the first subtree.\u001b[39;00m\n\u001b[1;32m    184\u001b[0m     \u001b[38;5;28;01mif\u001b[39;00m (sprime \u001b[38;5;241m==\u001b[39m \u001b[38;5;241m1\u001b[39m):\n",
      "    \u001b[0;31m[... skipping similar frames: build_tree at line 182 (1 times)]\u001b[0m\n",
      "File \u001b[0;32m~/code/rough/NUTS/nuts/nuts.py:182\u001b[0m, in \u001b[0;36mbuild_tree\u001b[0;34m(theta, r, grad, logu, v, j, epsilon, f, joint0)\u001b[0m\n\u001b[1;32m    179\u001b[0m     nalphaprime \u001b[38;5;241m=\u001b[39m \u001b[38;5;241m1\u001b[39m\n\u001b[1;32m    180\u001b[0m \u001b[38;5;28;01melse\u001b[39;00m:\n\u001b[1;32m    181\u001b[0m     \u001b[38;5;66;03m# Recursion: Implicitly build the height j-1 left and right subtrees.\u001b[39;00m\n\u001b[0;32m--> 182\u001b[0m     thetaminus, rminus, gradminus, thetaplus, rplus, gradplus, thetaprime, gradprime, logpprime, nprime, sprime, alphaprime, nalphaprime \u001b[38;5;241m=\u001b[39m \u001b[43mbuild_tree\u001b[49m\u001b[43m(\u001b[49m\u001b[43mtheta\u001b[49m\u001b[43m,\u001b[49m\u001b[43m \u001b[49m\u001b[43mr\u001b[49m\u001b[43m,\u001b[49m\u001b[43m \u001b[49m\u001b[43mgrad\u001b[49m\u001b[43m,\u001b[49m\u001b[43m \u001b[49m\u001b[43mlogu\u001b[49m\u001b[43m,\u001b[49m\u001b[43m \u001b[49m\u001b[43mv\u001b[49m\u001b[43m,\u001b[49m\u001b[43m \u001b[49m\u001b[43mj\u001b[49m\u001b[43m \u001b[49m\u001b[38;5;241;43m-\u001b[39;49m\u001b[43m \u001b[49m\u001b[38;5;241;43m1\u001b[39;49m\u001b[43m,\u001b[49m\u001b[43m \u001b[49m\u001b[43mepsilon\u001b[49m\u001b[43m,\u001b[49m\u001b[43m \u001b[49m\u001b[43mf\u001b[49m\u001b[43m,\u001b[49m\u001b[43m \u001b[49m\u001b[43mjoint0\u001b[49m\u001b[43m)\u001b[49m\n\u001b[1;32m    183\u001b[0m     \u001b[38;5;66;03m# No need to keep going if the stopping criteria were met in the first subtree.\u001b[39;00m\n\u001b[1;32m    184\u001b[0m     \u001b[38;5;28;01mif\u001b[39;00m (sprime \u001b[38;5;241m==\u001b[39m \u001b[38;5;241m1\u001b[39m):\n",
      "File \u001b[0;32m~/code/rough/NUTS/nuts/nuts.py:188\u001b[0m, in \u001b[0;36mbuild_tree\u001b[0;34m(theta, r, grad, logu, v, j, epsilon, f, joint0)\u001b[0m\n\u001b[1;32m    186\u001b[0m     thetaminus, rminus, gradminus, _, _, _, thetaprime2, gradprime2, logpprime2, nprime2, sprime2, alphaprime2, nalphaprime2 \u001b[38;5;241m=\u001b[39m build_tree(thetaminus, rminus, gradminus, logu, v, j \u001b[38;5;241m-\u001b[39m \u001b[38;5;241m1\u001b[39m, epsilon, f, joint0)\n\u001b[1;32m    187\u001b[0m \u001b[38;5;28;01melse\u001b[39;00m:\n\u001b[0;32m--> 188\u001b[0m     _, _, _, thetaplus, rplus, gradplus, thetaprime2, gradprime2, logpprime2, nprime2, sprime2, alphaprime2, nalphaprime2 \u001b[38;5;241m=\u001b[39m \u001b[43mbuild_tree\u001b[49m\u001b[43m(\u001b[49m\u001b[43mthetaplus\u001b[49m\u001b[43m,\u001b[49m\u001b[43m \u001b[49m\u001b[43mrplus\u001b[49m\u001b[43m,\u001b[49m\u001b[43m \u001b[49m\u001b[43mgradplus\u001b[49m\u001b[43m,\u001b[49m\u001b[43m \u001b[49m\u001b[43mlogu\u001b[49m\u001b[43m,\u001b[49m\u001b[43m \u001b[49m\u001b[43mv\u001b[49m\u001b[43m,\u001b[49m\u001b[43m \u001b[49m\u001b[43mj\u001b[49m\u001b[43m \u001b[49m\u001b[38;5;241;43m-\u001b[39;49m\u001b[43m \u001b[49m\u001b[38;5;241;43m1\u001b[39;49m\u001b[43m,\u001b[49m\u001b[43m \u001b[49m\u001b[43mepsilon\u001b[49m\u001b[43m,\u001b[49m\u001b[43m \u001b[49m\u001b[43mf\u001b[49m\u001b[43m,\u001b[49m\u001b[43m \u001b[49m\u001b[43mjoint0\u001b[49m\u001b[43m)\u001b[49m\n\u001b[1;32m    189\u001b[0m \u001b[38;5;66;03m# Choose which subtree to propagate a sample up from.\u001b[39;00m\n\u001b[1;32m    190\u001b[0m \u001b[38;5;28;01mif\u001b[39;00m (np\u001b[38;5;241m.\u001b[39mrandom\u001b[38;5;241m.\u001b[39muniform() \u001b[38;5;241m<\u001b[39m (\u001b[38;5;28mfloat\u001b[39m(nprime2) \u001b[38;5;241m/\u001b[39m \u001b[38;5;28mmax\u001b[39m(\u001b[38;5;28mfloat\u001b[39m(\u001b[38;5;28mint\u001b[39m(nprime) \u001b[38;5;241m+\u001b[39m \u001b[38;5;28mint\u001b[39m(nprime2)), \u001b[38;5;241m1.\u001b[39m))):\n",
      "File \u001b[0;32m~/code/rough/NUTS/nuts/nuts.py:188\u001b[0m, in \u001b[0;36mbuild_tree\u001b[0;34m(theta, r, grad, logu, v, j, epsilon, f, joint0)\u001b[0m\n\u001b[1;32m    186\u001b[0m     thetaminus, rminus, gradminus, _, _, _, thetaprime2, gradprime2, logpprime2, nprime2, sprime2, alphaprime2, nalphaprime2 \u001b[38;5;241m=\u001b[39m build_tree(thetaminus, rminus, gradminus, logu, v, j \u001b[38;5;241m-\u001b[39m \u001b[38;5;241m1\u001b[39m, epsilon, f, joint0)\n\u001b[1;32m    187\u001b[0m \u001b[38;5;28;01melse\u001b[39;00m:\n\u001b[0;32m--> 188\u001b[0m     _, _, _, thetaplus, rplus, gradplus, thetaprime2, gradprime2, logpprime2, nprime2, sprime2, alphaprime2, nalphaprime2 \u001b[38;5;241m=\u001b[39m \u001b[43mbuild_tree\u001b[49m\u001b[43m(\u001b[49m\u001b[43mthetaplus\u001b[49m\u001b[43m,\u001b[49m\u001b[43m \u001b[49m\u001b[43mrplus\u001b[49m\u001b[43m,\u001b[49m\u001b[43m \u001b[49m\u001b[43mgradplus\u001b[49m\u001b[43m,\u001b[49m\u001b[43m \u001b[49m\u001b[43mlogu\u001b[49m\u001b[43m,\u001b[49m\u001b[43m \u001b[49m\u001b[43mv\u001b[49m\u001b[43m,\u001b[49m\u001b[43m \u001b[49m\u001b[43mj\u001b[49m\u001b[43m \u001b[49m\u001b[38;5;241;43m-\u001b[39;49m\u001b[43m \u001b[49m\u001b[38;5;241;43m1\u001b[39;49m\u001b[43m,\u001b[49m\u001b[43m \u001b[49m\u001b[43mepsilon\u001b[49m\u001b[43m,\u001b[49m\u001b[43m \u001b[49m\u001b[43mf\u001b[49m\u001b[43m,\u001b[49m\u001b[43m \u001b[49m\u001b[43mjoint0\u001b[49m\u001b[43m)\u001b[49m\n\u001b[1;32m    189\u001b[0m \u001b[38;5;66;03m# Choose which subtree to propagate a sample up from.\u001b[39;00m\n\u001b[1;32m    190\u001b[0m \u001b[38;5;28;01mif\u001b[39;00m (np\u001b[38;5;241m.\u001b[39mrandom\u001b[38;5;241m.\u001b[39muniform() \u001b[38;5;241m<\u001b[39m (\u001b[38;5;28mfloat\u001b[39m(nprime2) \u001b[38;5;241m/\u001b[39m \u001b[38;5;28mmax\u001b[39m(\u001b[38;5;28mfloat\u001b[39m(\u001b[38;5;28mint\u001b[39m(nprime) \u001b[38;5;241m+\u001b[39m \u001b[38;5;28mint\u001b[39m(nprime2)), \u001b[38;5;241m1.\u001b[39m))):\n",
      "File \u001b[0;32m~/code/rough/NUTS/nuts/nuts.py:182\u001b[0m, in \u001b[0;36mbuild_tree\u001b[0;34m(theta, r, grad, logu, v, j, epsilon, f, joint0)\u001b[0m\n\u001b[1;32m    179\u001b[0m     nalphaprime \u001b[38;5;241m=\u001b[39m \u001b[38;5;241m1\u001b[39m\n\u001b[1;32m    180\u001b[0m \u001b[38;5;28;01melse\u001b[39;00m:\n\u001b[1;32m    181\u001b[0m     \u001b[38;5;66;03m# Recursion: Implicitly build the height j-1 left and right subtrees.\u001b[39;00m\n\u001b[0;32m--> 182\u001b[0m     thetaminus, rminus, gradminus, thetaplus, rplus, gradplus, thetaprime, gradprime, logpprime, nprime, sprime, alphaprime, nalphaprime \u001b[38;5;241m=\u001b[39m \u001b[43mbuild_tree\u001b[49m\u001b[43m(\u001b[49m\u001b[43mtheta\u001b[49m\u001b[43m,\u001b[49m\u001b[43m \u001b[49m\u001b[43mr\u001b[49m\u001b[43m,\u001b[49m\u001b[43m \u001b[49m\u001b[43mgrad\u001b[49m\u001b[43m,\u001b[49m\u001b[43m \u001b[49m\u001b[43mlogu\u001b[49m\u001b[43m,\u001b[49m\u001b[43m \u001b[49m\u001b[43mv\u001b[49m\u001b[43m,\u001b[49m\u001b[43m \u001b[49m\u001b[43mj\u001b[49m\u001b[43m \u001b[49m\u001b[38;5;241;43m-\u001b[39;49m\u001b[43m \u001b[49m\u001b[38;5;241;43m1\u001b[39;49m\u001b[43m,\u001b[49m\u001b[43m \u001b[49m\u001b[43mepsilon\u001b[49m\u001b[43m,\u001b[49m\u001b[43m \u001b[49m\u001b[43mf\u001b[49m\u001b[43m,\u001b[49m\u001b[43m \u001b[49m\u001b[43mjoint0\u001b[49m\u001b[43m)\u001b[49m\n\u001b[1;32m    183\u001b[0m     \u001b[38;5;66;03m# No need to keep going if the stopping criteria were met in the first subtree.\u001b[39;00m\n\u001b[1;32m    184\u001b[0m     \u001b[38;5;28;01mif\u001b[39;00m (sprime \u001b[38;5;241m==\u001b[39m \u001b[38;5;241m1\u001b[39m):\n",
      "File \u001b[0;32m~/code/rough/NUTS/nuts/nuts.py:162\u001b[0m, in \u001b[0;36mbuild_tree\u001b[0;34m(theta, r, grad, logu, v, j, epsilon, f, joint0)\u001b[0m\n\u001b[1;32m    159\u001b[0m \u001b[38;5;250m\u001b[39m\u001b[38;5;124;03m\"\"\"The main recursion.\"\"\"\u001b[39;00m\n\u001b[1;32m    160\u001b[0m \u001b[38;5;28;01mif\u001b[39;00m (j \u001b[38;5;241m==\u001b[39m \u001b[38;5;241m0\u001b[39m):\n\u001b[1;32m    161\u001b[0m     \u001b[38;5;66;03m# Base case: Take a single leapfrog step in the direction v.\u001b[39;00m\n\u001b[0;32m--> 162\u001b[0m     thetaprime, rprime, gradprime, logpprime \u001b[38;5;241m=\u001b[39m \u001b[43mleapfrog\u001b[49m\u001b[43m(\u001b[49m\u001b[43mtheta\u001b[49m\u001b[43m,\u001b[49m\u001b[43m \u001b[49m\u001b[43mr\u001b[49m\u001b[43m,\u001b[49m\u001b[43m \u001b[49m\u001b[43mgrad\u001b[49m\u001b[43m,\u001b[49m\u001b[43m \u001b[49m\u001b[43mv\u001b[49m\u001b[43m \u001b[49m\u001b[38;5;241;43m*\u001b[39;49m\u001b[43m \u001b[49m\u001b[43mepsilon\u001b[49m\u001b[43m,\u001b[49m\u001b[43m \u001b[49m\u001b[43mf\u001b[49m\u001b[43m)\u001b[49m\n\u001b[1;32m    163\u001b[0m     joint \u001b[38;5;241m=\u001b[39m logpprime \u001b[38;5;241m-\u001b[39m \u001b[38;5;241m0.5\u001b[39m \u001b[38;5;241m*\u001b[39m np\u001b[38;5;241m.\u001b[39mdot(rprime, rprime\u001b[38;5;241m.\u001b[39mT)\n\u001b[1;32m    164\u001b[0m     \u001b[38;5;66;03m# Is the new point in the slice?\u001b[39;00m\n",
      "File \u001b[0;32m~/code/rough/NUTS/nuts/nuts.py:98\u001b[0m, in \u001b[0;36mleapfrog\u001b[0;34m(theta, r, grad, epsilon, f)\u001b[0m\n\u001b[1;32m     96\u001b[0m thetaprime \u001b[38;5;241m=\u001b[39m theta \u001b[38;5;241m+\u001b[39m epsilon \u001b[38;5;241m*\u001b[39m rprime\n\u001b[1;32m     97\u001b[0m \u001b[38;5;66;03m#compute new gradient\u001b[39;00m\n\u001b[0;32m---> 98\u001b[0m logpprime, gradprime \u001b[38;5;241m=\u001b[39m \u001b[43mf\u001b[49m\u001b[43m(\u001b[49m\u001b[43mthetaprime\u001b[49m\u001b[43m)\u001b[49m\n\u001b[1;32m     99\u001b[0m \u001b[38;5;66;03m# make half step in r again\u001b[39;00m\n\u001b[1;32m    100\u001b[0m rprime \u001b[38;5;241m=\u001b[39m rprime \u001b[38;5;241m+\u001b[39m \u001b[38;5;241m0.5\u001b[39m \u001b[38;5;241m*\u001b[39m epsilon \u001b[38;5;241m*\u001b[39m gradprime\n",
      "Cell \u001b[0;32mIn[5], line 3\u001b[0m, in \u001b[0;36mlog_like_and_grad\u001b[0;34m(params)\u001b[0m\n\u001b[1;32m      1\u001b[0m \u001b[38;5;28;01mdef\u001b[39;00m \u001b[38;5;21mlog_like_and_grad\u001b[39m(params):\n\u001b[1;32m      2\u001b[0m     loglike \u001b[38;5;241m=\u001b[39m loglike_fn(params)\n\u001b[0;32m----> 3\u001b[0m     grad \u001b[38;5;241m=\u001b[39m \u001b[43mgrad_fn\u001b[49m\u001b[43m(\u001b[49m\u001b[43mparams\u001b[49m\u001b[43m)\u001b[49m\n\u001b[1;32m      5\u001b[0m     \u001b[38;5;28;01mreturn\u001b[39;00m loglike, grad\n",
      "Cell \u001b[0;32mIn[4], line 26\u001b[0m, in \u001b[0;36mgrad_fn\u001b[0;34m(params)\u001b[0m\n\u001b[1;32m     22\u001b[0m grad_neg_a \u001b[38;5;241m=\u001b[39m Parallel(n_jobs\u001b[38;5;241m=\u001b[39m\u001b[38;5;241m-\u001b[39m\u001b[38;5;241m1\u001b[39m)(delayed(delta_rule)(t, [v, a, w], [\u001b[38;5;241m0\u001b[39m,delta,\u001b[38;5;241m0\u001b[39m], delta) \u001b[38;5;28;01mfor\u001b[39;00m t \u001b[38;5;129;01min\u001b[39;00m RTs_neg)\n\u001b[1;32m     23\u001b[0m grads[\u001b[38;5;241m1\u001b[39m] \u001b[38;5;241m=\u001b[39m np\u001b[38;5;241m.\u001b[39msum(grad_pos_a) \u001b[38;5;241m+\u001b[39m np\u001b[38;5;241m.\u001b[39msum(grad_neg_a)\n\u001b[0;32m---> 26\u001b[0m grad_pos_w \u001b[38;5;241m=\u001b[39m \u001b[43mParallel\u001b[49m\u001b[43m(\u001b[49m\u001b[43mn_jobs\u001b[49m\u001b[38;5;241;43m=\u001b[39;49m\u001b[38;5;241;43m-\u001b[39;49m\u001b[38;5;241;43m1\u001b[39;49m\u001b[43m)\u001b[49m\u001b[43m(\u001b[49m\u001b[43mdelayed\u001b[49m\u001b[43m(\u001b[49m\u001b[43mdelta_rule\u001b[49m\u001b[43m)\u001b[49m\u001b[43m(\u001b[49m\u001b[43mt\u001b[49m\u001b[43m,\u001b[49m\u001b[43m \u001b[49m\u001b[43m[\u001b[49m\u001b[38;5;241;43m-\u001b[39;49m\u001b[43mv\u001b[49m\u001b[43m,\u001b[49m\u001b[43m \u001b[49m\u001b[43ma\u001b[49m\u001b[43m,\u001b[49m\u001b[43m \u001b[49m\u001b[38;5;241;43m1\u001b[39;49m\u001b[38;5;241;43m-\u001b[39;49m\u001b[43mw\u001b[49m\u001b[43m]\u001b[49m\u001b[43m,\u001b[49m\u001b[43m \u001b[49m\u001b[43m[\u001b[49m\u001b[38;5;241;43m0\u001b[39;49m\u001b[43m,\u001b[49m\u001b[38;5;241;43m0\u001b[39;49m\u001b[43m,\u001b[49m\u001b[43mdelta\u001b[49m\u001b[43m]\u001b[49m\u001b[43m,\u001b[49m\u001b[43m \u001b[49m\u001b[43mdelta\u001b[49m\u001b[43m)\u001b[49m\u001b[43m \u001b[49m\u001b[38;5;28;43;01mfor\u001b[39;49;00m\u001b[43m \u001b[49m\u001b[43mt\u001b[49m\u001b[43m \u001b[49m\u001b[38;5;129;43;01min\u001b[39;49;00m\u001b[43m \u001b[49m\u001b[43mRTs_pos\u001b[49m\u001b[43m)\u001b[49m\n\u001b[1;32m     27\u001b[0m grad_neg_w \u001b[38;5;241m=\u001b[39m Parallel(n_jobs\u001b[38;5;241m=\u001b[39m\u001b[38;5;241m-\u001b[39m\u001b[38;5;241m1\u001b[39m)(delayed(delta_rule)(t, [v, a, w], [\u001b[38;5;241m0\u001b[39m,\u001b[38;5;241m0\u001b[39m,delta], delta) \u001b[38;5;28;01mfor\u001b[39;00m t \u001b[38;5;129;01min\u001b[39;00m RTs_neg)\n\u001b[1;32m     28\u001b[0m grads[\u001b[38;5;241m2\u001b[39m] \u001b[38;5;241m=\u001b[39m np\u001b[38;5;241m.\u001b[39msum(grad_pos_w) \u001b[38;5;241m+\u001b[39m np\u001b[38;5;241m.\u001b[39msum(grad_neg_w)\n",
      "File \u001b[0;32m~/.local/lib/python3.10/site-packages/joblib/parallel.py:2007\u001b[0m, in \u001b[0;36mParallel.__call__\u001b[0;34m(self, iterable)\u001b[0m\n\u001b[1;32m   2001\u001b[0m \u001b[38;5;66;03m# The first item from the output is blank, but it makes the interpreter\u001b[39;00m\n\u001b[1;32m   2002\u001b[0m \u001b[38;5;66;03m# progress until it enters the Try/Except block of the generator and\u001b[39;00m\n\u001b[1;32m   2003\u001b[0m \u001b[38;5;66;03m# reach the first `yield` statement. This starts the aynchronous\u001b[39;00m\n\u001b[1;32m   2004\u001b[0m \u001b[38;5;66;03m# dispatch of the tasks to the workers.\u001b[39;00m\n\u001b[1;32m   2005\u001b[0m \u001b[38;5;28mnext\u001b[39m(output)\n\u001b[0;32m-> 2007\u001b[0m \u001b[38;5;28;01mreturn\u001b[39;00m output \u001b[38;5;28;01mif\u001b[39;00m \u001b[38;5;28mself\u001b[39m\u001b[38;5;241m.\u001b[39mreturn_generator \u001b[38;5;28;01melse\u001b[39;00m \u001b[38;5;28;43mlist\u001b[39;49m\u001b[43m(\u001b[49m\u001b[43moutput\u001b[49m\u001b[43m)\u001b[49m\n",
      "File \u001b[0;32m~/.local/lib/python3.10/site-packages/joblib/parallel.py:1650\u001b[0m, in \u001b[0;36mParallel._get_outputs\u001b[0;34m(self, iterator, pre_dispatch)\u001b[0m\n\u001b[1;32m   1647\u001b[0m     \u001b[38;5;28;01myield\u001b[39;00m\n\u001b[1;32m   1649\u001b[0m     \u001b[38;5;28;01mwith\u001b[39;00m \u001b[38;5;28mself\u001b[39m\u001b[38;5;241m.\u001b[39m_backend\u001b[38;5;241m.\u001b[39mretrieval_context():\n\u001b[0;32m-> 1650\u001b[0m         \u001b[38;5;28;01myield from\u001b[39;00m \u001b[38;5;28mself\u001b[39m\u001b[38;5;241m.\u001b[39m_retrieve()\n\u001b[1;32m   1652\u001b[0m \u001b[38;5;28;01mexcept\u001b[39;00m \u001b[38;5;167;01mGeneratorExit\u001b[39;00m:\n\u001b[1;32m   1653\u001b[0m     \u001b[38;5;66;03m# The generator has been garbage collected before being fully\u001b[39;00m\n\u001b[1;32m   1654\u001b[0m     \u001b[38;5;66;03m# consumed. This aborts the remaining tasks if possible and warn\u001b[39;00m\n\u001b[1;32m   1655\u001b[0m     \u001b[38;5;66;03m# the user if necessary.\u001b[39;00m\n\u001b[1;32m   1656\u001b[0m     \u001b[38;5;28mself\u001b[39m\u001b[38;5;241m.\u001b[39m_exception \u001b[38;5;241m=\u001b[39m \u001b[38;5;28;01mTrue\u001b[39;00m\n",
      "File \u001b[0;32m~/.local/lib/python3.10/site-packages/joblib/parallel.py:1762\u001b[0m, in \u001b[0;36mParallel._retrieve\u001b[0;34m(self)\u001b[0m\n\u001b[1;32m   1757\u001b[0m \u001b[38;5;66;03m# If the next job is not ready for retrieval yet, we just wait for\u001b[39;00m\n\u001b[1;32m   1758\u001b[0m \u001b[38;5;66;03m# async callbacks to progress.\u001b[39;00m\n\u001b[1;32m   1759\u001b[0m \u001b[38;5;28;01mif\u001b[39;00m ((\u001b[38;5;28mlen\u001b[39m(\u001b[38;5;28mself\u001b[39m\u001b[38;5;241m.\u001b[39m_jobs) \u001b[38;5;241m==\u001b[39m \u001b[38;5;241m0\u001b[39m) \u001b[38;5;129;01mor\u001b[39;00m\n\u001b[1;32m   1760\u001b[0m     (\u001b[38;5;28mself\u001b[39m\u001b[38;5;241m.\u001b[39m_jobs[\u001b[38;5;241m0\u001b[39m]\u001b[38;5;241m.\u001b[39mget_status(\n\u001b[1;32m   1761\u001b[0m         timeout\u001b[38;5;241m=\u001b[39m\u001b[38;5;28mself\u001b[39m\u001b[38;5;241m.\u001b[39mtimeout) \u001b[38;5;241m==\u001b[39m TASK_PENDING)):\n\u001b[0;32m-> 1762\u001b[0m     \u001b[43mtime\u001b[49m\u001b[38;5;241;43m.\u001b[39;49m\u001b[43msleep\u001b[49m\u001b[43m(\u001b[49m\u001b[38;5;241;43m0.01\u001b[39;49m\u001b[43m)\u001b[49m\n\u001b[1;32m   1763\u001b[0m     \u001b[38;5;28;01mcontinue\u001b[39;00m\n\u001b[1;32m   1765\u001b[0m \u001b[38;5;66;03m# We need to be careful: the job list can be filling up as\u001b[39;00m\n\u001b[1;32m   1766\u001b[0m \u001b[38;5;66;03m# we empty it and Python list are not thread-safe by\u001b[39;00m\n\u001b[1;32m   1767\u001b[0m \u001b[38;5;66;03m# default hence the use of the lock\u001b[39;00m\n",
      "\u001b[0;31mKeyboardInterrupt\u001b[0m: "
     ]
    }
   ],
   "source": [
    "x0 = np.array([1.8, 1.9, 0.2])  # Initial guess\n",
    "M, Madapt = 500, 500  # Number of samples and adaptation steps\n",
    "delta = 0.7\n",
    "\n",
    "# Initialize NUTS sampler\n",
    "# sampler = NUTSSampler(len(x0), log_joint, grad_log_like)\n",
    "samples, lnprob, epsilon = nuts6(log_like_and_grad, M, Madapt, x0, delta, progress=True)"
   ]
  }
 ],
 "metadata": {
  "kernelspec": {
   "display_name": "Python 3",
   "language": "python",
   "name": "python3"
  },
  "language_info": {
   "codemirror_mode": {
    "name": "ipython",
    "version": 3
   },
   "file_extension": ".py",
   "mimetype": "text/x-python",
   "name": "python",
   "nbconvert_exporter": "python",
   "pygments_lexer": "ipython3",
   "version": "3.10.12"
  }
 },
 "nbformat": 4,
 "nbformat_minor": 2
}
