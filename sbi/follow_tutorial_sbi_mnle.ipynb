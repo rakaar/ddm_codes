{
 "cells": [
  {
   "cell_type": "code",
   "execution_count": 1,
   "metadata": {},
   "outputs": [],
   "source": [
    "import matplotlib.pyplot as plt\n",
    "import numpy as np\n",
    "import pickle\n",
    "import sbi\n",
    "import torch"
   ]
  },
  {
   "cell_type": "code",
   "execution_count": 2,
   "metadata": {},
   "outputs": [],
   "source": [
    "def simulate_PA(params):\n",
    "    v,a = params\n",
    "    dt = 1e-3; dB = np.sqrt(dt)\n",
    "    DV = 0; t = 0\n",
    "    while True:\n",
    "        DV += v*dt + np.random.normal(0, dB)\n",
    "        t += dt\n",
    "\n",
    "        if DV >= a:\n",
    "            return t, 1, (v,a)\n",
    "        elif DV <= -a:\n",
    "            return t, 0, (v,a)"
   ]
  },
  {
   "cell_type": "code",
   "execution_count": 3,
   "metadata": {},
   "outputs": [],
   "source": [
    "v = 1; a = 1"
   ]
  },
  {
   "cell_type": "code",
   "execution_count": 4,
   "metadata": {},
   "outputs": [],
   "source": [
    "from joblib import Parallel, delayed"
   ]
  },
  {
   "cell_type": "code",
   "execution_count": 5,
   "metadata": {},
   "outputs": [],
   "source": [
    "N_sim = int(1e5)"
   ]
  },
  {
   "cell_type": "code",
   "execution_count": 6,
   "metadata": {},
   "outputs": [],
   "source": [
    "# v prior from 0.1 to 3\n",
    "# a prior from 0.1 to 3\n",
    "# N_sim pairs\n",
    "import numpy as np\n",
    "v_distr = np.random.uniform(0.1, 3, N_sim)\n",
    "a_distr = np.random.uniform(0.1, 3, N_sim)\n",
    "\n",
    "params_np = np.array([v_distr,a_distr]).T"
   ]
  },
  {
   "cell_type": "code",
   "execution_count": 7,
   "metadata": {},
   "outputs": [
    {
     "data": {
      "text/plain": [
       "(100000, 2)"
      ]
     },
     "execution_count": 7,
     "metadata": {},
     "output_type": "execute_result"
    }
   ],
   "source": [
    "params_np.shape"
   ]
  },
  {
   "cell_type": "code",
   "execution_count": 8,
   "metadata": {},
   "outputs": [],
   "source": [
    "sim_results = Parallel(n_jobs=-1)(delayed(simulate_PA)([params_np[i,0], params_np[i,1]]) for i in range(N_sim))"
   ]
  },
  {
   "cell_type": "code",
   "execution_count": 9,
   "metadata": {},
   "outputs": [],
   "source": [
    "rt_np_arr = np.array([sim_results[i][0] for i in range(N_sim)])\n",
    "choice_np_arr = np.array([sim_results[i][1] for i in range(N_sim)])\n",
    "theta_tuple = np.array([sim_results[i][2] for i in range(N_sim)])\n"
   ]
  },
  {
   "cell_type": "code",
   "execution_count": 10,
   "metadata": {},
   "outputs": [
    {
     "data": {
      "text/plain": [
       "((100000,), (100000,), (100000, 2))"
      ]
     },
     "execution_count": 10,
     "metadata": {},
     "output_type": "execute_result"
    }
   ],
   "source": [
    "rt_np_arr.shape, choice_np_arr.shape, theta_tuple.shape"
   ]
  },
  {
   "cell_type": "code",
   "execution_count": 11,
   "metadata": {},
   "outputs": [
    {
     "data": {
      "text/plain": [
       "torch.Size([100000, 2])"
      ]
     },
     "execution_count": 11,
     "metadata": {},
     "output_type": "execute_result"
    }
   ],
   "source": [
    "import torch\n",
    "theta_tensor = torch.tensor(theta_tuple, dtype=torch.float32)\n",
    "theta_tensor.shape"
   ]
  },
  {
   "cell_type": "code",
   "execution_count": 12,
   "metadata": {},
   "outputs": [
    {
     "data": {
      "text/plain": [
       "torch.Size([100000, 2])"
      ]
     },
     "execution_count": 12,
     "metadata": {},
     "output_type": "execute_result"
    }
   ],
   "source": [
    "# x tensor - rt, choice side by side\n",
    "x_tensor = torch.tensor(np.array([rt_np_arr, choice_np_arr]).T, dtype=torch.float32)\n",
    "x_tensor.shape"
   ]
  },
  {
   "cell_type": "code",
   "execution_count": 13,
   "metadata": {},
   "outputs": [
    {
     "name": "stderr",
     "output_type": "stream",
     "text": [
      "2024-11-30 16:02:25.446034: I tensorflow/core/util/port.cc:153] oneDNN custom operations are on. You may see slightly different numerical results due to floating-point round-off errors from different computation orders. To turn them off, set the environment variable `TF_ENABLE_ONEDNN_OPTS=0`.\n",
      "2024-11-30 16:02:25.455158: E external/local_xla/xla/stream_executor/cuda/cuda_fft.cc:485] Unable to register cuFFT factory: Attempting to register factory for plugin cuFFT when one has already been registered\n",
      "2024-11-30 16:02:25.463898: E external/local_xla/xla/stream_executor/cuda/cuda_dnn.cc:8454] Unable to register cuDNN factory: Attempting to register factory for plugin cuDNN when one has already been registered\n",
      "2024-11-30 16:02:25.466593: E external/local_xla/xla/stream_executor/cuda/cuda_blas.cc:1452] Unable to register cuBLAS factory: Attempting to register factory for plugin cuBLAS when one has already been registered\n",
      "2024-11-30 16:02:25.474544: I tensorflow/core/platform/cpu_feature_guard.cc:210] This TensorFlow binary is optimized to use available CPU instructions in performance-critical operations.\n",
      "To enable the following instructions: AVX2 AVX512F AVX512_VNNI AVX512_BF16 FMA, in other operations, rebuild TensorFlow with the appropriate compiler flags.\n",
      "2024-11-30 16:02:25.978878: W tensorflow/compiler/tf2tensorrt/utils/py_utils.cc:38] TF-TRT Warning: Could not find TensorRT\n"
     ]
    }
   ],
   "source": [
    "from torch.distributions import Uniform\n",
    "v_distr = Uniform(torch.tensor([0.1]), torch.tensor([3]))    # decision boundary\n",
    "a_distr = Uniform(torch.tensor([0.1]), torch.tensor([3]))    # decision boundary\n",
    "from sbi.utils import MultipleIndependent\n",
    "\n",
    "prior = MultipleIndependent(\n",
    "    [\n",
    "        v_distr,\n",
    "        a_distr\n",
    "    ]\n",
    ")"
   ]
  },
  {
   "cell_type": "code",
   "execution_count": 14,
   "metadata": {},
   "outputs": [
    {
     "name": "stdout",
     "output_type": "stream",
     "text": [
      "tensor([0., 1.])\n",
      "x_tensor[:, 0].dtype = torch.float32, x_tensor[:, 1].dtype = torch.float32\n"
     ]
    }
   ],
   "source": [
    "from sbi.inference import MNLE\n",
    "\n",
    "trainer = MNLE(prior = prior)\n",
    "x_tensor[:, 1] = x_tensor[:, 1].to(dtype=torch.int64)  # Ensure it's categorical\n",
    "print(torch.unique(x_tensor[:, 1]))\n",
    "print(f\"x_tensor[:, 0].dtype = {x_tensor[:, 0].dtype}, x_tensor[:, 1].dtype = {x_tensor[:, 1].dtype}\")\n"
   ]
  },
  {
   "cell_type": "code",
   "execution_count": null,
   "metadata": {},
   "outputs": [
    {
     "name": "stdout",
     "output_type": "stream",
     "text": [
      " theta_tensor.shape = torch.Size([100000, 2]) \n",
      " x_tensor.shape = torch.Size([100000, 2]), prior = MultipleIndependent()\n"
     ]
    },
    {
     "name": "stderr",
     "output_type": "stream",
     "text": [
      "/home/rka/code/ddm_codes/venv/lib/python3.10/site-packages/sbi/neural_nets/factory.py:205: UserWarning: The mixed neural likelihood estimator assumes that x contains continuous data in the first n-1 columns (e.g., reaction times) and categorical data in the last column (e.g., corresponding choices). If this is not the case for the passed `x` do not use this function.\n",
      "  return model_builders[model](batch_x=batch_x, batch_y=batch_theta, **kwargs)\n"
     ]
    },
    {
     "name": "stdout",
     "output_type": "stream",
     "text": [
      " Neural network successfully converged after 73 epochs."
     ]
    }
   ],
   "source": [
    "print(f' theta_tensor.shape = {theta_tensor.shape} \\n x_tensor.shape = {x_tensor.shape}, prior = {prior}')\n",
    "trainer = MNLE(prior = prior)\n",
    "trainer_1 = trainer.append_simulations(theta=theta_tensor,x= x_tensor).train()"
   ]
  },
  {
   "cell_type": "code",
   "execution_count": 16,
   "metadata": {},
   "outputs": [
    {
     "data": {
      "text/plain": [
       "(1, 1)"
      ]
     },
     "execution_count": 16,
     "metadata": {},
     "output_type": "execute_result"
    }
   ],
   "source": [
    "v,a"
   ]
  },
  {
   "cell_type": "code",
   "execution_count": 17,
   "metadata": {},
   "outputs": [],
   "source": [
    "test_sim_data = Parallel(n_jobs=-1)(delayed(simulate_PA)([v,a]) for _ in range(N_sim))"
   ]
  },
  {
   "cell_type": "code",
   "execution_count": 20,
   "metadata": {},
   "outputs": [],
   "source": [
    "test_sim_rt = np.array([test_sim_data[i][0] for i in range(N_sim)])\n",
    "test_sim_choice = np.array([test_sim_data[i][1] for i in range(N_sim)])\n",
    "test_sim_theta = np.array([test_sim_data[i][2] for i in range(N_sim)])\n"
   ]
  },
  {
   "cell_type": "code",
   "execution_count": 22,
   "metadata": {},
   "outputs": [
    {
     "data": {
      "text/plain": [
       "(array([    6,    11,    12, ..., 99954, 99975, 99997]),)"
      ]
     },
     "execution_count": 22,
     "metadata": {},
     "output_type": "execute_result"
    }
   ],
   "source": [
    "test_sim_choice_0_idx = np.where(test_sim_choice == 0)\n",
    "test_sim_choice_0_idx"
   ]
  },
  {
   "cell_type": "code",
   "execution_count": 23,
   "metadata": {},
   "outputs": [
    {
     "data": {
      "text/plain": [
       "(100000,)"
      ]
     },
     "execution_count": 23,
     "metadata": {},
     "output_type": "execute_result"
    }
   ],
   "source": [
    "# multiple test_sim_choice_0_idx by -1 in test_sim_rt\n",
    "test_sim_rt[test_sim_choice_0_idx] *= -1\n",
    "\n",
    "test_sim_rt.shape"
   ]
  },
  {
   "cell_type": "code",
   "execution_count": 24,
   "metadata": {},
   "outputs": [
    {
     "data": {
      "text/plain": [
       "(100000, 2)"
      ]
     },
     "execution_count": 24,
     "metadata": {},
     "output_type": "execute_result"
    }
   ],
   "source": [
    "test_sim_theta.shape"
   ]
  },
  {
   "cell_type": "code",
   "execution_count": 25,
   "metadata": {},
   "outputs": [
    {
     "data": {
      "text/plain": [
       "(torch.Size([100000, 2]), torch.float32)"
      ]
     },
     "execution_count": 25,
     "metadata": {},
     "output_type": "execute_result"
    }
   ],
   "source": [
    "test_sim_theta_tensor = torch.tensor(test_sim_theta, dtype=torch.float32)\n",
    "test_sim_theta_tensor.shape, test_sim_theta_tensor.dtype"
   ]
  },
  {
   "cell_type": "code",
   "execution_count": 27,
   "metadata": {},
   "outputs": [
    {
     "data": {
      "text/plain": [
       "(torch.Size([100000, 2]), torch.float32)"
      ]
     },
     "execution_count": 27,
     "metadata": {},
     "output_type": "execute_result"
    }
   ],
   "source": [
    "test_sim_x_tensor = torch.tensor(np.array([test_sim_rt, test_sim_choice]).T, dtype=torch.float32)\n",
    "test_sim_x_tensor.shape, test_sim_x_tensor.dtype"
   ]
  },
  {
   "cell_type": "code",
   "execution_count": 30,
   "metadata": {},
   "outputs": [
    {
     "data": {
      "image/png": "[encoded data removed]",
      "text/plain": [
       "<Figure size 640x480 with 1 Axes>"
      ]
     },
     "metadata": {},
     "output_type": "display_data"
    }
   ],
   "source": [
    "plt.hist(test_sim_rt, bins=100, density=True);\n",
    "plt.hist\n"
   ]
  },
  {
   "cell_type": "code",
   "execution_count": 33,
   "metadata": {},
   "outputs": [
    {
     "data": {
      "text/plain": [
       "(100000, 2)"
      ]
     },
     "execution_count": 33,
     "metadata": {},
     "output_type": "execute_result"
    }
   ],
   "source": [
    "test_sim_theta.shape"
   ]
  },
  {
   "cell_type": "code",
   "execution_count": 37,
   "metadata": {},
   "outputs": [
    {
     "data": {
      "text/plain": [
       "array([1, 1])"
      ]
     },
     "execution_count": 37,
     "metadata": {},
     "output_type": "execute_result"
    }
   ],
   "source": [
    "test_sim_theta[0]"
   ]
  },
  {
   "cell_type": "code",
   "execution_count": 39,
   "metadata": {},
   "outputs": [
    {
     "ename": "TypeError",
     "evalue": "'int' object is not iterable",
     "output_type": "error",
     "traceback": [
      "\u001b[0;31m---------------------------------------------------------------------------\u001b[0m",
      "\u001b[0;31mTypeError\u001b[0m                                 Traceback (most recent call last)",
      "Cell \u001b[0;32mIn[39], line 1\u001b[0m\n\u001b[0;32m----> 1\u001b[0m \u001b[43mtorch\u001b[49m\u001b[38;5;241;43m.\u001b[39;49m\u001b[43mSize\u001b[49m\u001b[43m(\u001b[49m\u001b[38;5;241;43m1\u001b[39;49m\u001b[43m)\u001b[49m\n",
      "\u001b[0;31mTypeError\u001b[0m: 'int' object is not iterable"
     ]
    }
   ],
   "source": [
    "torch.Size(test_sim_theta_tensor)"
   ]
  },
  {
   "cell_type": "code",
   "execution_count": 65,
   "metadata": {},
   "outputs": [
    {
     "name": "stdout",
     "output_type": "stream",
     "text": [
      "    def log_prob(self, input: Tensor, condition: Tensor) -> Tensor:\n",
      "        r\"\"\"Return the log probabilities of the inputs given a condition or multiple\n",
      "        i.e. batched conditions.\n",
      "\n",
      "\n",
      "        Args:\n",
      "            input: Inputs to evaluate the log probability on. Of shape\n",
      "                `(sample_dim, batch_dim, *event_shape)`.\n",
      "            condition: Conditions of shape `(batch_dim, *event_shape)`.\n",
      "\n",
      "        Raises:\n",
      "            NotImplementedError: If `input` has a sample shape > 1. The reason\n",
      "                is that in MLE, discrete and continuous data are combined into one\n",
      "                condition, creating a mismatch if sample shapes are present because\n",
      "                the condition cannot have a sample shape.\n",
      "            AssertionError: If `input_batch_dim != condition_batch_dim`.\n",
      "\n",
      "        Returns:\n",
      "            Sample-wise log probabilities, shape `(input_sample_dim, input_batch_dim)`.\n",
      "        \"\"\"\n",
      "\n",
      "        assert (\n",
      "            input.dim() > 2\n",
      "        ), \"Input must be of shape (sample_dim, batch_dim, *event_shape).\"\n",
      "        input_sample_dim, input_batch_dim = input.shape[:2]\n",
      "        condition_batch_dim = condition.shape[0]\n",
      "        combined_batch_size = input_sample_dim * input_batch_dim\n",
      "\n",
      "        assert condition_batch_dim == input_batch_dim, (\n",
      "            f\"Batch shape of condition {condition_batch_dim} and input \"\n",
      "            f\"{input_batch_dim} do not match.\"\n",
      "        )\n",
      "\n",
      "        cont_input, disc_input = _separate_input(input)\n",
      "        # Embed continuous condition\n",
      "        embedded_condition = self.condition_embedding(condition)\n",
      "        # expand and repeat to match batch of inputs.\n",
      "        embedded_condition = embedded_condition.unsqueeze(0).repeat(\n",
      "            input_sample_dim, 1, 1\n",
      "        )\n",
      "        combined_condition = torch.cat((disc_input, embedded_condition), dim=-1)\n",
      "        # reshape to match requirement that condition has no sample dim.\n",
      "        combined_condition = combined_condition.reshape(combined_batch_size, -1)\n",
      "\n",
      "        # Get log probs from discrete data. Pass with singleton sample dim.\n",
      "        disc_log_prob = self.discrete_net.log_prob(\n",
      "            input=disc_input, condition=condition\n",
      "        )\n",
      "\n",
      "        cont_input_reshaped = cont_input.reshape((1, combined_batch_size, -1))\n",
      "\n",
      "        cont_log_prob = self.continuous_net.log_prob(\n",
      "            # Transform to log-space if needed.\n",
      "            (\n",
      "                torch.log(cont_input_reshaped)\n",
      "                if self.log_transform_input\n",
      "                else cont_input_reshaped\n",
      "            ),\n",
      "            condition=combined_condition,\n",
      "        )\n",
      "        cont_log_prob = cont_log_prob.reshape(disc_log_prob.shape)\n",
      "\n",
      "        # Combine into joint lp.\n",
      "        log_probs_combined = disc_log_prob + cont_log_prob\n",
      "\n",
      "        # Maybe add log abs det jacobian of RTs: log(1/x) = - log(x)\n",
      "        if self.log_transform_input:\n",
      "            log_probs_combined -= torch.log(cont_input).sum(-1)\n",
      "\n",
      "        return log_probs_combined.reshape((input_sample_dim, input_batch_dim))\n",
      "\n"
     ]
    }
   ],
   "source": [
    "from inspect import getsource\n",
    "print(getsource(trainer_1.log_prob))\n"
   ]
  },
  {
   "cell_type": "code",
   "execution_count": 53,
   "metadata": {},
   "outputs": [
    {
     "data": {
      "text/plain": [
       "torch.Size([1, 2])"
      ]
     },
     "execution_count": 53,
     "metadata": {},
     "output_type": "execute_result"
    }
   ],
   "source": [
    "torch.Size([1, 2])"
   ]
  },
  {
   "cell_type": "code",
   "execution_count": 54,
   "metadata": {},
   "outputs": [
    {
     "ename": "AttributeError",
     "evalue": "'int' object has no attribute 'shape'",
     "output_type": "error",
     "traceback": [
      "\u001b[0;31m---------------------------------------------------------------------------\u001b[0m",
      "\u001b[0;31mAttributeError\u001b[0m                            Traceback (most recent call last)",
      "Cell \u001b[0;32mIn[54], line 1\u001b[0m\n\u001b[0;32m----> 1\u001b[0m x_syn \u001b[38;5;241m=\u001b[39m \u001b[43mtrainer_1\u001b[49m\u001b[38;5;241;43m.\u001b[39;49m\u001b[43msample\u001b[49m\u001b[43m(\u001b[49m\u001b[43m[\u001b[49m\u001b[43mN_sim\u001b[49m\u001b[43m,\u001b[49m\u001b[43m \u001b[49m\u001b[38;5;241;43m2\u001b[39;49m\u001b[43m]\u001b[49m\u001b[43m,\u001b[49m\u001b[43m \u001b[49m\u001b[43mN_sim\u001b[49m\u001b[43m)\u001b[49m\n",
      "File \u001b[0;32m~/code/ddm_codes/venv/lib/python3.10/site-packages/sbi/neural_nets/estimators/mixed_density_estimator.py:74\u001b[0m, in \u001b[0;36mMixedDensityEstimator.sample\u001b[0;34m(self, sample_shape, condition, track_gradients)\u001b[0m\n\u001b[1;32m     61\u001b[0m \u001b[38;5;250m\u001b[39m\u001b[38;5;124;03m\"\"\"Return sample from mixed data distribution.\u001b[39;00m\n\u001b[1;32m     62\u001b[0m \n\u001b[1;32m     63\u001b[0m \u001b[38;5;124;03mSamples are generated by first sampling the discrete part of the data\u001b[39;00m\n\u001b[0;32m   (...)\u001b[0m\n\u001b[1;32m     71\u001b[0m \u001b[38;5;124;03m    Samples of shape `(*sample_shape, batch_dim, event_dim_input)`\u001b[39;00m\n\u001b[1;32m     72\u001b[0m \u001b[38;5;124;03m\"\"\"\u001b[39;00m\n\u001b[1;32m     73\u001b[0m num_samples \u001b[38;5;241m=\u001b[39m torch\u001b[38;5;241m.\u001b[39mSize(sample_shape)\u001b[38;5;241m.\u001b[39mnumel()\n\u001b[0;32m---> 74\u001b[0m batch_dim \u001b[38;5;241m=\u001b[39m \u001b[43mcondition\u001b[49m\u001b[38;5;241;43m.\u001b[39;49m\u001b[43mshape\u001b[49m[\u001b[38;5;241m0\u001b[39m]\n\u001b[1;32m     75\u001b[0m embedded_condition \u001b[38;5;241m=\u001b[39m \u001b[38;5;28mself\u001b[39m\u001b[38;5;241m.\u001b[39mcondition_embedding(condition)\n\u001b[1;32m     77\u001b[0m \u001b[38;5;28;01mwith\u001b[39;00m torch\u001b[38;5;241m.\u001b[39mset_grad_enabled(track_gradients):\n\u001b[1;32m     78\u001b[0m     \u001b[38;5;66;03m# Sample discrete data given parameters.\u001b[39;00m\n",
      "\u001b[0;31mAttributeError\u001b[0m: 'int' object has no attribute 'shape'"
     ]
    }
   ],
   "source": [
    "x_syn = trainer_1.sample([N_sim, 2], N_sim)"
   ]
  },
  {
   "cell_type": "code",
   "execution_count": 55,
   "metadata": {},
   "outputs": [
    {
     "data": {
      "text/plain": [
       "(torch.Size([100000, 2]), torch.Size([100000, 2]))"
      ]
     },
     "execution_count": 55,
     "metadata": {},
     "output_type": "execute_result"
    }
   ],
   "source": [
    "test_sim_theta_tensor.shape, test_sim_x_tensor.shape"
   ]
  },
  {
   "cell_type": "code",
   "execution_count": 60,
   "metadata": {},
   "outputs": [
    {
     "data": {
      "text/plain": [
       "(torch.Size([100000, 1, 2]), torch.Size([100000, 2]))"
      ]
     },
     "execution_count": 60,
     "metadata": {},
     "output_type": "execute_result"
    }
   ],
   "source": [
    "test_sim_x_tensor.reshape(-1,1,2).shape, test_sim_theta_tensor.shape"
   ]
  },
  {
   "cell_type": "code",
   "execution_count": 67,
   "metadata": {},
   "outputs": [],
   "source": [
    "\n",
    "# apply abs on 1st column of test_sim_x_tensor\n",
    "test_sim_x_tensor[:,0] = torch.abs(test_sim_x_tensor[:,0])"
   ]
  },
  {
   "cell_type": "code",
   "execution_count": 74,
   "metadata": {},
   "outputs": [
    {
     "name": "stdout",
     "output_type": "stream",
     "text": [
      "test_x.shape = torch.Size([1000, 2]), test_sim_theta_tensor.shape = torch.Size([1000, 2])\n"
     ]
    }
   ],
   "source": [
    "test_data = torch.linspace(-8, 8, 1000)\n",
    "# Separate rts and choices.\n",
    "test_rts = abs(test_data)\n",
    "test_cs = torch.ones_like(test_data)\n",
    "test_cs[test_data < 0] = 0\n",
    "test_x = torch.stack((test_rts, test_cs), dim=1)\n",
    "\n",
    "# Get the log likelihood of the entire range of reaction times and choices.\n",
    "print(f\"test_x.shape = {test_x.shape}, test_sim_theta_tensor.shape = {test_sim_theta_tensor[:1000,:].shape}\")\n",
    "mnle_likelihoods = trainer_1.log_prob(test_x.reshape(1,-1,2), test_sim_theta_tensor[:1000,:]).detach()"
   ]
  },
  {
   "cell_type": "code",
   "execution_count": 68,
   "metadata": {},
   "outputs": [
    {
     "name": "stdout",
     "output_type": "stream",
     "text": [
      "torch.Size([100000, 2]) torch.Size([100000, 2])\n"
     ]
    }
   ],
   "source": [
    "print(test_sim_x_tensor.shape, test_sim_theta_tensor.shape)\n",
    "mnle_loglike = trainer_1.log_prob( test_sim_x_tensor.reshape(1, -1,2), test_sim_theta_tensor)"
   ]
  },
  {
   "cell_type": "code",
   "execution_count": 80,
   "metadata": {},
   "outputs": [
    {
     "data": {
      "image/png": "[encoded data removed]",
      "text/plain": [
       "<Figure size 640x480 with 1 Axes>"
      ]
     },
     "metadata": {},
     "output_type": "display_data"
    }
   ],
   "source": [
    "plt.plot(\n",
    "    test_data, mnle_likelihoods.exp().squeeze(), label=\"MNLE likelihood\", ls=\"-\",\n",
    ")\n",
    "\n",
    "plt.hist(test_sim_rt, bins=100, density=True, alpha=0.5, label=\"simulated data\");"
   ]
  }
 ],
 "metadata": {
  "kernelspec": {
   "display_name": "venv",
   "language": "python",
   "name": "python3"
  },
  "language_info": {
   "codemirror_mode": {
    "name": "ipython",
    "version": 3
   },
   "file_extension": ".py",
   "mimetype": "text/x-python",
   "name": "python",
   "nbconvert_exporter": "python",
   "pygments_lexer": "ipython3",
   "version": "3.10.12"
  }
 },
 "nbformat": 4,
 "nbformat_minor": 2
}
