{
 "cells": [
  {
   "cell_type": "code",
   "execution_count": 2,
   "metadata": {},
   "outputs": [],
   "source": [
    "import matplotlib.pyplot as plt\n",
    "import numpy as np"
   ]
  },
  {
   "cell_type": "code",
   "execution_count": 3,
   "metadata": {},
   "outputs": [],
   "source": [
    "N_sim = int(1e5)"
   ]
  },
  {
   "cell_type": "code",
   "execution_count": 4,
   "metadata": {},
   "outputs": [],
   "source": [
    "import torch\n",
    "\n",
    "\n",
    "# Generate parameters alpha (shape) and beta (rate) uniformly in range [0.1, 3]\n",
    "alpha = torch.rand(N_sim) * (3 - 0.1) + 0.1\n",
    "beta = torch.rand(N_sim) * (3 - 0.1) + 0.1\n",
    "\n",
    "# Create the Gamma distribution\n",
    "gamma_dist = torch.distributions.Gamma(alpha, beta)\n",
    "\n",
    "# Sample from the distribution\n",
    "samples = gamma_dist.sample()\n",
    "\n"
   ]
  },
  {
   "cell_type": "code",
   "execution_count": 21,
   "metadata": {},
   "outputs": [
    {
     "data": {
      "text/plain": [
       "(torch.Size([100000]), torch.Size([100000]))"
      ]
     },
     "execution_count": 21,
     "metadata": {},
     "output_type": "execute_result"
    }
   ],
   "source": [
    "alpha.shape, beta.shape"
   ]
  },
  {
   "cell_type": "code",
   "execution_count": 7,
   "metadata": {},
   "outputs": [
    {
     "data": {
      "text/plain": [
       "(0.0, 10.0)"
      ]
     },
     "execution_count": 7,
     "metadata": {},
     "output_type": "execute_result"
    },
    {
     "data": {
      "image/png": "[encoded data removed]",
      "text/plain": [
       "<Figure size 640x480 with 1 Axes>"
      ]
     },
     "metadata": {},
     "output_type": "display_data"
    }
   ],
   "source": [
    "plt.hist(samples.numpy(), bins=100, density=True);\n",
    "plt.xlim(0,10)"
   ]
  },
  {
   "cell_type": "code",
   "execution_count": 9,
   "metadata": {},
   "outputs": [],
   "source": [
    "from torch.distributions import Uniform\n",
    "alpha_dist = Uniform(torch.tensor([0.1]), torch.tensor([3]))    # decision boundary\n",
    "beta_dist = Uniform(torch.tensor([0.1]), torch.tensor([3]))    # decision boundary\n",
    "from sbi.utils import MultipleIndependent\n",
    "\n",
    "prior = MultipleIndependent(\n",
    "    [\n",
    "        alpha_dist,\n",
    "        beta_dist,\n",
    "    ]\n",
    ")"
   ]
  },
  {
   "cell_type": "code",
   "execution_count": 10,
   "metadata": {},
   "outputs": [],
   "source": [
    "from sbi.inference import SNLE\n",
    "trainer = SNLE(prior = prior)\n"
   ]
  },
  {
   "cell_type": "code",
   "execution_count": 11,
   "metadata": {},
   "outputs": [
    {
     "data": {
      "text/plain": [
       "(torch.Size([100000]), torch.Size([100000]), torch.Size([100000]))"
      ]
     },
     "execution_count": 11,
     "metadata": {},
     "output_type": "execute_result"
    }
   ],
   "source": [
    "alpha.shape, beta.shape, samples.shape"
   ]
  },
  {
   "cell_type": "code",
   "execution_count": 12,
   "metadata": {},
   "outputs": [
    {
     "data": {
      "text/plain": [
       "torch.Size([100000, 2])"
      ]
     },
     "execution_count": 12,
     "metadata": {},
     "output_type": "execute_result"
    }
   ],
   "source": [
    "# merge alpha beta both side by side\n",
    "theta = torch.cat((alpha.unsqueeze(-1), beta.unsqueeze(-1)), dim=-1)\n",
    "theta.shape"
   ]
  },
  {
   "cell_type": "code",
   "execution_count": 13,
   "metadata": {},
   "outputs": [],
   "source": [
    "x = samples.reshape(-1,1)"
   ]
  },
  {
   "cell_type": "code",
   "execution_count": 15,
   "metadata": {},
   "outputs": [
    {
     "name": "stdout",
     "output_type": "stream",
     "text": [
      "torch.Size([100000, 2]) torch.Size([100000, 1])\n"
     ]
    },
    {
     "name": "stderr",
     "output_type": "stream",
     "text": [
      "/home/rka/code/ddm_codes/venv/lib/python3.10/site-packages/sbi/neural_nets/net_builders/flow.py:141: UserWarning: In one-dimensional output space, this flow is limited to Gaussians\n",
      "  x_numel = get_numel(\n"
     ]
    },
    {
     "name": "stdout",
     "output_type": "stream",
     "text": [
      " Neural network successfully converged after 52 epochs."
     ]
    }
   ],
   "source": [
    "print(theta.shape, x.shape)\n",
    "trainer_1 = trainer.append_simulations(theta=theta,x=x).train()"
   ]
  },
  {
   "cell_type": "code",
   "execution_count": 44,
   "metadata": {},
   "outputs": [
    {
     "name": "stdout",
     "output_type": "stream",
     "text": [
      "torch.Size([1, 1000])\n"
     ]
    }
   ],
   "source": [
    "test_data = torch.linspace(-5,5, 1000)\n",
    "test_data_reshape = test_data.reshape(1, -1)\n",
    "print(test_data_reshape.shape)"
   ]
  },
  {
   "cell_type": "code",
   "execution_count": 45,
   "metadata": {},
   "outputs": [
    {
     "data": {
      "text/plain": [
       "torch.Size([10])"
      ]
     },
     "execution_count": 45,
     "metadata": {},
     "output_type": "execute_result"
    }
   ],
   "source": [
    "(2*torch.ones((10))).shape"
   ]
  },
  {
   "cell_type": "code",
   "execution_count": 46,
   "metadata": {},
   "outputs": [],
   "source": [
    "alpha_test = 1; beta_test = 1\n",
    "# \n",
    "alpha_test_arr = alpha_test*torch.ones((1000))\n",
    "beta_test_arr = beta_test*torch.ones((1000))\n",
    "\n",
    "# generate gamman dist and sample\n",
    "gamma_dist_test = torch.distributions.Gamma(alpha_test_arr, beta_test_arr)\n",
    "samples_test = gamma_dist_test.sample()\n",
    "\n",
    "# calculate theoretical likelihood of test_data points given alpha and beta\n",
    "log_prob = gamma_dist_test.log_prob(test_data)"
   ]
  },
  {
   "cell_type": "code",
   "execution_count": 47,
   "metadata": {},
   "outputs": [
    {
     "data": {
      "text/plain": [
       "(torch.Size([1000]), torch.Size([1000]))"
      ]
     },
     "execution_count": 47,
     "metadata": {},
     "output_type": "execute_result"
    }
   ],
   "source": [
    "samples_test.shape, log_prob.shape"
   ]
  },
  {
   "cell_type": "code",
   "execution_count": 51,
   "metadata": {},
   "outputs": [
    {
     "data": {
      "text/plain": [
       "Text(0.5, 1.0, 'theoretical likelihood')"
      ]
     },
     "execution_count": 51,
     "metadata": {},
     "output_type": "execute_result"
    },
    {
     "data": {
      "image/png": "[encoded data removed]",
      "text/plain": [
       "<Figure size 640x480 with 1 Axes>"
      ]
     },
     "metadata": {},
     "output_type": "display_data"
    }
   ],
   "source": [
    "plt.hist(samples_test.numpy(), bins=100, density=True);\n",
    "plt.plot(test_data, torch.exp(log_prob), 'r')\n",
    "plt.xlim(0,5)\n",
    "plt.title('theoretical likelihood')"
   ]
  },
  {
   "cell_type": "code",
   "execution_count": 52,
   "metadata": {},
   "outputs": [
    {
     "name": "stdout",
     "output_type": "stream",
     "text": [
      "torch.Size([1000]) torch.Size([1000, 2])\n"
     ]
    }
   ],
   "source": [
    "test_theta = torch.cat((alpha_test_arr.unsqueeze(-1), beta_test_arr.unsqueeze(-1)), dim=-1)\n",
    "print(test_data.shape, test_theta.shape)\n",
    "loglike = trainer_1.log_prob(test_data_reshape, test_theta).detach()"
   ]
  },
  {
   "cell_type": "code",
   "execution_count": 53,
   "metadata": {},
   "outputs": [
    {
     "data": {
      "text/plain": [
       "(tensor([[1., 1.],\n",
       "         [1., 1.],\n",
       "         [1., 1.],\n",
       "         ...,\n",
       "         [1., 1.],\n",
       "         [1., 1.],\n",
       "         [1., 1.]]),\n",
       " tensor([-5.0000, -4.9900, -4.9800, -4.9700, -4.9600, -4.9499, -4.9399, -4.9299,\n",
       "         -4.9199, -4.9099, -4.8999, -4.8899, -4.8799, -4.8699, -4.8599, -4.8498,\n",
       "         -4.8398, -4.8298, -4.8198, -4.8098, -4.7998, -4.7898, -4.7798, -4.7698,\n",
       "         -4.7598, -4.7497, -4.7397, -4.7297, -4.7197, -4.7097, -4.6997, -4.6897,\n",
       "         -4.6797, -4.6697, -4.6597, -4.6496, -4.6396, -4.6296, -4.6196, -4.6096,\n",
       "         -4.5996, -4.5896, -4.5796, -4.5696, -4.5596, -4.5495, -4.5395, -4.5295,\n",
       "         -4.5195, -4.5095, -4.4995, -4.4895, -4.4795, -4.4695, -4.4595, -4.4494,\n",
       "         -4.4394, -4.4294, -4.4194, -4.4094, -4.3994, -4.3894, -4.3794, -4.3694,\n",
       "         -4.3594, -4.3493, -4.3393, -4.3293, -4.3193, -4.3093, -4.2993, -4.2893,\n",
       "         -4.2793, -4.2693, -4.2593, -4.2492, -4.2392, -4.2292, -4.2192, -4.2092,\n",
       "         -4.1992, -4.1892, -4.1792, -4.1692, -4.1592, -4.1491, -4.1391, -4.1291,\n",
       "         -4.1191, -4.1091, -4.0991, -4.0891, -4.0791, -4.0691, -4.0591, -4.0490,\n",
       "         -4.0390, -4.0290, -4.0190, -4.0090, -3.9990, -3.9890, -3.9790, -3.9690,\n",
       "         -3.9590, -3.9489, -3.9389, -3.9289, -3.9189, -3.9089, -3.8989, -3.8889,\n",
       "         -3.8789, -3.8689, -3.8589, -3.8488, -3.8388, -3.8288, -3.8188, -3.8088,\n",
       "         -3.7988, -3.7888, -3.7788, -3.7688, -3.7588, -3.7487, -3.7387, -3.7287,\n",
       "         -3.7187, -3.7087, -3.6987, -3.6887, -3.6787, -3.6687, -3.6587, -3.6486,\n",
       "         -3.6386, -3.6286, -3.6186, -3.6086, -3.5986, -3.5886, -3.5786, -3.5686,\n",
       "         -3.5586, -3.5485, -3.5385, -3.5285, -3.5185, -3.5085, -3.4985, -3.4885,\n",
       "         -3.4785, -3.4685, -3.4585, -3.4484, -3.4384, -3.4284, -3.4184, -3.4084,\n",
       "         -3.3984, -3.3884, -3.3784, -3.3684, -3.3584, -3.3483, -3.3383, -3.3283,\n",
       "         -3.3183, -3.3083, -3.2983, -3.2883, -3.2783, -3.2683, -3.2583, -3.2482,\n",
       "         -3.2382, -3.2282, -3.2182, -3.2082, -3.1982, -3.1882, -3.1782, -3.1682,\n",
       "         -3.1582, -3.1481, -3.1381, -3.1281, -3.1181, -3.1081, -3.0981, -3.0881,\n",
       "         -3.0781, -3.0681, -3.0581, -3.0480, -3.0380, -3.0280, -3.0180, -3.0080,\n",
       "         -2.9980, -2.9880, -2.9780, -2.9680, -2.9580, -2.9479, -2.9379, -2.9279,\n",
       "         -2.9179, -2.9079, -2.8979, -2.8879, -2.8779, -2.8679, -2.8579, -2.8478,\n",
       "         -2.8378, -2.8278, -2.8178, -2.8078, -2.7978, -2.7878, -2.7778, -2.7678,\n",
       "         -2.7578, -2.7477, -2.7377, -2.7277, -2.7177, -2.7077, -2.6977, -2.6877,\n",
       "         -2.6777, -2.6677, -2.6577, -2.6476, -2.6376, -2.6276, -2.6176, -2.6076,\n",
       "         -2.5976, -2.5876, -2.5776, -2.5676, -2.5576, -2.5475, -2.5375, -2.5275,\n",
       "         -2.5175, -2.5075, -2.4975, -2.4875, -2.4775, -2.4675, -2.4575, -2.4474,\n",
       "         -2.4374, -2.4274, -2.4174, -2.4074, -2.3974, -2.3874, -2.3774, -2.3674,\n",
       "         -2.3574, -2.3473, -2.3373, -2.3273, -2.3173, -2.3073, -2.2973, -2.2873,\n",
       "         -2.2773, -2.2673, -2.2573, -2.2472, -2.2372, -2.2272, -2.2172, -2.2072,\n",
       "         -2.1972, -2.1872, -2.1772, -2.1672, -2.1572, -2.1471, -2.1371, -2.1271,\n",
       "         -2.1171, -2.1071, -2.0971, -2.0871, -2.0771, -2.0671, -2.0571, -2.0470,\n",
       "         -2.0370, -2.0270, -2.0170, -2.0070, -1.9970, -1.9870, -1.9770, -1.9670,\n",
       "         -1.9570, -1.9469, -1.9369, -1.9269, -1.9169, -1.9069, -1.8969, -1.8869,\n",
       "         -1.8769, -1.8669, -1.8569, -1.8468, -1.8368, -1.8268, -1.8168, -1.8068,\n",
       "         -1.7968, -1.7868, -1.7768, -1.7668, -1.7568, -1.7467, -1.7367, -1.7267,\n",
       "         -1.7167, -1.7067, -1.6967, -1.6867, -1.6767, -1.6667, -1.6567, -1.6466,\n",
       "         -1.6366, -1.6266, -1.6166, -1.6066, -1.5966, -1.5866, -1.5766, -1.5666,\n",
       "         -1.5566, -1.5465, -1.5365, -1.5265, -1.5165, -1.5065, -1.4965, -1.4865,\n",
       "         -1.4765, -1.4665, -1.4565, -1.4464, -1.4364, -1.4264, -1.4164, -1.4064,\n",
       "         -1.3964, -1.3864, -1.3764, -1.3664, -1.3564, -1.3463, -1.3363, -1.3263,\n",
       "         -1.3163, -1.3063, -1.2963, -1.2863, -1.2763, -1.2663, -1.2563, -1.2462,\n",
       "         -1.2362, -1.2262, -1.2162, -1.2062, -1.1962, -1.1862, -1.1762, -1.1662,\n",
       "         -1.1562, -1.1461, -1.1361, -1.1261, -1.1161, -1.1061, -1.0961, -1.0861,\n",
       "         -1.0761, -1.0661, -1.0561, -1.0460, -1.0360, -1.0260, -1.0160, -1.0060,\n",
       "         -0.9960, -0.9860, -0.9760, -0.9660, -0.9560, -0.9459, -0.9359, -0.9259,\n",
       "         -0.9159, -0.9059, -0.8959, -0.8859, -0.8759, -0.8659, -0.8559, -0.8458,\n",
       "         -0.8358, -0.8258, -0.8158, -0.8058, -0.7958, -0.7858, -0.7758, -0.7658,\n",
       "         -0.7558, -0.7457, -0.7357, -0.7257, -0.7157, -0.7057, -0.6957, -0.6857,\n",
       "         -0.6757, -0.6657, -0.6557, -0.6456, -0.6356, -0.6256, -0.6156, -0.6056,\n",
       "         -0.5956, -0.5856, -0.5756, -0.5656, -0.5556, -0.5455, -0.5355, -0.5255,\n",
       "         -0.5155, -0.5055, -0.4955, -0.4855, -0.4755, -0.4655, -0.4555, -0.4454,\n",
       "         -0.4354, -0.4254, -0.4154, -0.4054, -0.3954, -0.3854, -0.3754, -0.3654,\n",
       "         -0.3554, -0.3453, -0.3353, -0.3253, -0.3153, -0.3053, -0.2953, -0.2853,\n",
       "         -0.2753, -0.2653, -0.2553, -0.2452, -0.2352, -0.2252, -0.2152, -0.2052,\n",
       "         -0.1952, -0.1852, -0.1752, -0.1652, -0.1552, -0.1451, -0.1351, -0.1251,\n",
       "         -0.1151, -0.1051, -0.0951, -0.0851, -0.0751, -0.0651, -0.0551, -0.0450,\n",
       "         -0.0350, -0.0250, -0.0150, -0.0050,  0.0050,  0.0150,  0.0250,  0.0350,\n",
       "          0.0450,  0.0551,  0.0651,  0.0751,  0.0851,  0.0951,  0.1051,  0.1151,\n",
       "          0.1251,  0.1351,  0.1451,  0.1552,  0.1652,  0.1752,  0.1852,  0.1952,\n",
       "          0.2052,  0.2152,  0.2252,  0.2352,  0.2452,  0.2553,  0.2653,  0.2753,\n",
       "          0.2853,  0.2953,  0.3053,  0.3153,  0.3253,  0.3353,  0.3453,  0.3554,\n",
       "          0.3654,  0.3754,  0.3854,  0.3954,  0.4054,  0.4154,  0.4254,  0.4354,\n",
       "          0.4454,  0.4555,  0.4655,  0.4755,  0.4855,  0.4955,  0.5055,  0.5155,\n",
       "          0.5255,  0.5355,  0.5455,  0.5556,  0.5656,  0.5756,  0.5856,  0.5956,\n",
       "          0.6056,  0.6156,  0.6256,  0.6356,  0.6456,  0.6557,  0.6657,  0.6757,\n",
       "          0.6857,  0.6957,  0.7057,  0.7157,  0.7257,  0.7357,  0.7457,  0.7558,\n",
       "          0.7658,  0.7758,  0.7858,  0.7958,  0.8058,  0.8158,  0.8258,  0.8358,\n",
       "          0.8458,  0.8559,  0.8659,  0.8759,  0.8859,  0.8959,  0.9059,  0.9159,\n",
       "          0.9259,  0.9359,  0.9459,  0.9560,  0.9660,  0.9760,  0.9860,  0.9960,\n",
       "          1.0060,  1.0160,  1.0260,  1.0360,  1.0460,  1.0561,  1.0661,  1.0761,\n",
       "          1.0861,  1.0961,  1.1061,  1.1161,  1.1261,  1.1361,  1.1461,  1.1562,\n",
       "          1.1662,  1.1762,  1.1862,  1.1962,  1.2062,  1.2162,  1.2262,  1.2362,\n",
       "          1.2462,  1.2563,  1.2663,  1.2763,  1.2863,  1.2963,  1.3063,  1.3163,\n",
       "          1.3263,  1.3363,  1.3463,  1.3564,  1.3664,  1.3764,  1.3864,  1.3964,\n",
       "          1.4064,  1.4164,  1.4264,  1.4364,  1.4464,  1.4565,  1.4665,  1.4765,\n",
       "          1.4865,  1.4965,  1.5065,  1.5165,  1.5265,  1.5365,  1.5465,  1.5566,\n",
       "          1.5666,  1.5766,  1.5866,  1.5966,  1.6066,  1.6166,  1.6266,  1.6366,\n",
       "          1.6466,  1.6567,  1.6667,  1.6767,  1.6867,  1.6967,  1.7067,  1.7167,\n",
       "          1.7267,  1.7367,  1.7467,  1.7568,  1.7668,  1.7768,  1.7868,  1.7968,\n",
       "          1.8068,  1.8168,  1.8268,  1.8368,  1.8468,  1.8569,  1.8669,  1.8769,\n",
       "          1.8869,  1.8969,  1.9069,  1.9169,  1.9269,  1.9369,  1.9469,  1.9570,\n",
       "          1.9670,  1.9770,  1.9870,  1.9970,  2.0070,  2.0170,  2.0270,  2.0370,\n",
       "          2.0470,  2.0571,  2.0671,  2.0771,  2.0871,  2.0971,  2.1071,  2.1171,\n",
       "          2.1271,  2.1371,  2.1471,  2.1572,  2.1672,  2.1772,  2.1872,  2.1972,\n",
       "          2.2072,  2.2172,  2.2272,  2.2372,  2.2472,  2.2573,  2.2673,  2.2773,\n",
       "          2.2873,  2.2973,  2.3073,  2.3173,  2.3273,  2.3373,  2.3473,  2.3574,\n",
       "          2.3674,  2.3774,  2.3874,  2.3974,  2.4074,  2.4174,  2.4274,  2.4374,\n",
       "          2.4474,  2.4575,  2.4675,  2.4775,  2.4875,  2.4975,  2.5075,  2.5175,\n",
       "          2.5275,  2.5375,  2.5475,  2.5576,  2.5676,  2.5776,  2.5876,  2.5976,\n",
       "          2.6076,  2.6176,  2.6276,  2.6376,  2.6476,  2.6577,  2.6677,  2.6777,\n",
       "          2.6877,  2.6977,  2.7077,  2.7177,  2.7277,  2.7377,  2.7477,  2.7578,\n",
       "          2.7678,  2.7778,  2.7878,  2.7978,  2.8078,  2.8178,  2.8278,  2.8378,\n",
       "          2.8478,  2.8579,  2.8679,  2.8779,  2.8879,  2.8979,  2.9079,  2.9179,\n",
       "          2.9279,  2.9379,  2.9479,  2.9580,  2.9680,  2.9780,  2.9880,  2.9980,\n",
       "          3.0080,  3.0180,  3.0280,  3.0380,  3.0480,  3.0581,  3.0681,  3.0781,\n",
       "          3.0881,  3.0981,  3.1081,  3.1181,  3.1281,  3.1381,  3.1481,  3.1582,\n",
       "          3.1682,  3.1782,  3.1882,  3.1982,  3.2082,  3.2182,  3.2282,  3.2382,\n",
       "          3.2482,  3.2583,  3.2683,  3.2783,  3.2883,  3.2983,  3.3083,  3.3183,\n",
       "          3.3283,  3.3383,  3.3483,  3.3584,  3.3684,  3.3784,  3.3884,  3.3984,\n",
       "          3.4084,  3.4184,  3.4284,  3.4384,  3.4484,  3.4585,  3.4685,  3.4785,\n",
       "          3.4885,  3.4985,  3.5085,  3.5185,  3.5285,  3.5385,  3.5485,  3.5586,\n",
       "          3.5686,  3.5786,  3.5886,  3.5986,  3.6086,  3.6186,  3.6286,  3.6386,\n",
       "          3.6486,  3.6587,  3.6687,  3.6787,  3.6887,  3.6987,  3.7087,  3.7187,\n",
       "          3.7287,  3.7387,  3.7487,  3.7588,  3.7688,  3.7788,  3.7888,  3.7988,\n",
       "          3.8088,  3.8188,  3.8288,  3.8388,  3.8488,  3.8589,  3.8689,  3.8789,\n",
       "          3.8889,  3.8989,  3.9089,  3.9189,  3.9289,  3.9389,  3.9489,  3.9590,\n",
       "          3.9690,  3.9790,  3.9890,  3.9990,  4.0090,  4.0190,  4.0290,  4.0390,\n",
       "          4.0490,  4.0591,  4.0691,  4.0791,  4.0891,  4.0991,  4.1091,  4.1191,\n",
       "          4.1291,  4.1391,  4.1491,  4.1592,  4.1692,  4.1792,  4.1892,  4.1992,\n",
       "          4.2092,  4.2192,  4.2292,  4.2392,  4.2492,  4.2593,  4.2693,  4.2793,\n",
       "          4.2893,  4.2993,  4.3093,  4.3193,  4.3293,  4.3393,  4.3493,  4.3594,\n",
       "          4.3694,  4.3794,  4.3894,  4.3994,  4.4094,  4.4194,  4.4294,  4.4394,\n",
       "          4.4494,  4.4595,  4.4695,  4.4795,  4.4895,  4.4995,  4.5095,  4.5195,\n",
       "          4.5295,  4.5395,  4.5495,  4.5596,  4.5696,  4.5796,  4.5896,  4.5996,\n",
       "          4.6096,  4.6196,  4.6296,  4.6396,  4.6496,  4.6597,  4.6697,  4.6797,\n",
       "          4.6897,  4.6997,  4.7097,  4.7197,  4.7297,  4.7397,  4.7497,  4.7598,\n",
       "          4.7698,  4.7798,  4.7898,  4.7998,  4.8098,  4.8198,  4.8298,  4.8398,\n",
       "          4.8498,  4.8599,  4.8699,  4.8799,  4.8899,  4.8999,  4.9099,  4.9199,\n",
       "          4.9299,  4.9399,  4.9499,  4.9600,  4.9700,  4.9800,  4.9900,  5.0000]))"
      ]
     },
     "execution_count": 53,
     "metadata": {},
     "output_type": "execute_result"
    }
   ],
   "source": [
    "test_theta, test_data"
   ]
  },
  {
   "cell_type": "code",
   "execution_count": 56,
   "metadata": {},
   "outputs": [
    {
     "data": {
      "text/plain": [
       "Text(0.5, 1.0, 'gamma distr')"
      ]
     },
     "execution_count": 56,
     "metadata": {},
     "output_type": "execute_result"
    },
    {
     "data": {
      "image/png": "[encoded data removed]",
      "text/plain": [
       "<Figure size 640x480 with 1 Axes>"
      ]
     },
     "metadata": {},
     "output_type": "display_data"
    }
   ],
   "source": [
    "# plt.plot(test_data, torch.exp(log_prob), 'r', label='theory')\n",
    "plt.plot(test_data, torch.exp(loglike).squeeze().numpy(), 'g', label='sbi')\n",
    "plt.hist(samples_test.numpy(), bins=100, density=True, label='sample data');\n",
    "plt.legend()\n",
    "plt.title('gamma distr')"
   ]
  },
  {
   "cell_type": "code",
   "execution_count": 58,
   "metadata": {},
   "outputs": [
    {
     "data": {
      "text/plain": [
       "Text(0.5, 1.0, 'gamma distr')"
      ]
     },
     "execution_count": 58,
     "metadata": {},
     "output_type": "execute_result"
    },
    {
     "data": {
      "image/png": "[encoded data removed]",
      "text/plain": [
       "<Figure size 640x480 with 1 Axes>"
      ]
     },
     "metadata": {},
     "output_type": "display_data"
    }
   ],
   "source": [
    "plt.plot(trainer._summary['training_loss'], label='training loss')\n",
    "plt.plot(trainer._summary['validation_loss'], label='validation loss');\n",
    "plt.legend()\n",
    "plt.title('gamma distr')\n"
   ]
  },
  {
   "cell_type": "code",
   "execution_count": null,
   "metadata": {},
   "outputs": [],
   "source": []
  }
 ],
 "metadata": {
  "kernelspec": {
   "display_name": "venv",
   "language": "python",
   "name": "python3"
  },
  "language_info": {
   "codemirror_mode": {
    "name": "ipython",
    "version": 3
   },
   "file_extension": ".py",
   "mimetype": "text/x-python",
   "name": "python",
   "nbconvert_exporter": "python",
   "pygments_lexer": "ipython3",
   "version": "3.10.12"
  }
 },
 "nbformat": 4,
 "nbformat_minor": 2
}
