{
 "cells": [
  {
   "cell_type": "markdown",
   "metadata": {},
   "source": [
    "### TRAINING NEURAL NETWORK"
   ]
  },
  {
   "cell_type": "markdown",
   "metadata": {},
   "source": [
    "In this notebook we train an MNLE on model simulations from a specified model."
   ]
  },
  {
   "cell_type": "markdown",
   "metadata": {},
   "source": [
    "#### MODEL DESCRIPTION AND SETTINGS"
   ]
  },
  {
   "cell_type": "code",
   "execution_count": 1,
   "metadata": {
    "metadata": {}
   },
   "outputs": [],
   "source": [
    "import time\n",
    "from torch import nn\n",
    "model_name = \"_Master_DDM_120624_Bichoice_\"                 # specify the name of the model the simulations are based from in order to distinguish networks by name\n",
    "prior_description = \"_flat_prior_\"                          # specify a description of the prior (optional)\n",
    "training_type = \"_combined_training_\"                       # specify a description of the training type, is it offline, online, dynamic or a combination? (optional)\n",
    "timestamp = time.strftime('%b-%d-%Y_%H%M', time.localtime())\n",
    "nn_name = model_name + prior_description + training_type + \"_\" + timestamp\n",
    "save_trainer = True                                         # specify whether you actually want to save the network once the training is over\n",
    "train_offline = True                                        # specify whether you want to use offline training (specifying this in advance allows you to run the notebook in one go without having to choose which cell to run)\n",
    "train_online = True                                         # specify whether you want to use online training\n",
    "train_dynamically = True                                    # specify whether you want to use dynamic training"
   ]
  },
  {
   "cell_type": "code",
   "execution_count": 2,
   "metadata": {
    "metadata": {}
   },
   "outputs": [
    {
     "name": "stdout",
     "output_type": "stream",
     "text": [
      "This network's timestamp is Nov-23-2024_1550\n"
     ]
    }
   ],
   "source": [
    "print(\"This network's timestamp is \" + timestamp)"
   ]
  },
  {
   "cell_type": "markdown",
   "metadata": {},
   "source": [
    "#### NETWORK ARCHITECTURE"
   ]
  },
  {
   "cell_type": "code",
   "execution_count": 4,
   "metadata": {
    "metadata": {}
   },
   "outputs": [],
   "source": [
    "nn_architecture_dictionary = {}\n",
    "nn_architecture_dictionary[\"hidden_features\"] = 150\n",
    "nn_architecture_dictionary[\"hidden_layers\"] = 6\n",
    "nn_architecture_dictionary[\"num_categories\"] = 2\n",
    "nn_architecture_dictionary[\"num_transforms\"] = 2\n",
    "nn_architecture_dictionary[\"num_bins\"] = 24\n",
    "nn_architecture_dictionary[\"activation_fun_cnet\"] = nn.SELU()\n",
    "nn_architecture_dictionary[\"log_transform_x\"] = False"
   ]
  },
  {
   "cell_type": "markdown",
   "metadata": {},
   "source": [
    "#### GENERAL IMPORTS"
   ]
  },
  {
   "cell_type": "code",
   "execution_count": 11,
   "metadata": {},
   "outputs": [],
   "source": [
    "# This file is part of sbi, a toolkit for simulation-based inference. sbi is licensed\n",
    "# under the Affero General Public License v3, see <https://www.gnu.org/licenses/>.\n",
    "\n",
    "\n",
    "import contextlib\n",
    "from typing import Callable, Optional\n",
    "\n",
    "import joblib\n",
    "import torch\n",
    "from joblib import Parallel, delayed\n",
    "from torch import Tensor\n",
    "from tqdm.auto import tqdm\n",
    "\n",
    "def seed_all_backends(seed: Optional[int] = None) -> None:\n",
    "    \"\"\"Sets all python, numpy and pytorch seeds.\"\"\"\n",
    "\n",
    "    if seed is None:\n",
    "        seed = int(torch.randint(1_000_000, size=(1,)))\n",
    "\n",
    "    random.seed(seed)\n",
    "    np.random.seed(seed)\n",
    "    torch.manual_seed(seed)\n",
    "    torch.cuda.manual_seed(seed)\n",
    "    torch.backends.cudnn.deterministic = True  # type: ignore\n",
    "    torch.backends.cudnn.benchmark = False  # type: ignore\n",
    "\n",
    "\n",
    "def simulate_in_batches(\n",
    "    simulator: Callable,\n",
    "    theta: Tensor,\n",
    "    sim_batch_size: int = 1,\n",
    "    num_workers: int = 1,\n",
    "    seed: Optional[int] = None,\n",
    "    show_progress_bars: bool = True,\n",
    ") -> Tensor:\n",
    "    r\"\"\"\n",
    "    Return simulations $x$ for parameters $\\theta$ conducted batchwise.\n",
    "\n",
    "    Parameters are batched with size `sim_batch_size` (default whole theta at once).\n",
    "    Multiprocessing is used when `num_workers > 1`.\n",
    "\n",
    "    Args:\n",
    "        simulator: Simulator callable (a function or a class with `__call__`).\n",
    "        theta: All parameters $\\theta$ sampled from prior or posterior.\n",
    "        sim_batch_size: Number of simulations per batch. Default is to simulate\n",
    "            the entire theta in a single batch. When using multiple workers, increasing\n",
    "            this batch size can further speed up simulations by reducing overhead.\n",
    "        num_workers: Number of workers for multiprocessing.\n",
    "        seed: seed for reproducibility.\n",
    "        show_progress_bars: Whether to show a progress bar during simulation.\n",
    "\n",
    "    Returns:\n",
    "        Parameters theta and simulations $x$.\n",
    "    \"\"\"\n",
    "\n",
    "    num_sims, *_ = theta.shape\n",
    "    seed_all_backends(seed)\n",
    "\n",
    "    if num_sims == 0:\n",
    "        x = torch.tensor([])\n",
    "    elif sim_batch_size is not None and sim_batch_size < num_sims:\n",
    "        # Dev note: pyright complains of torch.split lacking a type stub\n",
    "        # as of PyTorch 1.4.0, see https://github.com/microsoft/pyright/issues/291\n",
    "        batches = torch.split(theta, sim_batch_size, dim=0)\n",
    "\n",
    "        if num_workers != 1:\n",
    "            batch_seeds = torch.randint(high=1_000_000, size=(len(batches),))\n",
    "\n",
    "            # define seeded simulator.\n",
    "            def simulator_seeded(theta: Tensor, seed) -> Tensor:\n",
    "                seed_all_backends(seed)\n",
    "                return simulator(theta)\n",
    "\n",
    "            # Parallelize the sequence of batches across workers.\n",
    "            # We use the solution proposed here: https://stackoverflow.com/a/61689175\n",
    "            # to update the pbar only after the workers finished a task.\n",
    "            with tqdm_joblib(\n",
    "                tqdm(\n",
    "                    batches,\n",
    "                    disable=not show_progress_bars,\n",
    "                    desc=f\"Running {num_sims} simulations in {len(batches)} batches.\",\n",
    "                    total=len(batches),\n",
    "                )\n",
    "            ) as _:\n",
    "                simulation_outputs = Parallel(n_jobs=num_workers)(\n",
    "                    delayed(simulator_seeded)(batch, batch_seed)\n",
    "                    for batch, batch_seed in zip(batches, batch_seeds)\n",
    "                )\n",
    "        else:\n",
    "            pbar = tqdm(\n",
    "                total=num_sims,\n",
    "                disable=not show_progress_bars,\n",
    "                desc=f\"Running {num_sims} simulations.\",\n",
    "            )\n",
    "\n",
    "            with pbar:\n",
    "                simulation_outputs = []\n",
    "                for batch in batches:\n",
    "                    simulation_outputs.append(simulator(batch))\n",
    "                    pbar.update(sim_batch_size)\n",
    "\n",
    "        x = torch.cat(simulation_outputs, dim=0)\n",
    "    else:\n",
    "        x = simulator(theta)\n",
    "\n",
    "    return x\n",
    "\n",
    "\n",
    "@contextlib.contextmanager\n",
    "def tqdm_joblib(tqdm_object):\n",
    "    \"\"\"Context manager to patch joblib to report into tqdm progress bar given as\n",
    "    argument\n",
    "\n",
    "    This wrapped context manager obtains the number of finished tasks from the tqdm\n",
    "    print function and uses it to update the pbar, as suggested in\n",
    "    https://stackoverflow.com/a/61689175. See #419, #421\n",
    "    \"\"\"\n",
    "\n",
    "    def tqdm_print_progress(self):\n",
    "        if self.n_completed_tasks > tqdm_object.n:\n",
    "            n_completed = self.n_completed_tasks - tqdm_object.n\n",
    "            tqdm_object.update(n=n_completed)\n",
    "\n",
    "    original_print_progress = joblib.parallel.Parallel.print_progress\n",
    "    joblib.parallel.Parallel.print_progress = tqdm_print_progress\n",
    "\n",
    "    try:\n",
    "        yield tqdm_object\n",
    "    finally:\n",
    "        joblib.parallel.Parallel.print_progress = original_print_progress\n",
    "        tqdm_object.close()"
   ]
  },
  {
   "cell_type": "code",
   "execution_count": 12,
   "metadata": {
    "metadata": {}
   },
   "outputs": [],
   "source": [
    "from sbi.inference import MNLE\n",
    "import numpy as np\n",
    "import dill\n",
    "from multiprocessing import cpu_count\n",
    "import matplotlib.pyplot as plt\n",
    "import sys"
   ]
  },
  {
   "cell_type": "markdown",
   "metadata": {},
   "source": [
    "#### MODEL AND PRIOR IMPORTS"
   ]
  },
  {
   "cell_type": "code",
   "execution_count": 15,
   "metadata": {
    "metadata": {}
   },
   "outputs": [
    {
     "ename": "ModuleNotFoundError",
     "evalue": "No module named 'ddm_models'",
     "output_type": "error",
     "traceback": [
      "\u001b[0;31m---------------------------------------------------------------------------\u001b[0m",
      "\u001b[0;31mModuleNotFoundError\u001b[0m                       Traceback (most recent call last)",
      "Cell \u001b[0;32mIn[15], line 3\u001b[0m\n\u001b[1;32m      1\u001b[0m \u001b[38;5;66;03m# from simulators.master_ddm_120624_A_bichoice import Master_DDM\u001b[39;00m\n\u001b[1;32m      2\u001b[0m \u001b[38;5;66;03m# from priors.master_ddm_120624_prior_A import prior, proposal\u001b[39;00m\n\u001b[0;32m----> 3\u001b[0m \u001b[38;5;28;01mfrom\u001b[39;00m \u001b[38;5;21;01mfillipe_code\u001b[39;00m \u001b[38;5;28;01mimport\u001b[39;00m Master_DDM, prior, proposal\n",
      "File \u001b[0;32m~/code/ddm_codes/sbi/fillipe_code.py:7\u001b[0m\n\u001b[1;32m      4\u001b[0m \u001b[38;5;28;01mimport\u001b[39;00m \u001b[38;5;21;01msdeint\u001b[39;00m\n\u001b[1;32m      5\u001b[0m \u001b[38;5;28;01mimport\u001b[39;00m \u001b[38;5;21;01mtorch\u001b[39;00m\n\u001b[0;32m----> 7\u001b[0m \u001b[38;5;28;01mfrom\u001b[39;00m \u001b[38;5;21;01mddm_models\u001b[39;00m\u001b[38;5;21;01m.\u001b[39;00m\u001b[38;5;21;01mbase_simulator\u001b[39;00m \u001b[38;5;28;01mimport\u001b[39;00m Simulator\n\u001b[1;32m      9\u001b[0m \u001b[38;5;28;01mimport\u001b[39;00m \u001b[38;5;21;01mmatplotlib\u001b[39;00m\u001b[38;5;21;01m.\u001b[39;00m\u001b[38;5;21;01mpyplot\u001b[39;00m \u001b[38;5;28;01mas\u001b[39;00m \u001b[38;5;21;01mplt\u001b[39;00m\n\u001b[1;32m     12\u001b[0m \u001b[38;5;28;01mclass\u001b[39;00m \u001b[38;5;21;01mMaster_DDM\u001b[39;00m(Simulator):\n",
      "\u001b[0;31mModuleNotFoundError\u001b[0m: No module named 'ddm_models'"
     ]
    }
   ],
   "source": [
    "# from simulators.master_ddm_120624_A_bichoice import Master_DDM\n",
    "# from priors.master_ddm_120624_prior_A import prior, proposal\n",
    "from fillipe_code import Master_DDM, prior, proposal"
   ]
  },
  {
   "cell_type": "code",
   "execution_count": 27,
   "metadata": {
    "metadata": {}
   },
   "outputs": [],
   "source": [
    "from utils.simulate import Master_DDM_2Dx\n",
    "from utils.metrics import generate_metrics_dictionary, visualise_mnle"
   ]
  },
  {
   "cell_type": "code",
   "execution_count": 28,
   "metadata": {
    "metadata": {}
   },
   "outputs": [],
   "source": [
    "simulator = Master_DDM()\n",
    "simulator_2D_x = Master_DDM_2Dx(simulator=simulator)"
   ]
  },
  {
   "cell_type": "markdown",
   "metadata": {},
   "source": [
    "#### TRAINING METRICS SETTINGS"
   ]
  },
  {
   "cell_type": "code",
   "execution_count": 29,
   "metadata": {
    "metadata": {}
   },
   "outputs": [],
   "source": [
    "metrics_dictionary = generate_metrics_dictionary(likelihood=None, prior=proposal, simulator=simulator_2D_x, save_metrics=False, max_test_time=1.5)"
   ]
  },
  {
   "cell_type": "markdown",
   "metadata": {},
   "source": [
    "#### GENERATE SIMULATIONS FOR VALIDATION PURPOSES"
   ]
  },
  {
   "cell_type": "code",
   "execution_count": 30,
   "metadata": {
    "metadata": {}
   },
   "outputs": [
    {
     "data": {
      "application/vnd.jupyter.widget-view+json": {
       "model_id": "76682847151a413da4836735b26cd522",
       "version_major": 2,
       "version_minor": 0
      },
      "text/plain": [
       "Running 100000 simulations in 100 batches.:   0%|          | 0/100 [00:00<?, ?it/s]"
      ]
     },
     "metadata": {},
     "output_type": "display_data"
    },
    {
     "data": {
      "application/vnd.jupyter.widget-view+json": {
       "model_id": "64fd8eba12914f4c9dba5056a1277bcd",
       "version_major": 2,
       "version_minor": 0
      },
      "text/plain": [
       "Running 3975 simulations in 100 batches.:   0%|          | 0/100 [00:00<?, ?it/s]"
      ]
     },
     "metadata": {},
     "output_type": "display_data"
    },
    {
     "data": {
      "application/vnd.jupyter.widget-view+json": {
       "model_id": "c2fb0fdfb7d9431694b81f19904ad9c8",
       "version_major": 2,
       "version_minor": 0
      },
      "text/plain": [
       "Running 175 simulations in 88 batches.:   0%|          | 0/88 [00:00<?, ?it/s]"
      ]
     },
     "metadata": {},
     "output_type": "display_data"
    },
    {
     "data": {
      "application/vnd.jupyter.widget-view+json": {
       "model_id": "25f4874ece084c09865f476a2af79b42",
       "version_major": 2,
       "version_minor": 0
      },
      "text/plain": [
       "Running 3 simulations in 3 batches.:   0%|          | 0/3 [00:00<?, ?it/s]"
      ]
     },
     "metadata": {},
     "output_type": "display_data"
    }
   ],
   "source": [
    "num_simulations = 10**5\n",
    "n_cores = 1*cpu_count()\n",
    "\n",
    "# Simulate parameter-data pairs:\n",
    "theta, x = simulate_for_sbi_truncated(simulator=simulator_2D_x, proposal=proposal, num_simulations=num_simulations, num_workers=n_cores-1)"
   ]
  },
  {
   "cell_type": "code",
   "execution_count": 31,
   "metadata": {
    "metadata": {}
   },
   "outputs": [
    {
     "data": {
      "image/png": "[encoded data removed]",
      "text/plain": [
       "<Figure size 640x480 with 1 Axes>"
      ]
     },
     "metadata": {},
     "output_type": "display_data"
    }
   ],
   "source": [
    "plt.hist(x[:,0], bins=100);"
   ]
  },
  {
   "cell_type": "markdown",
   "metadata": {},
   "source": [
    "#### TRAINING"
   ]
  },
  {
   "cell_type": "code",
   "execution_count": 32,
   "metadata": {
    "metadata": {}
   },
   "outputs": [
    {
     "data": {
      "text/plain": [
       "<sbi.inference.snle.mnle.MNLE at 0x712687262cd0>"
      ]
     },
     "execution_count": 32,
     "metadata": {},
     "output_type": "execute_result"
    }
   ],
   "source": [
    "# Define network architecure \n",
    "trainer = MNLE(\n",
    "            proposal = proposal,\n",
    "            prior = prior,\n",
    "            likelihood = None,\n",
    "            simulator = simulator_2D_x,\n",
    "            hidden_features = nn_architecture_dictionary[\"hidden_features\"],\n",
    "            hidden_layers = nn_architecture_dictionary[\"hidden_layers\"],\n",
    "            num_categories = nn_architecture_dictionary[\"num_categories\"],\n",
    "            num_transforms = nn_architecture_dictionary[\"num_transforms\"], \n",
    "            num_bins = nn_architecture_dictionary[\"num_bins\"],\n",
    "            activation_fun_cnet = nn_architecture_dictionary[\"activation_fun_cnet\"],\n",
    "            log_transform_x = nn_architecture_dictionary[\"log_transform_x\"],\n",
    "        )\n",
    "\n",
    "# And load simulations\n",
    "trainer.append_simulations(theta=theta,x=x)"
   ]
  },
  {
   "cell_type": "markdown",
   "metadata": {},
   "source": [
    "##### OFFLINE (Skip to ONLINE or DYNAMIC if not using it)"
   ]
  },
  {
   "cell_type": "code",
   "execution_count": 33,
   "metadata": {
    "metadata": {}
   },
   "outputs": [
    {
     "name": "stderr",
     "output_type": "stream",
     "text": [
      "No artists with labels found to put in legend.  Note that artists whose label start with an underscore are ignored when legend() is called with no argument.\n"
     ]
    },
    {
     "data": {
      "image/png": "[encoded data removed]",
      "text/plain": [
       "<Figure size 640x480 with 4 Axes>"
      ]
     },
     "metadata": {},
     "output_type": "display_data"
    },
    {
     "name": "stdout",
     "output_type": "stream",
     "text": [
      " Neural network successfully converged after 8 epochs."
     ]
    }
   ],
   "source": [
    "if train_offline:\n",
    "\n",
    "    # Unload and reload simulations - this tells the network we are still in the first round of training and can follow online training with dynamic training\n",
    "    trainer.un_append_simulations()\n",
    "    trainer.append_simulations(theta=theta,x=x)\n",
    "    trainer._summary[\"training_log_probs\"] = []     # reset training log probs so that we can plot losses from scratch\n",
    "    trainer._summary[\"validation_log_probs\"] = []   # reset training log probs so that we can plot losses from scratch\n",
    "\n",
    "    trainer.train_offline(\n",
    "        training_batch_size=1000,           # number of simulations per network update\n",
    "        max_num_simulations=5*10**9,        # number of simulations (accumulated over epochs) at which training will stop \n",
    "        stop_after_epochs=1,                # number of epochs without improvement at which training will stop\n",
    "        metrics_dictionary=metrics_dictionary, \n",
    "        show_train_plot=True,\n",
    "        visualise_mnle=visualise_mnle,\n",
    "        resume_training=False,\n",
    "        )"
   ]
  },
  {
   "cell_type": "markdown",
   "metadata": {},
   "source": [
    "##### ONLINE (Skip to DYNAMIC if not using it)"
   ]
  },
  {
   "cell_type": "code",
   "execution_count": 34,
   "metadata": {
    "metadata": {}
   },
   "outputs": [
    {
     "name": "stderr",
     "output_type": "stream",
     "text": [
      "No artists with labels found to put in legend.  Note that artists whose label start with an underscore are ignored when legend() is called with no argument.\n"
     ]
    },
    {
     "data": {
      "image/png": "[encoded data removed]",
      "text/plain": [
       "<Figure size 640x480 with 4 Axes>"
      ]
     },
     "metadata": {},
     "output_type": "display_data"
    },
    {
     "name": "stdout",
     "output_type": "stream",
     "text": [
      " Training neural network. Epochs trained: 1"
     ]
    }
   ],
   "source": [
    "if train_online:\n",
    "\n",
    "    # Unload and reload simulations - this tells the network we are still in the first round of training and can follow online training with dynamic training\n",
    "    trainer.un_append_simulations()\n",
    "    trainer.append_simulations(theta=theta,x=x)\n",
    "    trainer._summary[\"training_log_probs\"] = []     # reset training log probs so that we can plot losses from scratch\n",
    "    trainer._summary[\"validation_log_probs\"] = []   # reset training log probs so that we can plot losses from scratch\n",
    "\n",
    "    trainer.train_online_truncated(\n",
    "        training_batch_size=10**4,     # number of simulations per network update\n",
    "        num_simulations=10**5,         # number of simulations per epoch\n",
    "        max_num_simulations=10**5,     # number of simulations (accumulated over epochs) at which training will stop \n",
    "        metrics_dictionary=metrics_dictionary, \n",
    "        show_train_plot=True,\n",
    "        visualise_mnle=visualise_mnle,\n",
    "        resume_training=False,\n",
    "        )"
   ]
  },
  {
   "cell_type": "markdown",
   "metadata": {},
   "source": [
    "##### DYNAMIC "
   ]
  },
  {
   "cell_type": "code",
   "execution_count": 35,
   "metadata": {
    "metadata": {}
   },
   "outputs": [],
   "source": [
    "bs0 = 10**3                 # initial number of simulations used per network update\n",
    "max_bs = 10**5  #6          # maximum number of simulations used per network update\n",
    "max_nsim = 10**5#  7        # number of simulations (accumulated over epochs) at which training will stop \n",
    "monitoring_int = 10         # how often you compute the validation probability (eg: 10 means that we only compute the validation probability every 10 epochs of training, which speeds up training)"
   ]
  },
  {
   "cell_type": "code",
   "execution_count": 36,
   "metadata": {
    "metadata": {}
   },
   "outputs": [
    {
     "name": "stdout",
     "output_type": "stream",
     "text": [
      "\r Training neural network. Epochs trained: 81"
     ]
    },
    {
     "data": {
      "application/vnd.jupyter.widget-view+json": {
       "model_id": "3b744a0b21ae4118b5d012f4c4ba99e8",
       "version_major": 2,
       "version_minor": 0
      },
      "text/plain": [
       "Running 1386 simulations in 99 batches.:   0%|          | 0/99 [00:00<?, ?it/s]"
      ]
     },
     "metadata": {},
     "output_type": "display_data"
    },
    {
     "data": {
      "application/vnd.jupyter.widget-view+json": {
       "model_id": "3cb1d36c9aa043d090147eb1cbabb007",
       "version_major": 2,
       "version_minor": 0
      },
      "text/plain": [
       "Running 58 simulations in 58 batches.:   0%|          | 0/58 [00:00<?, ?it/s]"
      ]
     },
     "metadata": {},
     "output_type": "display_data"
    },
    {
     "data": {
      "application/vnd.jupyter.widget-view+json": {
       "model_id": "d348f02cf16e4e899043274b9c8faa80",
       "version_major": 2,
       "version_minor": 0
      },
      "text/plain": [
       "Running 1395 simulations in 100 batches.:   0%|          | 0/100 [00:00<?, ?it/s]"
      ]
     },
     "metadata": {},
     "output_type": "display_data"
    },
    {
     "data": {
      "application/vnd.jupyter.widget-view+json": {
       "model_id": "57892e9c41654bfabf85d3ffe1405b16",
       "version_major": 2,
       "version_minor": 0
      },
      "text/plain": [
       "Running 71 simulations in 71 batches.:   0%|          | 0/71 [00:00<?, ?it/s]"
      ]
     },
     "metadata": {},
     "output_type": "display_data"
    },
    {
     "data": {
      "application/vnd.jupyter.widget-view+json": {
       "model_id": "76f974dc461946e49da603806dafb159",
       "version_major": 2,
       "version_minor": 0
      },
      "text/plain": [
       "Running 1410 simulations in 94 batches.:   0%|          | 0/94 [00:00<?, ?it/s]"
      ]
     },
     "metadata": {},
     "output_type": "display_data"
    },
    {
     "data": {
      "application/vnd.jupyter.widget-view+json": {
       "model_id": "74ba12c7250f4b5a81b64eadcdf1b3ab",
       "version_major": 2,
       "version_minor": 0
      },
      "text/plain": [
       "Running 57 simulations in 57 batches.:   0%|          | 0/57 [00:00<?, ?it/s]"
      ]
     },
     "metadata": {},
     "output_type": "display_data"
    },
    {
     "data": {
      "application/vnd.jupyter.widget-view+json": {
       "model_id": "f1fcb760a0fb49898b52c6d0f2ab7e46",
       "version_major": 2,
       "version_minor": 0
      },
      "text/plain": [
       "Running 3 simulations in 3 batches.:   0%|          | 0/3 [00:00<?, ?it/s]"
      ]
     },
     "metadata": {},
     "output_type": "display_data"
    },
    {
     "data": {
      "application/vnd.jupyter.widget-view+json": {
       "model_id": "a7fc0b3355814216a8ee05f3e8300217",
       "version_major": 2,
       "version_minor": 0
      },
      "text/plain": [
       "Running 1425 simulations in 95 batches.:   0%|          | 0/95 [00:00<?, ?it/s]"
      ]
     },
     "metadata": {},
     "output_type": "display_data"
    },
    {
     "data": {
      "application/vnd.jupyter.widget-view+json": {
       "model_id": "80a0490c20114777bf9304b580003693",
       "version_major": 2,
       "version_minor": 0
      },
      "text/plain": [
       "Running 52 simulations in 52 batches.:   0%|          | 0/52 [00:00<?, ?it/s]"
      ]
     },
     "metadata": {},
     "output_type": "display_data"
    },
    {
     "data": {
      "application/vnd.jupyter.widget-view+json": {
       "model_id": "224ba5080a774bbba76e4f674aa94208",
       "version_major": 2,
       "version_minor": 0
      },
      "text/plain": [
       "Running 2 simulations in 2 batches.:   0%|          | 0/2 [00:00<?, ?it/s]"
      ]
     },
     "metadata": {},
     "output_type": "display_data"
    },
    {
     "data": {
      "application/vnd.jupyter.widget-view+json": {
       "model_id": "917a25ee2b4a41cf88d46bc805f14c07",
       "version_major": 2,
       "version_minor": 0
      },
      "text/plain": [
       "Running 1425 simulations in 95 batches.:   0%|          | 0/95 [00:00<?, ?it/s]"
      ]
     },
     "metadata": {},
     "output_type": "display_data"
    },
    {
     "data": {
      "application/vnd.jupyter.widget-view+json": {
       "model_id": "2bdaf407467f468c96abd70d704e6a69",
       "version_major": 2,
       "version_minor": 0
      },
      "text/plain": [
       "Running 70 simulations in 70 batches.:   0%|          | 0/70 [00:00<?, ?it/s]"
      ]
     },
     "metadata": {},
     "output_type": "display_data"
    },
    {
     "data": {
      "application/vnd.jupyter.widget-view+json": {
       "model_id": "fbc8764fc9c045f38794abd4ed893aac",
       "version_major": 2,
       "version_minor": 0
      },
      "text/plain": [
       "Running 3 simulations in 3 batches.:   0%|          | 0/3 [00:00<?, ?it/s]"
      ]
     },
     "metadata": {},
     "output_type": "display_data"
    },
    {
     "data": {
      "application/vnd.jupyter.widget-view+json": {
       "model_id": "b8e949d0f07147859f987f89e4ae5be6",
       "version_major": 2,
       "version_minor": 0
      },
      "text/plain": [
       "Running 1440 simulations in 96 batches.:   0%|          | 0/96 [00:00<?, ?it/s]"
      ]
     },
     "metadata": {},
     "output_type": "display_data"
    },
    {
     "data": {
      "application/vnd.jupyter.widget-view+json": {
       "model_id": "e5fdbdab965e414ab7a9f8b7cdbbe1a3",
       "version_major": 2,
       "version_minor": 0
      },
      "text/plain": [
       "Running 56 simulations in 56 batches.:   0%|          | 0/56 [00:00<?, ?it/s]"
      ]
     },
     "metadata": {},
     "output_type": "display_data"
    },
    {
     "data": {
      "application/vnd.jupyter.widget-view+json": {
       "model_id": "001b7f7722fd431ea4aceab962bd9690",
       "version_major": 2,
       "version_minor": 0
      },
      "text/plain": [
       "Running 3 simulations in 3 batches.:   0%|          | 0/3 [00:00<?, ?it/s]"
      ]
     },
     "metadata": {},
     "output_type": "display_data"
    }
   ],
   "source": [
    "if train_dynamically:\n",
    "\n",
    "    # Unload and reload simulations\n",
    "    trainer.un_append_simulations()\n",
    "    trainer.append_simulations(theta=theta,x=x)\n",
    "    trainer._summary[\"training_log_probs\"] = []\n",
    "    trainer._summary[\"validation_log_probs\"] = []\n",
    "\n",
    "    trainer.train_dynamically_truncated(\n",
    "        starting_training_batch_size=bs0,      # initial number of simulations used per network update\n",
    "        max_training_batch_size=max_bs,        # maximum number of simulations used per network update\n",
    "        max_num_simulations=max_nsim,          # number of simulations (accumulated over epochs) at which training will stop \n",
    "        training_rate=((bs0)/(max_nsim))**2,   # it's tricky to know in advance what training rate works best, ((starting_training_batch_size)/(max_num_simulations))**2 is usually okay\n",
    "        stop_after_epochs=10**10,              # if you want to impose a limit on how many epochs of training take place\n",
    "        metrics_dictionary=metrics_dictionary, \n",
    "        monitoring_interval=monitoring_int,    # how often you compute the validation probability \n",
    "        show_train_plot=True,\n",
    "        visualise_mnle=visualise_mnle,\n",
    "        rectify_loss = False,\n",
    "        resume_training = False,\n",
    "    )"
   ]
  },
  {
   "cell_type": "markdown",
   "metadata": {},
   "source": [
    "#### VISUALISE TRAINING AND VALIDATION LOSSES"
   ]
  },
  {
   "cell_type": "code",
   "execution_count": 37,
   "metadata": {
    "metadata": {}
   },
   "outputs": [],
   "source": [
    "lps_mnle_train = trainer._summary[\"training_log_probs\"][::monitoring_int]\n",
    "lps_mnle_val = trainer._summary[\"validation_log_probs\"]"
   ]
  },
  {
   "cell_type": "code",
   "execution_count": 38,
   "metadata": {
    "metadata": {}
   },
   "outputs": [
    {
     "data": {
      "text/plain": [
       "[<matplotlib.lines.Line2D at 0x712666141f50>]"
      ]
     },
     "execution_count": 38,
     "metadata": {},
     "output_type": "execute_result"
    },
    {
     "data": {
      "image/png": "[encoded data removed]",
      "text/plain": [
       "<Figure size 640x480 with 1 Axes>"
      ]
     },
     "metadata": {},
     "output_type": "display_data"
    }
   ],
   "source": [
    "plt.plot(lps_mnle_train)\n",
    "plt.plot(lps_mnle_val)"
   ]
  },
  {
   "cell_type": "markdown",
   "metadata": {},
   "source": [
    "#### SAVE TRAINER"
   ]
  },
  {
   "cell_type": "code",
   "execution_count": 39,
   "metadata": {
    "metadata": {}
   },
   "outputs": [],
   "source": [
    "trainers_folder = [path for path in sys.path if r'trainers' in path][0]"
   ]
  },
  {
   "cell_type": "code",
   "execution_count": 40,
   "metadata": {
    "metadata": {}
   },
   "outputs": [
    {
     "name": "stderr",
     "output_type": "stream",
     "text": [
      "/home/filipe/Documents/GitHub/sbi/sbi/inference/base.py:1162: UserWarning: When the inference object is pickled, the behaviour of the loaded object changes in the following two ways: 1) `.train(..., retrain_from_scratch=True)` is not supported. 2) When the loaded object calls the `.train()` method, it generates a new tensorboard summary writer (instead of appending to the current one).\n",
      "  warn(\n"
     ]
    }
   ],
   "source": [
    "if save_trainer: \n",
    "    ### SAVING ### \n",
    "    filename = nn_name\n",
    "    filepath = trainers_folder + filename\n",
    "\n",
    "    # Save the file\n",
    "    with open(filepath, 'wb') as f:\n",
    "        try: \n",
    "            dill.dump(trainer, f)\n",
    "        except:\n",
    "            # in case of Julia log likelihood function\n",
    "            trainer._likelihood = None\n",
    "            dill.dump(trainer, f)"
   ]
  },
  {
   "cell_type": "code",
   "execution_count": null,
   "metadata": {},
   "outputs": [],
   "source": []
  }
 ],
 "metadata": {
  "kernelspec": {
   "display_name": "venv",
   "language": "python",
   "name": "python3"
  },
  "language_info": {
   "codemirror_mode": {
    "name": "ipython",
    "version": 3
   },
   "file_extension": ".py",
   "mimetype": "text/x-python",
   "name": "python",
   "nbconvert_exporter": "python",
   "pygments_lexer": "ipython3",
   "version": "3.10.12"
  },
  "orig_nbformat": 4
 },
 "nbformat": 4,
 "nbformat_minor": 2
}
