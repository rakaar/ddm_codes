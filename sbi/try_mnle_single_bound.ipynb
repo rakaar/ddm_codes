{
 "cells": [
  {
   "cell_type": "code",
   "execution_count": 1,
   "metadata": {},
   "outputs": [],
   "source": [
    "import numpy as np\n",
    "import matplotlib.pyplot as plt\n",
    "from joblib import Parallel, delayed\n",
    "import torch\n",
    "from sbi.utils import BoxUniform\n",
    "\n",
    "from sbi.inference import simulate_for_sbi\n",
    "from sbi.utils.user_input_checks import process_simulator, process_prior, check_sbi_inputs\n"
   ]
  },
  {
   "cell_type": "markdown",
   "metadata": {},
   "source": [
    "# ground truth"
   ]
  },
  {
   "cell_type": "code",
   "execution_count": 2,
   "metadata": {},
   "outputs": [],
   "source": [
    "v = 1; a = 1"
   ]
  },
  {
   "cell_type": "markdown",
   "metadata": {},
   "source": [
    "# sbi"
   ]
  },
  {
   "cell_type": "markdown",
   "metadata": {},
   "source": [
    "## prior"
   ]
  },
  {
   "cell_type": "code",
   "execution_count": 3,
   "metadata": {},
   "outputs": [],
   "source": [
    "from torch.distributions import Uniform\n",
    "from sbi.utils import MultipleIndependent\n",
    "\n",
    "v_distribution = Uniform(torch.tensor([0.1]), torch.tensor([5.0]))\n",
    "a_distribution = Uniform(torch.tensor([0.1]), torch.tensor([5.0]))\n",
    "\n",
    "\n",
    "prior_111 = MultipleIndependent(\n",
    "    [\n",
    "        v_distribution,  # drift rate\n",
    "        a_distribution,  # threshold\n",
    "    ],\n",
    ")\n",
    "\n",
    "\n",
    "\n",
    "prior, num_parameters, prior_returns_numpy = process_prior(prior_111)"
   ]
  },
  {
   "cell_type": "code",
   "execution_count": 4,
   "metadata": {},
   "outputs": [
    {
     "name": "stdout",
     "output_type": "stream",
     "text": [
      " prior: MultipleIndependent() , num_parameters: 2 , prior_returns_numpy: False\n"
     ]
    }
   ],
   "source": [
    "print(f' prior: {prior} , num_parameters: {num_parameters} , prior_returns_numpy: {prior_returns_numpy}') "
   ]
  },
  {
   "cell_type": "markdown",
   "metadata": {},
   "source": [
    "## simulate single bound"
   ]
  },
  {
   "cell_type": "code",
   "execution_count": 32,
   "metadata": {},
   "outputs": [],
   "source": [
    "def simulate_PA(params):\n",
    "    num_trials = params.shape[0]\n",
    "    output = np.zeros((num_trials))\n",
    "\n",
    "    for trial in range(num_trials):\n",
    "        v = params[trial, 0]\n",
    "        a = params[trial, 1]\n",
    "\n",
    "        dt = 1e-3; dB = np.sqrt(dt)\n",
    "        DV = 0; t = 0\n",
    "        while True:\n",
    "            DV += v*dt + np.random.normal(0, dB)\n",
    "            t += dt\n",
    "\n",
    "            if DV >= a:\n",
    "                output[trial] = t\n",
    "                break\n",
    "                \n",
    "    \n",
    "    return torch.from_numpy(output).to(dtype=torch.float32)\n"
   ]
  },
  {
   "cell_type": "markdown",
   "metadata": {},
   "source": [
    "## sbi simulator"
   ]
  },
  {
   "cell_type": "code",
   "execution_count": 6,
   "metadata": {},
   "outputs": [],
   "source": [
    "simulator = process_simulator(simulate_PA, prior, prior_returns_numpy)"
   ]
  },
  {
   "cell_type": "code",
   "execution_count": 7,
   "metadata": {},
   "outputs": [
    {
     "ename": "IndexError",
     "evalue": "too many indices for tensor of dimension 1",
     "output_type": "error",
     "traceback": [
      "\u001b[0;31m---------------------------------------------------------------------------\u001b[0m",
      "\u001b[0;31mIndexError\u001b[0m                                Traceback (most recent call last)",
      "Cell \u001b[0;32mIn[7], line 1\u001b[0m\n\u001b[0;32m----> 1\u001b[0m \u001b[43mcheck_sbi_inputs\u001b[49m\u001b[43m(\u001b[49m\u001b[43msimulator\u001b[49m\u001b[43m,\u001b[49m\u001b[43m \u001b[49m\u001b[43mprior\u001b[49m\u001b[43m)\u001b[49m\n",
      "File \u001b[0;32m~/code/ddm_codes/venv/lib/python3.10/site-packages/sbi/utils/user_input_checks.py:659\u001b[0m, in \u001b[0;36mcheck_sbi_inputs\u001b[0;34m(simulator, prior)\u001b[0m\n\u001b[1;32m    657\u001b[0m theta \u001b[38;5;241m=\u001b[39m prior\u001b[38;5;241m.\u001b[39msample(torch\u001b[38;5;241m.\u001b[39mSize((num_prior_samples,)))\n\u001b[1;32m    658\u001b[0m theta_batch_shape, \u001b[38;5;241m*\u001b[39m_ \u001b[38;5;241m=\u001b[39m theta\u001b[38;5;241m.\u001b[39mshape\n\u001b[0;32m--> 659\u001b[0m simulation \u001b[38;5;241m=\u001b[39m \u001b[43msimulator\u001b[49m\u001b[43m(\u001b[49m\u001b[43mtheta\u001b[49m\u001b[43m)\u001b[49m\n\u001b[1;32m    660\u001b[0m sim_batch_shape, \u001b[38;5;241m*\u001b[39msim_event_shape \u001b[38;5;241m=\u001b[39m simulation\u001b[38;5;241m.\u001b[39mshape\n\u001b[1;32m    662\u001b[0m \u001b[38;5;28;01massert\u001b[39;00m \u001b[38;5;28misinstance\u001b[39m(theta, Tensor), \u001b[38;5;124m\"\u001b[39m\u001b[38;5;124mParameters theta must be a `Tensor`.\u001b[39m\u001b[38;5;124m\"\u001b[39m\n",
      "File \u001b[0;32m~/code/ddm_codes/venv/lib/python3.10/site-packages/sbi/utils/user_input_checks.py:553\u001b[0m, in \u001b[0;36mget_batch_loop_simulator.<locals>.batch_loop_simulator\u001b[0;34m(theta)\u001b[0m\n\u001b[1;32m    551\u001b[0m \u001b[38;5;28;01massert\u001b[39;00m theta\u001b[38;5;241m.\u001b[39mndim \u001b[38;5;241m>\u001b[39m \u001b[38;5;241m1\u001b[39m, \u001b[38;5;124m\"\u001b[39m\u001b[38;5;124mTheta must have a batch dimension.\u001b[39m\u001b[38;5;124m\"\u001b[39m\n\u001b[1;32m    552\u001b[0m \u001b[38;5;66;03m# Simulate in loop\u001b[39;00m\n\u001b[0;32m--> 553\u001b[0m xs \u001b[38;5;241m=\u001b[39m \u001b[38;5;28;43mlist\u001b[39;49m\u001b[43m(\u001b[49m\u001b[38;5;28;43mmap\u001b[39;49m\u001b[43m(\u001b[49m\u001b[43msimulator\u001b[49m\u001b[43m,\u001b[49m\u001b[43m \u001b[49m\u001b[43mtheta\u001b[49m\u001b[43m)\u001b[49m\u001b[43m)\u001b[49m\n\u001b[1;32m    554\u001b[0m \u001b[38;5;66;03m# Stack over batch to keep x_shape\u001b[39;00m\n\u001b[1;32m    555\u001b[0m \u001b[38;5;28;01mreturn\u001b[39;00m torch\u001b[38;5;241m.\u001b[39mstack(xs)\n",
      "File \u001b[0;32m~/code/ddm_codes/venv/lib/python3.10/site-packages/sbi/utils/user_input_checks.py:491\u001b[0m, in \u001b[0;36mwrap_as_joblib_efficient_simulator.<locals>.joblib_simulator\u001b[0;34m(theta)\u001b[0m\n\u001b[1;32m    490\u001b[0m \u001b[38;5;28;01mdef\u001b[39;00m \u001b[38;5;21mjoblib_simulator\u001b[39m(theta: ndarray) \u001b[38;5;241m-\u001b[39m\u001b[38;5;241m>\u001b[39m Tensor:\n\u001b[0;32m--> 491\u001b[0m     \u001b[38;5;28;01mreturn\u001b[39;00m torch\u001b[38;5;241m.\u001b[39mas_tensor(\u001b[43msimulator\u001b[49m\u001b[43m(\u001b[49m\u001b[43mtorch\u001b[49m\u001b[38;5;241;43m.\u001b[39;49m\u001b[43mas_tensor\u001b[49m\u001b[43m(\u001b[49m\u001b[43mtheta\u001b[49m\u001b[43m)\u001b[49m\u001b[43m)\u001b[49m, dtype\u001b[38;5;241m=\u001b[39mfloat32)\n",
      "Cell \u001b[0;32mIn[5], line 6\u001b[0m, in \u001b[0;36msimulate_PA\u001b[0;34m(params)\u001b[0m\n\u001b[1;32m      3\u001b[0m output \u001b[38;5;241m=\u001b[39m np\u001b[38;5;241m.\u001b[39mzeros((num_trials))\n\u001b[1;32m      5\u001b[0m \u001b[38;5;28;01mfor\u001b[39;00m trial \u001b[38;5;129;01min\u001b[39;00m \u001b[38;5;28mrange\u001b[39m(num_trials):\n\u001b[0;32m----> 6\u001b[0m     v \u001b[38;5;241m=\u001b[39m \u001b[43mparams\u001b[49m\u001b[43m[\u001b[49m\u001b[43mtrial\u001b[49m\u001b[43m,\u001b[49m\u001b[43m \u001b[49m\u001b[38;5;241;43m0\u001b[39;49m\u001b[43m]\u001b[49m\n\u001b[1;32m      7\u001b[0m     a \u001b[38;5;241m=\u001b[39m params[trial, \u001b[38;5;241m1\u001b[39m]\n\u001b[1;32m      9\u001b[0m     dt \u001b[38;5;241m=\u001b[39m \u001b[38;5;241m1e-3\u001b[39m; dB \u001b[38;5;241m=\u001b[39m np\u001b[38;5;241m.\u001b[39msqrt(dt)\n",
      "\u001b[0;31mIndexError\u001b[0m: too many indices for tensor of dimension 1"
     ]
    }
   ],
   "source": [
    "check_sbi_inputs(simulator, prior)"
   ]
  },
  {
   "cell_type": "code",
   "execution_count": 10,
   "metadata": {},
   "outputs": [
    {
     "data": {
      "application/vnd.jupyter.widget-view+json": {
       "model_id": "9a0a10947eb34d50b2b998aa785740b0",
       "version_major": 2,
       "version_minor": 0
      },
      "text/plain": [
       "  0%|          | 0/50000 [00:00<?, ?it/s]"
      ]
     },
     "metadata": {},
     "output_type": "display_data"
    }
   ],
   "source": [
    "N_sim = int(50e3)\n",
    "\n",
    "theta, x_o = simulate_for_sbi(simulator=simulate_PA,\\\n",
    "                            proposal=prior,\n",
    "                            num_simulations=N_sim,\n",
    "                            num_workers=32)"
   ]
  },
  {
   "cell_type": "markdown",
   "metadata": {},
   "source": [
    "## train network"
   ]
  },
  {
   "cell_type": "code",
   "execution_count": 11,
   "metadata": {},
   "outputs": [
    {
     "name": "stdout",
     "output_type": "stream",
     "text": [
      "theta shape = torch.Size([50000, 2]), x_o shape = torch.Size([50000])\n"
     ]
    },
    {
     "name": "stderr",
     "output_type": "stream",
     "text": [
      "/home/rka/code/ddm_codes/venv/lib/python3.10/site-packages/sbi/neural_nets/net_builders/flow.py:141: UserWarning: In one-dimensional output space, this flow is limited to Gaussians\n",
      "  x_numel = get_numel(\n"
     ]
    },
    {
     "name": "stdout",
     "output_type": "stream",
     "text": [
      " Neural network successfully converged after 83 epochs."
     ]
    }
   ],
   "source": [
    "# from sbi.inference import MNLE\n",
    "# trainer = MNLE()\n",
    "\n",
    "from sbi.inference import SNLE\n",
    "trainer = SNLE()\n",
    "\n",
    "print(f'theta shape = {theta.shape}, x_o shape = {x_o.shape}')  \n",
    "estimator = trainer.append_simulations(theta, x_o.reshape(-1,1)).train(training_batch_size=1000)"
   ]
  },
  {
   "cell_type": "markdown",
   "metadata": {},
   "source": [
    "## likelihood"
   ]
  },
  {
   "cell_type": "code",
   "execution_count": 12,
   "metadata": {},
   "outputs": [
    {
     "name": "stdout",
     "output_type": "stream",
     "text": [
      "t_pts_tensor shape = torch.Size([79, 1]), params shape = torch.Size([79, 2])\n"
     ]
    }
   ],
   "source": [
    "bin_width = 0.05\n",
    "bins = np.arange(0, 4, bin_width)\n",
    "t_pts = bins[:-1] + bin_width/2\n",
    "t_pts_tensor = torch.tensor(t_pts).unsqueeze(0).T.to(dtype=torch.float32)\n",
    "\n",
    "params = torch.tensor([[v,a]]).repeat(len(t_pts),1)\n",
    "\n",
    "print(f't_pts_tensor shape = {t_pts_tensor.shape}, params shape = {params.shape}')\n",
    "\n",
    "loglike = estimator.log_prob(t_pts_tensor.T, params)\n",
    "like = torch.exp(loglike)"
   ]
  },
  {
   "cell_type": "code",
   "execution_count": null,
   "metadata": {},
   "outputs": [],
   "source": [
    "from joblib import Parallel, delayed\n",
    "\n",
    "def simulate_PA_2(params):\n",
    "    v,a = params\n",
    "    dt = 1e-4; dB = 1e-2\n",
    "    DV = 0; t = 0\n",
    "    while True:\n",
    "        DV += v*dt + np.random.normal(0, dB)\n",
    "        t += dt\n",
    "\n",
    "        if DV >= a:\n",
    "            return t\n",
    "\n",
    "sim_results = Parallel(n_jobs=-1)(delayed(simulate_PA_2)([v,a]) for _ in range(int(50e3)))"
   ]
  },
  {
   "cell_type": "code",
   "execution_count": 17,
   "metadata": {},
   "outputs": [],
   "source": [
    "params_1 = params"
   ]
  },
  {
   "cell_type": "code",
   "execution_count": 34,
   "metadata": {},
   "outputs": [],
   "source": [
    "params_rep = params_1.repeat(100,1)"
   ]
  },
  {
   "cell_type": "code",
   "execution_count": null,
   "metadata": {},
   "outputs": [],
   "source": [
    "simulated_from_simulate_pa = simulate_PA(params_rep)"
   ]
  },
  {
   "cell_type": "code",
   "execution_count": 39,
   "metadata": {},
   "outputs": [],
   "source": [
    "q = simulated_from_simulate_pa.numpy().shape"
   ]
  },
  {
   "cell_type": "code",
   "execution_count": 40,
   "metadata": {},
   "outputs": [
    {
     "data": {
      "image/png": "[encoded data removed]",
      "text/plain": [
       "<Figure size 640x480 with 1 Axes>"
      ]
     },
     "metadata": {},
     "output_type": "display_data"
    }
   ],
   "source": [
    "plt.plot(t_pts, like.squeeze().detach().numpy())\n",
    "plt.hist(sim_results, bins=bins, density=True, alpha=0.5);\n",
    "plt.hist(simulated_from_simulate_pa.numpy(), bins=bins, density=True, alpha=0.5);"
   ]
  },
  {
   "cell_type": "code",
   "execution_count": null,
   "metadata": {},
   "outputs": [],
   "source": []
  }
 ],
 "metadata": {
  "kernelspec": {
   "display_name": "venv",
   "language": "python",
   "name": "python3"
  },
  "language_info": {
   "codemirror_mode": {
    "name": "ipython",
    "version": 3
   },
   "file_extension": ".py",
   "mimetype": "text/x-python",
   "name": "python",
   "nbconvert_exporter": "python",
   "pygments_lexer": "ipython3",
   "version": "3.10.12"
  }
 },
 "nbformat": 4,
 "nbformat_minor": 2
}
