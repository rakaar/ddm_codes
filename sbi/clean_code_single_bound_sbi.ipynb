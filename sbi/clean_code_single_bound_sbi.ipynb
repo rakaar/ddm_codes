{
 "cells": [
  {
   "cell_type": "code",
   "execution_count": 1,
   "metadata": {},
   "outputs": [],
   "source": [
    "import numpy as np\n",
    "import matplotlib.pyplot as plt\n",
    "from joblib import Parallel, delayed\n",
    "import torch\n",
    "from sbi.utils import BoxUniform\n",
    "\n",
    "from sbi.inference import simulate_for_sbi\n",
    "from sbi.utils.user_input_checks import process_simulator, process_prior, check_sbi_inputs\n"
   ]
  },
  {
   "cell_type": "code",
   "execution_count": 2,
   "metadata": {},
   "outputs": [],
   "source": [
    "v = 1\n",
    "a = 1"
   ]
  },
  {
   "cell_type": "markdown",
   "metadata": {},
   "source": [
    "# SBI"
   ]
  },
  {
   "cell_type": "markdown",
   "metadata": {},
   "source": [
    "## prior"
   ]
  },
  {
   "cell_type": "code",
   "execution_count": 3,
   "metadata": {},
   "outputs": [],
   "source": [
    "# low = torch.tensor([0.5, 0.5])\n",
    "# high = torch.tensor([2, 2])\n",
    "\n",
    "low = torch.tensor([0.01,0.01])\n",
    "high = torch.tensor([10,10])\n",
    "\n",
    "prior = BoxUniform(low=low, high=high)\n",
    "prior, num_parameters, prior_returns_numpy = process_prior(prior)"
   ]
  },
  {
   "cell_type": "markdown",
   "metadata": {},
   "source": [
    "## simulate single bound"
   ]
  },
  {
   "cell_type": "code",
   "execution_count": 4,
   "metadata": {},
   "outputs": [],
   "source": [
    "def simulate_PA(params):\n",
    "    v,a = params\n",
    "    dt = 1e-4; dB = 1e-2\n",
    "    DV = 0; t = 0\n",
    "    while True:\n",
    "        DV += v*dt + np.random.normal(0, dB)\n",
    "        t += dt\n",
    "\n",
    "        if DV >= a:\n",
    "            return t\n"
   ]
  },
  {
   "cell_type": "markdown",
   "metadata": {},
   "source": [
    "## sbi simulator"
   ]
  },
  {
   "cell_type": "code",
   "execution_count": 5,
   "metadata": {},
   "outputs": [],
   "source": [
    "simulator = process_simulator(simulate_PA, prior, prior_returns_numpy)"
   ]
  },
  {
   "cell_type": "code",
   "execution_count": 6,
   "metadata": {},
   "outputs": [],
   "source": [
    "check_sbi_inputs(simulator, prior)"
   ]
  },
  {
   "cell_type": "code",
   "execution_count": null,
   "metadata": {},
   "outputs": [
    {
     "data": {
      "application/vnd.jupyter.widget-view+json": {
       "model_id": "358418d2461f4d9f83a47a769b32a318",
       "version_major": 2,
       "version_minor": 0
      },
      "text/plain": [
       "  0%|          | 0/100000 [00:00<?, ?it/s]"
      ]
     },
     "metadata": {},
     "output_type": "display_data"
    }
   ],
   "source": [
    "N_sim = int(100e3)\n",
    "\n",
    "proposal = prior\n",
    "theta, x_o = simulate_for_sbi(simulator=simulator,\\\n",
    "                            proposal=proposal,\n",
    "                            num_simulations=N_sim,\n",
    "                            num_workers=32)"
   ]
  },
  {
   "cell_type": "markdown",
   "metadata": {},
   "source": [
    "## train network"
   ]
  },
  {
   "cell_type": "code",
   "execution_count": null,
   "metadata": {},
   "outputs": [],
   "source": [
    "from sbi.inference import SNLE\n",
    "trainer = SNLE()\n",
    "x_o_2d = torch.atleast_2d(x_o)\n",
    "estimator = trainer.append_simulations(theta, x_o_2d.T).train(training_batch_size=512)"
   ]
  },
  {
   "cell_type": "markdown",
   "metadata": {},
   "source": [
    "## likelihood"
   ]
  },
  {
   "cell_type": "code",
   "execution_count": null,
   "metadata": {},
   "outputs": [],
   "source": [
    "bin_width = 0.1\n",
    "bins = np.arange(0, 10, bin_width)\n",
    "t_pts = bins[:-1] + bin_width/2\n",
    "sim_results = Parallel(n_jobs=-1)(delayed(simulate_PA)([v,a]) for _ in range(int(50e3)))\n",
    "\n"
   ]
  },
  {
   "cell_type": "code",
   "execution_count": null,
   "metadata": {},
   "outputs": [],
   "source": [
    "og_params = torch.Tensor([v, a])\n",
    "loglike = estimator.log_prob(torch.tensor(t_pts).unsqueeze(0).to(dtype=torch.float32), torch.tensor([[v, a]] * len(t_pts)) )\n",
    "like = torch.exp(loglike)"
   ]
  },
  {
   "cell_type": "code",
   "execution_count": null,
   "metadata": {},
   "outputs": [],
   "source": [
    "plt.plot(t_pts, like.squeeze().detach().numpy())\n",
    "plt.hist(sim_results, bins=bins, density=True, alpha=0.5);"
   ]
  },
  {
   "cell_type": "code",
   "execution_count": null,
   "metadata": {},
   "outputs": [],
   "source": [
    "plt.plot(trainer.summary['validation_loss'], label='validation loss')\n",
    "plt.plot(trainer.summary['training_loss'], label='trainin loss')\n",
    "plt.legend()"
   ]
  },
  {
   "cell_type": "markdown",
   "metadata": {},
   "source": [
    "# check simulator?"
   ]
  },
  {
   "cell_type": "code",
   "execution_count": null,
   "metadata": {},
   "outputs": [],
   "source": [
    "# prior_1 = BoxUniform(low=torch.tensor([1,1]), high=torch.tensor([1,1]))\n",
    "# prior_1, num_parameters_1, prior_returns_numpy_1 = process_prior(prior_1)\n",
    "# check_sbi_inputs(simulator, prior_1)\n",
    "# proposal_1 = prior_1\n",
    "# theta_1, x_o_1 = simulate_for_sbi(simulator=simulator,\\\n",
    "#                             proposal=proposal_1,\n",
    "#                             num_simulations=N_sim,\n",
    "#                             num_workers=32)\n",
    "\n",
    "# x_o_1_np = x_o_1.numpy()\n",
    "\n",
    "# plt.hist(x_o_1_np, bins=bins, density=True, alpha=0.5, histtype='step', lw=2, color='r');\n",
    "# plt.hist(sim_results, bins=bins, density=True, alpha=0.5, histtype='step', lw=2, color='b', ls='--');"
   ]
  }
 ],
 "metadata": {
  "kernelspec": {
   "display_name": "venv",
   "language": "python",
   "name": "python3"
  },
  "language_info": {
   "codemirror_mode": {
    "name": "ipython",
    "version": 3
   },
   "file_extension": ".py",
   "mimetype": "text/x-python",
   "name": "python",
   "nbconvert_exporter": "python",
   "pygments_lexer": "ipython3",
   "version": "3.10.12"
  }
 },
 "nbformat": 4,
 "nbformat_minor": 2
}
