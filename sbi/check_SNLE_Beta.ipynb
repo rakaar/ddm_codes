{
 "cells": [
  {
   "cell_type": "code",
   "execution_count": 3,
   "metadata": {},
   "outputs": [],
   "source": [
    "import os\n",
    "\n",
    "# Set the environment variable\n",
    "os.environ['TF_ENABLE_ONEDNN_OPTS'] = '0'"
   ]
  },
  {
   "cell_type": "code",
   "execution_count": 5,
   "metadata": {},
   "outputs": [],
   "source": [
    "import torch\n",
    "from sbi.inference import SNLE\n",
    "import matplotlib.pyplot as plt"
   ]
  },
  {
   "cell_type": "markdown",
   "metadata": {},
   "source": [
    "# Beta"
   ]
  },
  {
   "cell_type": "markdown",
   "metadata": {},
   "source": [
    "## generate theta and x"
   ]
  },
  {
   "cell_type": "code",
   "execution_count": 21,
   "metadata": {},
   "outputs": [
    {
     "name": "stdout",
     "output_type": "stream",
     "text": [
      "theta shape: torch.Size([100000, 2])\n",
      "x shape: torch.Size([100000, 1])\n"
     ]
    }
   ],
   "source": [
    "N = int(100e3)\n",
    "# theta\n",
    "alphas = torch.distributions.Uniform(0.1, 3.0).sample((N,))\n",
    "betas = torch.distributions.Uniform(0.1, 3.0).sample((N,))\n",
    "theta = torch.stack((alphas, betas), dim=1)\n",
    "print(f'theta shape: {theta.shape}')\n",
    "\n",
    "# x\n",
    "x = torch.zeros(N, 1)\n",
    "for i in range(N):\n",
    "    alpha, beta = theta[i]\n",
    "    beta_dist = torch.distributions.Beta(alpha, beta)\n",
    "    x[i] = beta_dist.sample((1,))\n",
    "\n",
    "print(f'x shape: {x.shape}')"
   ]
  },
  {
   "cell_type": "markdown",
   "metadata": {},
   "source": [
    "## SNLE"
   ]
  },
  {
   "cell_type": "code",
   "execution_count": 22,
   "metadata": {},
   "outputs": [
    {
     "name": "stderr",
     "output_type": "stream",
     "text": [
      "/home/rka/code/ddm_codes/venv/lib/python3.10/site-packages/sbi/neural_nets/net_builders/flow.py:141: UserWarning: In one-dimensional output space, this flow is limited to Gaussians\n",
      "  x_numel = get_numel(\n"
     ]
    },
    {
     "name": "stdout",
     "output_type": "stream",
     "text": [
      " Neural network successfully converged after 33 epochs."
     ]
    }
   ],
   "source": [
    "inference = SNLE()\n",
    "likelihood_estimator = inference.append_simulations(theta, x).train()\n"
   ]
  },
  {
   "cell_type": "markdown",
   "metadata": {},
   "source": [
    "## test likelihood"
   ]
  },
  {
   "cell_type": "code",
   "execution_count": 23,
   "metadata": {},
   "outputs": [
    {
     "name": "stdout",
     "output_type": "stream",
     "text": [
      "theta_test shape: torch.Size([1000, 2])\n",
      "loglike shape: torch.Size([1, 1000])\n"
     ]
    }
   ],
   "source": [
    "N_test = int(1e3)\n",
    "x_test = torch.linspace(0,4, N_test).reshape(-1, 1)\n",
    "theta_test = torch.stack((7*torch.ones(N_test), 1*torch.ones(N_test)), dim=1)\n",
    "print(f'theta_test shape: {theta_test.shape}')\n",
    "\n",
    "loglike = likelihood_estimator.log_prob(x_test.T, theta_test)\n",
    "print(f'loglike shape: {loglike.shape}')"
   ]
  },
  {
   "cell_type": "markdown",
   "metadata": {},
   "source": [
    "## sampled"
   ]
  },
  {
   "cell_type": "code",
   "execution_count": 24,
   "metadata": {},
   "outputs": [
    {
     "data": {
      "image/png": "[encoded data removed]",
      "text/plain": [
       "<Figure size 640x480 with 1 Axes>"
      ]
     },
     "metadata": {},
     "output_type": "display_data"
    }
   ],
   "source": [
    "# generate data from theta_test\n",
    "x_test_gen = torch.zeros(N_test, 1)\n",
    "for i in range(N_test):\n",
    "    alpha, beta = theta_test[i]\n",
    "    beta_dist = torch.distributions.Beta(alpha, beta)\n",
    "    x_test_gen[i] = beta_dist.sample((1,))\n",
    "    \n",
    "plt.plot(x_test.squeeze().detach().numpy(), loglike.exp().squeeze().detach().numpy())\n",
    "plt.hist(x_test_gen.squeeze().detach().numpy(), bins=50, density=True, alpha=0.5);"
   ]
  },
  {
   "cell_type": "code",
   "execution_count": null,
   "metadata": {},
   "outputs": [],
   "source": []
  }
 ],
 "metadata": {
  "kernelspec": {
   "display_name": "venv",
   "language": "python",
   "name": "python3"
  },
  "language_info": {
   "codemirror_mode": {
    "name": "ipython",
    "version": 3
   },
   "file_extension": ".py",
   "mimetype": "text/x-python",
   "name": "python",
   "nbconvert_exporter": "python",
   "pygments_lexer": "ipython3",
   "version": "3.10.12"
  }
 },
 "nbformat": 4,
 "nbformat_minor": 2
}
