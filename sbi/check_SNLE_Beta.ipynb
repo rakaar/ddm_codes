{
 "cells": [
  {
   "cell_type": "code",
   "execution_count": 1,
   "metadata": {},
   "outputs": [],
   "source": [
    "import os\n",
    "\n",
    "# Set the environment variable\n",
    "os.environ['TF_ENABLE_ONEDNN_OPTS'] = '0'"
   ]
  },
  {
   "cell_type": "code",
   "execution_count": 2,
   "metadata": {},
   "outputs": [
    {
     "name": "stderr",
     "output_type": "stream",
     "text": [
      "2024-12-02 11:30:27.590032: E external/local_xla/xla/stream_executor/cuda/cuda_fft.cc:485] Unable to register cuFFT factory: Attempting to register factory for plugin cuFFT when one has already been registered\n",
      "2024-12-02 11:30:27.599009: E external/local_xla/xla/stream_executor/cuda/cuda_dnn.cc:8454] Unable to register cuDNN factory: Attempting to register factory for plugin cuDNN when one has already been registered\n",
      "2024-12-02 11:30:27.601668: E external/local_xla/xla/stream_executor/cuda/cuda_blas.cc:1452] Unable to register cuBLAS factory: Attempting to register factory for plugin cuBLAS when one has already been registered\n",
      "2024-12-02 11:30:27.609409: I tensorflow/core/platform/cpu_feature_guard.cc:210] This TensorFlow binary is optimized to use available CPU instructions in performance-critical operations.\n",
      "To enable the following instructions: AVX2 AVX512F AVX512_VNNI AVX512_BF16 FMA, in other operations, rebuild TensorFlow with the appropriate compiler flags.\n",
      "2024-12-02 11:30:28.087159: W tensorflow/compiler/tf2tensorrt/utils/py_utils.cc:38] TF-TRT Warning: Could not find TensorRT\n"
     ]
    }
   ],
   "source": [
    "import torch\n",
    "from sbi.inference import SNLE\n",
    "import matplotlib.pyplot as plt"
   ]
  },
  {
   "cell_type": "markdown",
   "metadata": {},
   "source": [
    "# Beta"
   ]
  },
  {
   "cell_type": "markdown",
   "metadata": {},
   "source": [
    "## generate theta and x"
   ]
  },
  {
   "cell_type": "code",
   "execution_count": 3,
   "metadata": {},
   "outputs": [
    {
     "name": "stdout",
     "output_type": "stream",
     "text": [
      "theta shape: torch.Size([100000, 2])\n",
      "x shape: torch.Size([100000, 1])\n"
     ]
    }
   ],
   "source": [
    "N = int(100e3)\n",
    "# theta\n",
    "alphas = torch.distributions.Uniform(0.1, 3.0).sample((N,))\n",
    "betas = torch.distributions.Uniform(0.1, 3.0).sample((N,))\n",
    "theta = torch.stack((alphas, betas), dim=1)\n",
    "print(f'theta shape: {theta.shape}')\n",
    "\n",
    "# x\n",
    "x = torch.zeros(N, 1)\n",
    "for i in range(N):\n",
    "    alpha, beta = theta[i]\n",
    "    beta_dist = torch.distributions.Beta(alpha, beta)\n",
    "    x[i] = beta_dist.sample((1,))\n",
    "\n",
    "print(f'x shape: {x.shape}')"
   ]
  },
  {
   "cell_type": "markdown",
   "metadata": {},
   "source": [
    "## SNLE"
   ]
  },
  {
   "cell_type": "code",
   "execution_count": 4,
   "metadata": {},
   "outputs": [
    {
     "name": "stderr",
     "output_type": "stream",
     "text": [
      "/home/rka/code/ddm_codes/venv/lib/python3.10/site-packages/sbi/neural_nets/net_builders/flow.py:141: UserWarning: In one-dimensional output space, this flow is limited to Gaussians\n",
      "  x_numel = get_numel(\n"
     ]
    },
    {
     "name": "stdout",
     "output_type": "stream",
     "text": [
      " Neural network successfully converged after 37 epochs."
     ]
    }
   ],
   "source": [
    "inference = SNLE()\n",
    "likelihood_estimator = inference.append_simulations(theta, x).train()\n"
   ]
  },
  {
   "cell_type": "markdown",
   "metadata": {},
   "source": [
    "## test likelihood"
   ]
  },
  {
   "cell_type": "code",
   "execution_count": 5,
   "metadata": {},
   "outputs": [
    {
     "name": "stdout",
     "output_type": "stream",
     "text": [
      "theta_test shape: torch.Size([1000, 2])\n",
      "x_test shape: torch.Size([1, 1000])\n",
      "loglike shape: torch.Size([1, 1000])\n"
     ]
    }
   ],
   "source": [
    "N_test = int(1e3)\n",
    "x_test = torch.linspace(0,4, N_test).reshape(1, -1)\n",
    "theta_test = torch.stack((7*torch.ones(N_test), 1*torch.ones(N_test)), dim=1)\n",
    "print(f'theta_test shape: {theta_test.shape}')\n",
    "print(f'x_test shape: {x_test.shape}')\n",
    "\n",
    "loglike = likelihood_estimator.log_prob(x_test, theta_test)\n",
    "print(f'loglike shape: {loglike.shape}')"
   ]
  },
  {
   "cell_type": "markdown",
   "metadata": {},
   "source": [
    "## sampled"
   ]
  },
  {
   "cell_type": "code",
   "execution_count": 7,
   "metadata": {},
   "outputs": [
    {
     "data": {
      "image/png": "[encoded data removed]",
      "text/plain": [
       "<Figure size 640x480 with 1 Axes>"
      ]
     },
     "metadata": {},
     "output_type": "display_data"
    }
   ],
   "source": [
    "# generate data from theta_test\n",
    "x_test_gen = torch.zeros(N_test, 1)\n",
    "for i in range(N_test):\n",
    "    alpha, beta = theta_test[i]\n",
    "    beta_dist = torch.distributions.Beta(alpha, beta)\n",
    "    x_test_gen[i] = beta_dist.sample((1,))\n",
    "    \n",
    "plt.plot(x_test.squeeze().detach().numpy(), loglike.exp().squeeze().detach().numpy(), label='snle likelihood')\n",
    "plt.hist(x_test_gen.squeeze().detach().numpy(), bins=50, density=True, alpha=0.5, label='sampled data');\n",
    "plt.xlabel('x')\n",
    "plt.ylabel('density')\n",
    "plt.legend();"
   ]
  },
  {
   "cell_type": "code",
   "execution_count": null,
   "metadata": {},
   "outputs": [],
   "source": []
  }
 ],
 "metadata": {
  "kernelspec": {
   "display_name": "venv",
   "language": "python",
   "name": "python3"
  },
  "language_info": {
   "codemirror_mode": {
    "name": "ipython",
    "version": 3
   },
   "file_extension": ".py",
   "mimetype": "text/x-python",
   "name": "python",
   "nbconvert_exporter": "python",
   "pygments_lexer": "ipython3",
   "version": "3.10.12"
  }
 },
 "nbformat": 4,
 "nbformat_minor": 2
}
