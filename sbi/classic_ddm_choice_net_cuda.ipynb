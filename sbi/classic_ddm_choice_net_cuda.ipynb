{
 "cells": [
  {
   "cell_type": "code",
   "execution_count": 1,
   "metadata": {},
   "outputs": [],
   "source": [
    "import numpy as np\n",
    "import matplotlib.pyplot as plt\n",
    "from joblib import Parallel, delayed\n",
    "\n",
    "import torch\n",
    "import torch.nn as nn\n",
    "import torch.optim as optim\n"
   ]
  },
  {
   "cell_type": "markdown",
   "metadata": {},
   "source": [
    "# params"
   ]
  },
  {
   "cell_type": "code",
   "execution_count": 2,
   "metadata": {},
   "outputs": [],
   "source": [
    "v_min = -5; v_max = 5\n",
    "a_min  = 0.1; a_max = 5"
   ]
  },
  {
   "cell_type": "code",
   "execution_count": 3,
   "metadata": {},
   "outputs": [
    {
     "name": "stdout",
     "output_type": "stream",
     "text": [
      "Using device: cuda\n",
      "Final loss = 0.2228\n"
     ]
    }
   ],
   "source": [
    "import torch\n",
    "import torch.nn as nn\n",
    "import torch.optim as optim\n",
    "import numpy as np\n",
    "\n",
    "# Define the device\n",
    "device = torch.device('cuda' if torch.cuda.is_available() else 'cpu')\n",
    "print(f'Using device: {device}')\n",
    "class ChoiceNet(nn.Module):\n",
    "    def __init__(self, input_size, hidden_size):\n",
    "        super(ChoiceNet, self).__init__()\n",
    "        self.fc1 = nn.Linear(input_size, hidden_size)\n",
    "        self.relu = nn.ReLU()\n",
    "\n",
    "        self.fc2 = nn.Linear(hidden_size, 1)\n",
    "        # Removed the sigmoid layer\n",
    "\n",
    "    def forward(self, x):\n",
    "        out = self.fc1(x)\n",
    "        out = self.relu(out)\n",
    "        out = self.fc2(out)\n",
    "        # Do not apply sigmoid here\n",
    "        return out  # Return raw logits\n",
    "\n",
    "all_loss = []\n",
    "\n",
    "# NN params\n",
    "input_size = 2\n",
    "hidden_size = 20\n",
    "learning_rate = 1e-3\n",
    "num_epochs = int(500e3)\n",
    "batch_size = 100\n",
    "\n",
    "model = ChoiceNet(input_size, hidden_size).to(device)  # Move model to GPU\n",
    "criterion = nn.BCEWithLogitsLoss()\n",
    "\n",
    "optimizer = optim.Adam(model.parameters(), lr=learning_rate)\n",
    "# scheduler = optim.lr_scheduler.ReduceLROnPlateau(optimizer, mode='min', factor=0.1, patience=1000, verbose=True)\n",
    "\n",
    "# Training loop\n",
    "for epoch in range(num_epochs):\n",
    "    # Generate inputs directly on the GPU\n",
    "    v_samples = (v_max - v_min) * torch.rand(batch_size, device=device) + v_min\n",
    "    a_samples = (a_max - a_min) * torch.rand(batch_size, device=device) + a_min\n",
    "    inputs = torch.stack([v_samples, a_samples], dim=1)\n",
    "\n",
    "    # Compute targets\n",
    "    targets = (1 - ( 1 - torch.exp( -v_samples*a_samples ) ) / ( torch.exp( v_samples*a_samples ) - torch.exp( - v_samples*a_samples ) )).unsqueeze(1)\n",
    "    targets[torch.isnan(targets)] = 0.5 # if v = 0, then targets = 0/0, limit is 0.5\n",
    "\n",
    "    # Forward pass\n",
    "    outputs = model(inputs)\n",
    "    loss = criterion(outputs, targets)\n",
    "\n",
    "    # Backward pass and optimization\n",
    "    optimizer.zero_grad()\n",
    "    loss.backward()\n",
    "    optimizer.step()\n",
    "\n",
    "    all_loss.append(loss.item())\n",
    "\n",
    "    # loss.item is nan, stop\n",
    "    if np.isnan(loss.item()):\n",
    "        print(f'Loss is nan at epoch {epoch}')\n",
    "        break\n",
    "    # Optional: Print progress\n",
    "    # if epoch % 1000 == 0:\n",
    "    #     print(f'Epoch [{epoch}/{num_epochs}], Loss: {loss.item():.4f}')\n",
    "\n",
    "print(f'Final loss = {loss.item():.4f}')\n"
   ]
  },
  {
   "cell_type": "markdown",
   "metadata": {},
   "source": [
    "cuda took 3.5 min?"
   ]
  }
 ],
 "metadata": {
  "kernelspec": {
   "display_name": "venv",
   "language": "python",
   "name": "python3"
  },
  "language_info": {
   "codemirror_mode": {
    "name": "ipython",
    "version": 3
   },
   "file_extension": ".py",
   "mimetype": "text/x-python",
   "name": "python",
   "nbconvert_exporter": "python",
   "pygments_lexer": "ipython3",
   "version": "3.10.12"
  }
 },
 "nbformat": 4,
 "nbformat_minor": 2
}
