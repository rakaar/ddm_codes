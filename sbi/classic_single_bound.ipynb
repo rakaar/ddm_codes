{
 "cells": [
  {
   "cell_type": "code",
   "execution_count": 1,
   "metadata": {},
   "outputs": [],
   "source": [
    "import numpy as np\n",
    "import matplotlib.pyplot as plt\n",
    "from joblib import Parallel, delayed"
   ]
  },
  {
   "cell_type": "code",
   "execution_count": 28,
   "metadata": {},
   "outputs": [],
   "source": [
    "def single_bound_diffusion(v,a,dt=1e-4,dB=1e-2):\n",
    "    DV = 0; t = 0\n",
    "    while True:\n",
    "        DV += v*dt + np.random.normal(0, dB)\n",
    "        t += dt\n",
    "\n",
    "        if DV >= a:\n",
    "            return t"
   ]
  },
  {
   "cell_type": "code",
   "execution_count": 3,
   "metadata": {},
   "outputs": [],
   "source": [
    "dt = 1e-4\n",
    "dB = np.sqrt(dt)\n",
    "v = 1\n",
    "a = 2\n",
    "N_sim = int(50e3)"
   ]
  },
  {
   "cell_type": "code",
   "execution_count": null,
   "metadata": {},
   "outputs": [],
   "source": [
    "sim_results = Parallel(n_jobs=-1)(delayed(single_bound_diffusion)(v,a,dt,dB) for _ in range(N_sim))"
   ]
  },
  {
   "cell_type": "code",
   "execution_count": 5,
   "metadata": {},
   "outputs": [],
   "source": [
    "def rho_A_t_fn(t, V_A, theta_A):\n",
    "    \"\"\"\n",
    "    For AI,prob density of t given V_A, theta_A\n",
    "    \"\"\"\n",
    "    if t <= 0:\n",
    "        return 0\n",
    "    return (theta_A*1/np.sqrt(2*np.pi*(t)**3))*np.exp(-0.5 * (V_A**2) * (((t) - (theta_A/V_A))**2)/(t))\n"
   ]
  },
  {
   "cell_type": "code",
   "execution_count": 6,
   "metadata": {},
   "outputs": [
    {
     "data": {
      "text/plain": [
       "[<matplotlib.lines.Line2D at 0x7b1c294dfcd0>]"
      ]
     },
     "execution_count": 6,
     "metadata": {},
     "output_type": "execute_result"
    },
    {
     "data": {
      "image/png": "[encoded data removed]",
      "text/plain": [
       "<Figure size 640x480 with 1 Axes>"
      ]
     },
     "metadata": {},
     "output_type": "display_data"
    }
   ],
   "source": [
    "bin_width = 0.1\n",
    "bins = np.arange(0, 10, bin_width)\n",
    "plt.hist(sim_results, bins=bins, density=True);\n",
    "\n",
    "t_pts = bins[:-1] + bin_width/2\n",
    "pdf = [rho_A_t_fn(t, v, a) for t in t_pts]\n",
    "plt.plot(t_pts, pdf, 'r-')"
   ]
  },
  {
   "cell_type": "markdown",
   "metadata": {},
   "source": [
    "# MNLE"
   ]
  },
  {
   "cell_type": "code",
   "execution_count": 7,
   "metadata": {},
   "outputs": [],
   "source": [
    "from sbi.inference import MNLE"
   ]
  },
  {
   "cell_type": "markdown",
   "metadata": {},
   "source": [
    "## proposal and prior"
   ]
  },
  {
   "cell_type": "code",
   "execution_count": 8,
   "metadata": {},
   "outputs": [],
   "source": [
    "# priors and proposal\n",
    "from torch.distributions import Uniform\n",
    "from sbi.utils import MultipleIndependent\n",
    "import torch\n",
    "\n",
    "# Define the distributions for \"v\" and \"a\"\n",
    "v_Distribution = Uniform(torch.tensor([0.1]), torch.tensor([5.0]))\n",
    "a_Distribution = Uniform(torch.tensor([0.1]), torch.tensor([5.0]))\n",
    "\n",
    "# Group the distributions into a prior\n",
    "prior = MultipleIndependent(\n",
    "    [\n",
    "        v_Distribution,  # Uniform distribution for \"v\"\n",
    "        a_Distribution,  # Uniform distribution for \"a\"\n",
    "    ],\n",
    "    validate_args=False,\n",
    ")\n",
    "\n",
    "# Group the distributions into a proposal (if needed)\n",
    "proposal = MultipleIndependent(\n",
    "    [\n",
    "        v_Distribution,  # Uniform distribution for \"v\"\n",
    "        a_Distribution,  # Uniform distribution for \"a\"\n",
    "    ],\n",
    "    validate_args=False,\n",
    ")"
   ]
  },
  {
   "cell_type": "markdown",
   "metadata": {},
   "source": [
    "## simulator"
   ]
  },
  {
   "cell_type": "code",
   "execution_count": 9,
   "metadata": {},
   "outputs": [],
   "source": [
    "import torch\n",
    "import numpy as np\n",
    "\n",
    "def simulate_single_bound_diffusion(params):\n",
    "    \"\"\"\n",
    "    Simulates single-bound diffusion for a batch of parameters.\n",
    "\n",
    "    Args:\n",
    "        params: Tensor of shape (batch_size, 2)\n",
    "                - params[:, 0]: v (drift rate)\n",
    "                - params[:, 1]: a (threshold)\n",
    "\n",
    "    Returns:\n",
    "        Tensor of shape (batch_size, 1) containing decision times for each parameter set.\n",
    "    \"\"\"\n",
    "    v, a = params[:, 0], params[:, 1]  # Extract v and a\n",
    "    batch_size = params.size(0)\n",
    "    dt = 1e-4\n",
    "    dB = np.sqrt(dt)\n",
    "\n",
    "    decision_times = []\n",
    "    for i in range(batch_size):\n",
    "        DV = 0.0  # Initialize decision variable\n",
    "        t = 0.0   # Initialize time\n",
    "        while True:\n",
    "            DV += v[i].item() * dt + np.random.normal(0, dB)  # Update decision variable\n",
    "            t += dt  # Increment time\n",
    "            if DV >= a[i].item():  # Check if threshold is crossed\n",
    "                decision_times.append(t)\n",
    "                break\n",
    "\n",
    "    # Convert decision times to a tensor of shape (batch_size, 1)\n",
    "    return torch.tensor(decision_times).reshape(-1, 1)"
   ]
  },
  {
   "cell_type": "markdown",
   "metadata": {},
   "source": [
    "## In parallel?"
   ]
  },
  {
   "cell_type": "code",
   "execution_count": 34,
   "metadata": {},
   "outputs": [],
   "source": [
    "import torch\n",
    "\n",
    "def simulate_single_bound_diffusion_parallel(params):\n",
    "    \"\"\"\n",
    "    Simulates single-bound diffusion for a batch of parameters in parallel.\n",
    "\n",
    "    Args:\n",
    "        params: Tensor of shape (batch_size, 2)\n",
    "                - params[:, 0]: v (drift rate)\n",
    "                - params[:, 1]: a (threshold)\n",
    "\n",
    "    Returns:\n",
    "        Tensor of shape (batch_size, 1) containing decision times for each parameter set.\n",
    "    \"\"\"\n",
    "    params = params.cpu().numpy()  # Convert to NumPy for compatibility with Joblib\n",
    "    results = Parallel(n_jobs=-1)(\n",
    "        delayed(single_bound_diffusion)(v, a) for v, a in params\n",
    "    )\n",
    "    return torch.tensor(results).reshape(-1, 1)\n"
   ]
  },
  {
   "cell_type": "markdown",
   "metadata": {},
   "source": [
    "test simulator"
   ]
  },
  {
   "cell_type": "code",
   "execution_count": 30,
   "metadata": {},
   "outputs": [
    {
     "name": "stdout",
     "output_type": "stream",
     "text": [
      "tensor([[1.3668],\n",
      "        [2.0104],\n",
      "        [0.6468]])\n"
     ]
    }
   ],
   "source": [
    "params = torch.tensor([[0.5, 1.0], [0.3, 1.5], [0.7, 0.8]])  # Example batch of parameters\n",
    "decision_times = simulate_single_bound_diffusion_parallel(params)\n",
    "print(decision_times)\n"
   ]
  },
  {
   "cell_type": "markdown",
   "metadata": {},
   "source": [
    "## trainer MNLE"
   ]
  },
  {
   "cell_type": "code",
   "execution_count": 82,
   "metadata": {},
   "outputs": [],
   "source": [
    "N_sim = int(100e3)"
   ]
  },
  {
   "cell_type": "code",
   "execution_count": 83,
   "metadata": {},
   "outputs": [],
   "source": [
    "theta = proposal.sample((N_sim,))"
   ]
  },
  {
   "cell_type": "code",
   "execution_count": 84,
   "metadata": {},
   "outputs": [],
   "source": [
    "x = simulate_single_bound_diffusion_parallel(theta)"
   ]
  },
  {
   "cell_type": "code",
   "execution_count": 85,
   "metadata": {},
   "outputs": [
    {
     "data": {
      "text/plain": [
       "(torch.Size([100000, 2]), torch.Size([100000, 1]))"
      ]
     },
     "execution_count": 85,
     "metadata": {},
     "output_type": "execute_result"
    }
   ],
   "source": [
    "theta.shape, x.shape"
   ]
  },
  {
   "cell_type": "code",
   "execution_count": 86,
   "metadata": {},
   "outputs": [
    {
     "name": "stderr",
     "output_type": "stream",
     "text": [
      "/home/rka/code/ddm_codes/venv/lib/python3.10/site-packages/sbi/neural_nets/net_builders/flow.py:141: UserWarning: In one-dimensional output space, this flow is limited to Gaussians\n",
      "  x_numel = get_numel(\n"
     ]
    },
    {
     "name": "stdout",
     "output_type": "stream",
     "text": [
      " Neural network successfully converged after 52 epochs."
     ]
    }
   ],
   "source": [
    "from sbi.inference import SNLE\n",
    "trainer = SNLE()\n",
    "estimator = trainer.append_simulations(theta, x).train(training_batch_size=512)\n"
   ]
  },
  {
   "cell_type": "markdown",
   "metadata": {},
   "source": [
    "# likelihood"
   ]
  },
  {
   "cell_type": "code",
   "execution_count": 87,
   "metadata": {},
   "outputs": [],
   "source": [
    "v = 1; a = 2\n",
    "sim_results = Parallel(n_jobs=-1)(delayed(single_bound_diffusion)(v,a) for _ in range(int(50e3)))"
   ]
  },
  {
   "cell_type": "code",
   "execution_count": 88,
   "metadata": {},
   "outputs": [],
   "source": [
    "bin_width = 0.1\n",
    "bins = np.arange(0, 10, bin_width)\n",
    "t_pts = bins[:-1] + bin_width/2"
   ]
  },
  {
   "cell_type": "code",
   "execution_count": 89,
   "metadata": {},
   "outputs": [],
   "source": [
    "v, a = 1.0, 2.0  # Drift rate and threshold\n",
    "theta = torch.tensor([[v, a]] * len(t_pts))  # Repeat (v, a) for all t_pts"
   ]
  },
  {
   "cell_type": "code",
   "execution_count": 90,
   "metadata": {},
   "outputs": [],
   "source": [
    "# Observations (t_pts as reaction times)\n",
    "t_pts_tensor = torch.tensor(t_pts).reshape(-1, 1)  # Reshape to (n_samples, 1)"
   ]
  },
  {
   "cell_type": "code",
   "execution_count": 91,
   "metadata": {},
   "outputs": [
    {
     "data": {
      "text/plain": [
       "(torch.Size([99, 1]), torch.Size([99, 2]))"
      ]
     },
     "execution_count": 91,
     "metadata": {},
     "output_type": "execute_result"
    }
   ],
   "source": [
    "t_pts_tensor.shape, theta.shape"
   ]
  },
  {
   "cell_type": "code",
   "execution_count": 92,
   "metadata": {},
   "outputs": [
    {
     "data": {
      "text/plain": [
       "torch.Size([1, 99, 1])"
      ]
     },
     "execution_count": 92,
     "metadata": {},
     "output_type": "execute_result"
    }
   ],
   "source": [
    "t_pts_tensor_reshaped = t_pts_tensor.unsqueeze(0)  \n",
    "t_pts_tensor_reshaped.shape"
   ]
  },
  {
   "cell_type": "code",
   "execution_count": 93,
   "metadata": {},
   "outputs": [],
   "source": [
    "t_pts_tensor_reshaped = t_pts_tensor_reshaped.to(dtype=torch.float32)\n",
    "theta = theta.to(dtype=torch.float32)"
   ]
  },
  {
   "cell_type": "code",
   "execution_count": 94,
   "metadata": {},
   "outputs": [],
   "source": [
    "log_likelihood = estimator.log_prob(t_pts_tensor_reshaped, theta)\n"
   ]
  },
  {
   "cell_type": "code",
   "execution_count": 95,
   "metadata": {},
   "outputs": [],
   "source": [
    "likelihood = torch.exp(log_likelihood)"
   ]
  },
  {
   "cell_type": "code",
   "execution_count": 96,
   "metadata": {},
   "outputs": [],
   "source": [
    "# convert likelihood to numpy array\n",
    "likelihood = likelihood.detach().numpy()"
   ]
  },
  {
   "cell_type": "code",
   "execution_count": 97,
   "metadata": {},
   "outputs": [
    {
     "name": "stderr",
     "output_type": "stream",
     "text": [
      "/tmp/ipykernel_1789096/43968720.py:3: UserWarning: color is redundantly defined by the 'color' keyword argument and the fmt string \"b-\" (-> color='b'). The keyword argument will take precedence.\n",
      "  plt.plot(t_pts, [rho_A_t_fn(t, v, a) for t in t_pts], 'b-', label=\"theortical\", color='g')\n"
     ]
    },
    {
     "data": {
      "text/plain": [
       "<matplotlib.legend.Legend at 0x7b1bfb3e9330>"
      ]
     },
     "execution_count": 97,
     "metadata": {},
     "output_type": "execute_result"
    },
    {
     "data": {
      "image/png": "[encoded data removed]",
      "text/plain": [
       "<Figure size 640x480 with 1 Axes>"
      ]
     },
     "metadata": {},
     "output_type": "display_data"
    }
   ],
   "source": [
    "plt.plot(t_pts, likelihood.squeeze(), label=\"neural Likelihood\", color='r')\n",
    "plt.hist(sim_results, bins=bins, density=True, alpha=0.5, label=\"sim data\", color='b')\n",
    "plt.plot(t_pts, [rho_A_t_fn(t, v, a) for t in t_pts], 'b-', label=\"theortical\", color='g')\n",
    "\n",
    "plt.xlabel('t')\n",
    "plt.ylabel('density')\n",
    "plt.legend()\n"
   ]
  },
  {
   "cell_type": "code",
   "execution_count": null,
   "metadata": {},
   "outputs": [],
   "source": []
  }
 ],
 "metadata": {
  "kernelspec": {
   "display_name": "venv",
   "language": "python",
   "name": "python3"
  },
  "language_info": {
   "codemirror_mode": {
    "name": "ipython",
    "version": 3
   },
   "file_extension": ".py",
   "mimetype": "text/x-python",
   "name": "python",
   "nbconvert_exporter": "python",
   "pygments_lexer": "ipython3",
   "version": "3.10.12"
  }
 },
 "nbformat": 4,
 "nbformat_minor": 2
}
