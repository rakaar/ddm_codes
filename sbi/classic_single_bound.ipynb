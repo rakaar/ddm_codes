{
 "cells": [
  {
   "cell_type": "code",
   "execution_count": 1,
   "metadata": {},
   "outputs": [],
   "source": [
    "import numpy as np\n",
    "import matplotlib.pyplot as plt\n",
    "from joblib import Parallel, delayed"
   ]
  },
  {
   "cell_type": "code",
   "execution_count": 2,
   "metadata": {},
   "outputs": [],
   "source": [
    "def single_bound_diffusion(v,a,dt=1e-4,dB=1e-2):\n",
    "    DV = 0; t = 0\n",
    "    while True:\n",
    "        DV += v*dt + np.random.normal(0, dB)\n",
    "        t += dt\n",
    "\n",
    "        if DV >= a:\n",
    "            return t"
   ]
  },
  {
   "cell_type": "code",
   "execution_count": 3,
   "metadata": {},
   "outputs": [],
   "source": [
    "dt = 1e-4\n",
    "dB = np.sqrt(dt)\n",
    "v = 1\n",
    "a = 2\n",
    "N_sim = int(50e3)"
   ]
  },
  {
   "cell_type": "code",
   "execution_count": 4,
   "metadata": {},
   "outputs": [],
   "source": [
    "sim_results = Parallel(n_jobs=-1)(delayed(single_bound_diffusion)(v,a,dt,dB) for _ in range(N_sim))"
   ]
  },
  {
   "cell_type": "code",
   "execution_count": 5,
   "metadata": {},
   "outputs": [],
   "source": [
    "def rho_A_t_fn(t, V_A, theta_A):\n",
    "    \"\"\"\n",
    "    For AI,prob density of t given V_A, theta_A\n",
    "    \"\"\"\n",
    "    if t <= 0:\n",
    "        return 0\n",
    "    return (theta_A*1/np.sqrt(2*np.pi*(t)**3))*np.exp(-0.5 * (V_A**2) * (((t) - (theta_A/V_A))**2)/(t))\n"
   ]
  },
  {
   "cell_type": "code",
   "execution_count": 6,
   "metadata": {},
   "outputs": [
    {
     "data": {
      "text/plain": [
       "[<matplotlib.lines.Line2D at 0x78c35b61e2c0>]"
      ]
     },
     "execution_count": 6,
     "metadata": {},
     "output_type": "execute_result"
    },
    {
     "data": {
      "image/png": "[encoded data removed]",
      "text/plain": [
       "<Figure size 640x480 with 1 Axes>"
      ]
     },
     "metadata": {},
     "output_type": "display_data"
    }
   ],
   "source": [
    "bin_width = 0.1\n",
    "bins = np.arange(0, 10, bin_width)\n",
    "plt.hist(sim_results, bins=bins, density=True);\n",
    "\n",
    "t_pts = bins[:-1] + bin_width/2\n",
    "pdf = [rho_A_t_fn(t, v, a) for t in t_pts]\n",
    "plt.plot(t_pts, pdf, 'r-')"
   ]
  },
  {
   "cell_type": "markdown",
   "metadata": {},
   "source": [
    "# SNLE"
   ]
  },
  {
   "cell_type": "markdown",
   "metadata": {},
   "source": [
    "## proposal and prior"
   ]
  },
  {
   "cell_type": "markdown",
   "metadata": {},
   "source": [
    "### NOT being used"
   ]
  },
  {
   "cell_type": "code",
   "execution_count": 7,
   "metadata": {},
   "outputs": [],
   "source": [
    "# priors and proposal\n",
    "from torch.distributions import Uniform\n",
    "from sbi.utils import MultipleIndependent\n",
    "import torch\n",
    "\n",
    "# Define the distributions for \"v\" and \"a\"\n",
    "v_Distribution = Uniform(torch.tensor([0.1]), torch.tensor([5.0]))\n",
    "a_Distribution = Uniform(torch.tensor([0.1]), torch.tensor([5.0]))\n",
    "\n",
    "# Group the distributions into a prior\n",
    "prior = MultipleIndependent(\n",
    "    [\n",
    "        v_Distribution,  # Uniform distribution for \"v\"\n",
    "        a_Distribution,  # Uniform distribution for \"a\"\n",
    "    ],\n",
    "    validate_args=False,\n",
    ")\n",
    "\n",
    "# Group the distributions into a proposal (if needed)\n",
    "proposal = MultipleIndependent(\n",
    "    [\n",
    "        v_Distribution,  # Uniform distribution for \"v\"\n",
    "        a_Distribution,  # Uniform distribution for \"a\"\n",
    "    ],\n",
    "    validate_args=False,\n",
    ")"
   ]
  },
  {
   "cell_type": "markdown",
   "metadata": {},
   "source": [
    "## simulator"
   ]
  },
  {
   "cell_type": "code",
   "execution_count": 58,
   "metadata": {},
   "outputs": [],
   "source": [
    "import torch\n",
    "import numpy as np\n",
    "\n",
    "def simulate_single_bound_diffusion(params):\n",
    "    \"\"\"\n",
    "    Simulates single-bound diffusion for a batch of parameters.\n",
    "\n",
    "    Args:\n",
    "        params: Tensor of shape (batch_size, 2)\n",
    "                - params[:, 0]: v (drift rate)\n",
    "                - params[:, 1]: a (threshold)\n",
    "\n",
    "    Returns:\n",
    "        Tensor of shape (batch_size, 1) containing decision times for each parameter set.\n",
    "    \"\"\"\n",
    "    v, a = params[:, 0], params[:, 1]  # Extract v and a\n",
    "    batch_size = params.shape[0]\n",
    "    dt = 1e-4\n",
    "    dB = np.sqrt(dt)\n",
    "\n",
    "    decision_times = []\n",
    "    for i in range(batch_size):\n",
    "        DV = 0.0  # Initialize decision variable\n",
    "        t = 0.0   # Initialize time\n",
    "        while True:\n",
    "            DV += v[i] * dt + np.random.normal(0, dB)  # Update decision variable\n",
    "            t += dt  # Increment time\n",
    "            if DV >= a[i]:  # Check if threshold is crossed\n",
    "                decision_times.append(t)\n",
    "                break\n",
    "\n",
    "    # Convert decision times to a tensor of shape (batch_size, 1)\n",
    "    # return torch.tensor(decision_times).reshape(-1, 1)\n",
    "    return np.array(decision_times)"
   ]
  },
  {
   "cell_type": "markdown",
   "metadata": {},
   "source": [
    "## In parallel?"
   ]
  },
  {
   "cell_type": "code",
   "execution_count": 9,
   "metadata": {},
   "outputs": [],
   "source": [
    "import torch\n",
    "\n",
    "def simulate_single_bound_diffusion_parallel(params):\n",
    "    \"\"\"\n",
    "    Simulates single-bound diffusion for a batch of parameters in parallel.\n",
    "\n",
    "    Args:\n",
    "        params: Tensor of shape (batch_size, 2)\n",
    "                - params[:, 0]: v (drift rate)\n",
    "                - params[:, 1]: a (threshold)\n",
    "\n",
    "    Returns:\n",
    "        Tensor of shape (batch_size, 1) containing decision times for each parameter set.\n",
    "    \"\"\"\n",
    "    params = params.cpu().numpy()  # Convert to NumPy for compatibility with Joblib\n",
    "    results = Parallel(n_jobs=-1)(\n",
    "        delayed(single_bound_diffusion)(v, a) for v, a in params\n",
    "    )\n",
    "    return torch.tensor(results).reshape(-1, 1)\n"
   ]
  },
  {
   "cell_type": "markdown",
   "metadata": {},
   "source": [
    "test simulator"
   ]
  },
  {
   "cell_type": "code",
   "execution_count": 10,
   "metadata": {},
   "outputs": [
    {
     "name": "stdout",
     "output_type": "stream",
     "text": [
      "tensor([[1.3474],\n",
      "        [4.2064],\n",
      "        [0.1286]])\n"
     ]
    }
   ],
   "source": [
    "params = torch.tensor([[0.5, 1.0], [0.3, 1.5], [0.7, 0.8]])  # Example batch of parameters\n",
    "decision_times = simulate_single_bound_diffusion_parallel(params)\n",
    "print(decision_times)\n"
   ]
  },
  {
   "cell_type": "markdown",
   "metadata": {},
   "source": [
    "## test simulator by giving same param set"
   ]
  },
  {
   "cell_type": "code",
   "execution_count": 11,
   "metadata": {},
   "outputs": [
    {
     "name": "stdout",
     "output_type": "stream",
     "text": [
      "torch.Size([50000, 2])\n"
     ]
    }
   ],
   "source": [
    "params = torch.tensor([v,a])\n",
    "N_sim = int(50e3)\n",
    "repeated_params = params.repeat(N_sim, 1)\n",
    "print(repeated_params.shape)\n",
    "\n",
    "rts = simulate_single_bound_diffusion_parallel(repeated_params)"
   ]
  },
  {
   "cell_type": "code",
   "execution_count": 12,
   "metadata": {},
   "outputs": [
    {
     "data": {
      "text/plain": [
       "<matplotlib.legend.Legend at 0x78c3176f5390>"
      ]
     },
     "execution_count": 12,
     "metadata": {},
     "output_type": "execute_result"
    },
    {
     "data": {
      "image/png": "[encoded data removed]",
      "text/plain": [
       "<Figure size 640x480 with 1 Axes>"
      ]
     },
     "metadata": {},
     "output_type": "display_data"
    }
   ],
   "source": [
    "# convert rts = numpy array\n",
    "rts_np = rts.numpy()\n",
    "\n",
    "plt.hist(rts_np, bins=bins, density=True, histtype='step', color='blue', label='torch simulator');\n",
    "plt.hist(sim_results, bins=bins, density=True, label='reg simualtor', color='r', histtype='step');\n",
    "plt.xlabel('rt')\n",
    "plt.ylabel('density')\n",
    "plt.legend()"
   ]
  },
  {
   "cell_type": "markdown",
   "metadata": {},
   "source": [
    "## trainer MNLE"
   ]
  },
  {
   "cell_type": "code",
   "execution_count": 53,
   "metadata": {},
   "outputs": [],
   "source": [
    "N_sim = int(50e3)"
   ]
  },
  {
   "cell_type": "code",
   "execution_count": 54,
   "metadata": {},
   "outputs": [],
   "source": [
    "theta = proposal.sample((N_sim,))"
   ]
  },
  {
   "cell_type": "code",
   "execution_count": null,
   "metadata": {},
   "outputs": [],
   "source": [
    "x = simulate_single_bound_diffusion_parallel(theta)"
   ]
  },
  {
   "cell_type": "code",
   "execution_count": 55,
   "metadata": {},
   "outputs": [],
   "source": [
    "from sbi.inference import simulate_for_sbi"
   ]
  },
  {
   "cell_type": "code",
   "execution_count": 59,
   "metadata": {},
   "outputs": [
    {
     "data": {
      "application/vnd.jupyter.widget-view+json": {
       "model_id": "782c18874ed14d9884634859d698bbcd",
       "version_major": 2,
       "version_minor": 0
      },
      "text/plain": [
       "  0%|          | 0/50000 [00:00<?, ?it/s]"
      ]
     },
     "metadata": {},
     "output_type": "display_data"
    },
    {
     "ename": "TypeError",
     "evalue": "expected Tensor as element 0 in argument 0, but got numpy.ndarray",
     "output_type": "error",
     "traceback": [
      "\u001b[0;31m---------------------------------------------------------------------------\u001b[0m",
      "\u001b[0;31mTypeError\u001b[0m                                 Traceback (most recent call last)",
      "Cell \u001b[0;32mIn[59], line 1\u001b[0m\n\u001b[0;32m----> 1\u001b[0m theta, x \u001b[38;5;241m=\u001b[39m \u001b[43msimulate_for_sbi\u001b[49m\u001b[43m(\u001b[49m\n\u001b[1;32m      2\u001b[0m \u001b[43m        \u001b[49m\u001b[43msimulator\u001b[49m\u001b[38;5;241;43m=\u001b[39;49m\u001b[43msimulate_single_bound_diffusion\u001b[49m\u001b[43m,\u001b[49m\n\u001b[1;32m      3\u001b[0m \u001b[43m        \u001b[49m\u001b[43mproposal\u001b[49m\u001b[38;5;241;43m=\u001b[39;49m\u001b[43mprior\u001b[49m\u001b[43m,\u001b[49m\n\u001b[1;32m      4\u001b[0m \u001b[43m        \u001b[49m\u001b[43mnum_simulations\u001b[49m\u001b[38;5;241;43m=\u001b[39;49m\u001b[43mN_sim\u001b[49m\u001b[43m,\u001b[49m\n\u001b[1;32m      5\u001b[0m \u001b[43m        \u001b[49m\u001b[43mnum_workers\u001b[49m\u001b[38;5;241;43m=\u001b[39;49m\u001b[38;5;241;43m31\u001b[39;49m\u001b[43m,\u001b[49m\n\u001b[1;32m      6\u001b[0m \u001b[43m        \u001b[49m\u001b[38;5;66;43;03m# simulation_batch_size=int(100)\u001b[39;49;00m\n\u001b[1;32m      7\u001b[0m \u001b[43m    \u001b[49m\u001b[43m)\u001b[49m\n",
      "File \u001b[0;32m~/code/ddm_codes/venv/lib/python3.10/site-packages/sbi/utils/simulation_utils.py:116\u001b[0m, in \u001b[0;36msimulate_for_sbi\u001b[0;34m(simulator, proposal, num_simulations, num_workers, simulation_batch_size, seed, show_progress_bar)\u001b[0m\n\u001b[1;32m    113\u001b[0m             simulation_outputs\u001b[38;5;241m.\u001b[39mappend(simulator(batch))\n\u001b[1;32m    115\u001b[0m     \u001b[38;5;66;03m# Correctly format the output\u001b[39;00m\n\u001b[0;32m--> 116\u001b[0m     x \u001b[38;5;241m=\u001b[39m \u001b[43mtorch\u001b[49m\u001b[38;5;241;43m.\u001b[39;49m\u001b[43mcat\u001b[49m\u001b[43m(\u001b[49m\u001b[43msimulation_outputs\u001b[49m\u001b[43m,\u001b[49m\u001b[43m \u001b[49m\u001b[43mdim\u001b[49m\u001b[38;5;241;43m=\u001b[39;49m\u001b[38;5;241;43m0\u001b[39;49m\u001b[43m)\u001b[49m\n\u001b[1;32m    117\u001b[0m     theta \u001b[38;5;241m=\u001b[39m torch\u001b[38;5;241m.\u001b[39mas_tensor(theta, dtype\u001b[38;5;241m=\u001b[39mfloat32)\n\u001b[1;32m    119\u001b[0m \u001b[38;5;28;01mreturn\u001b[39;00m theta, x\n",
      "\u001b[0;31mTypeError\u001b[0m: expected Tensor as element 0 in argument 0, but got numpy.ndarray"
     ]
    }
   ],
   "source": [
    "theta, x = simulate_for_sbi(\n",
    "        simulator=simulate_single_bound_diffusion,\n",
    "        proposal=prior,\n",
    "        num_simulations=N_sim,\n",
    "        num_workers=31,\n",
    "        # simulation_batch_size=int(100)\n",
    "    )"
   ]
  },
  {
   "cell_type": "code",
   "execution_count": null,
   "metadata": {},
   "outputs": [
    {
     "data": {
      "text/plain": [
       "(torch.Size([500000, 2]), torch.Size([500000, 1]))"
      ]
     },
     "execution_count": 16,
     "metadata": {},
     "output_type": "execute_result"
    }
   ],
   "source": [
    "theta.shape, x.shape"
   ]
  },
  {
   "cell_type": "code",
   "execution_count": null,
   "metadata": {},
   "outputs": [
    {
     "ename": "IndexError",
     "evalue": "The shape of the mask [500000] at index 0 does not match the shape of the indexed tensor [99, 2] at index 0",
     "output_type": "error",
     "traceback": [
      "\u001b[0;31m---------------------------------------------------------------------------\u001b[0m",
      "\u001b[0;31mIndexError\u001b[0m                                Traceback (most recent call last)",
      "Cell \u001b[0;32mIn[37], line 8\u001b[0m\n\u001b[1;32m      4\u001b[0m \u001b[38;5;66;03m# Define the neural network\u001b[39;00m\n\u001b[1;32m      5\u001b[0m \u001b[38;5;66;03m# custom_network = posterior_nn(model=\"maf\", hidden_features=128, num_transforms=5)\u001b[39;00m\n\u001b[1;32m      7\u001b[0m trainer \u001b[38;5;241m=\u001b[39m SNLE()\n\u001b[0;32m----> 8\u001b[0m estimator \u001b[38;5;241m=\u001b[39m \u001b[43mtrainer\u001b[49m\u001b[38;5;241;43m.\u001b[39;49m\u001b[43mappend_simulations\u001b[49m\u001b[43m(\u001b[49m\u001b[43mtheta\u001b[49m\u001b[43m,\u001b[49m\u001b[43m \u001b[49m\u001b[43mx\u001b[49m\u001b[43m)\u001b[49m\u001b[38;5;241m.\u001b[39mtrain(training_batch_size\u001b[38;5;241m=\u001b[39m\u001b[38;5;241m512\u001b[39m, num_epochs\u001b[38;5;241m=\u001b[39m\u001b[38;5;241m100\u001b[39m)\n",
      "File \u001b[0;32m~/code/ddm_codes/venv/lib/python3.10/site-packages/sbi/inference/trainers/nle/nle_base.py:111\u001b[0m, in \u001b[0;36mLikelihoodEstimator.append_simulations\u001b[0;34m(self, theta, x, exclude_invalid_x, from_round, algorithm, data_device)\u001b[0m\n\u001b[1;32m     84\u001b[0m \u001b[38;5;250m\u001b[39m\u001b[38;5;124mr\u001b[39m\u001b[38;5;124;03m\"\"\"Store parameters and simulation outputs to use them for later training.\u001b[39;00m\n\u001b[1;32m     85\u001b[0m \n\u001b[1;32m     86\u001b[0m \u001b[38;5;124;03mData are stored as entries in lists for each type of variable (parameter/data).\u001b[39;00m\n\u001b[0;32m   (...)\u001b[0m\n\u001b[1;32m    107\u001b[0m \u001b[38;5;124;03m    NeuralInference object (returned so that this function is chainable).\u001b[39;00m\n\u001b[1;32m    108\u001b[0m \u001b[38;5;124;03m\"\"\"\u001b[39;00m\n\u001b[1;32m    110\u001b[0m \u001b[38;5;66;03m# pyright false positive, will be fixed with pyright 1.1.310\u001b[39;00m\n\u001b[0;32m--> 111\u001b[0m \u001b[38;5;28;01mreturn\u001b[39;00m \u001b[38;5;28;43msuper\u001b[39;49m\u001b[43m(\u001b[49m\u001b[43m)\u001b[49m\u001b[38;5;241;43m.\u001b[39;49m\u001b[43mappend_simulations\u001b[49m\u001b[43m(\u001b[49m\u001b[43m  \u001b[49m\u001b[38;5;66;43;03m# type: ignore\u001b[39;49;00m\n\u001b[1;32m    112\u001b[0m \u001b[43m    \u001b[49m\u001b[43mtheta\u001b[49m\u001b[38;5;241;43m=\u001b[39;49m\u001b[43mtheta\u001b[49m\u001b[43m,\u001b[49m\n\u001b[1;32m    113\u001b[0m \u001b[43m    \u001b[49m\u001b[43mx\u001b[49m\u001b[38;5;241;43m=\u001b[39;49m\u001b[43mx\u001b[49m\u001b[43m,\u001b[49m\n\u001b[1;32m    114\u001b[0m \u001b[43m    \u001b[49m\u001b[43mexclude_invalid_x\u001b[49m\u001b[38;5;241;43m=\u001b[39;49m\u001b[43mexclude_invalid_x\u001b[49m\u001b[43m,\u001b[49m\n\u001b[1;32m    115\u001b[0m \u001b[43m    \u001b[49m\u001b[43mfrom_round\u001b[49m\u001b[38;5;241;43m=\u001b[39;49m\u001b[43mfrom_round\u001b[49m\u001b[43m,\u001b[49m\n\u001b[1;32m    116\u001b[0m \u001b[43m    \u001b[49m\u001b[43malgorithm\u001b[49m\u001b[38;5;241;43m=\u001b[39;49m\u001b[43malgorithm\u001b[49m\u001b[43m,\u001b[49m\n\u001b[1;32m    117\u001b[0m \u001b[43m    \u001b[49m\u001b[43mdata_device\u001b[49m\u001b[38;5;241;43m=\u001b[39;49m\u001b[43mdata_device\u001b[49m\u001b[43m,\u001b[49m\n\u001b[1;32m    118\u001b[0m \u001b[43m\u001b[49m\u001b[43m)\u001b[49m\n",
      "File \u001b[0;32m~/code/ddm_codes/venv/lib/python3.10/site-packages/sbi/inference/trainers/base.py:268\u001b[0m, in \u001b[0;36mNeuralInference.append_simulations\u001b[0;34m(self, theta, x, exclude_invalid_x, from_round, algorithm, data_device)\u001b[0m\n\u001b[1;32m    265\u001b[0m is_valid_x, num_nans, num_infs \u001b[38;5;241m=\u001b[39m handle_invalid_x(x, exclude_invalid_x)\n\u001b[1;32m    267\u001b[0m x \u001b[38;5;241m=\u001b[39m x[is_valid_x]\n\u001b[0;32m--> 268\u001b[0m theta \u001b[38;5;241m=\u001b[39m \u001b[43mtheta\u001b[49m\u001b[43m[\u001b[49m\u001b[43mis_valid_x\u001b[49m\u001b[43m]\u001b[49m\n\u001b[1;32m    270\u001b[0m \u001b[38;5;66;03m# Check for problematic z-scoring\u001b[39;00m\n\u001b[1;32m    271\u001b[0m warn_if_zscoring_changes_data(x)\n",
      "\u001b[0;31mIndexError\u001b[0m: The shape of the mask [500000] at index 0 does not match the shape of the indexed tensor [99, 2] at index 0"
     ]
    }
   ],
   "source": [
    "from sbi.inference import SNLE\n",
    "from sbi.utils.get_nn_models import posterior_nn\n",
    "\n",
    "# Define the neural network\n",
    "# custom_network = posterior_nn(model=\"maf\", hidden_features=128, num_transforms=5)\n",
    "\n",
    "trainer = SNLE()\n",
    "estimator = trainer.append_simulations(theta, x).train(training_batch_size=512, num_epochs=100)\n"
   ]
  },
  {
   "cell_type": "code",
   "execution_count": 29,
   "metadata": {},
   "outputs": [
    {
     "data": {
      "text/plain": [
       "NFlowsFlow(\n",
       "  (net): Flow(\n",
       "    (_transform): CompositeTransform(\n",
       "      (_transforms): ModuleList(\n",
       "        (0): PointwiseAffineTransform()\n",
       "        (1): MaskedAffineAutoregressiveTransform(\n",
       "          (autoregressive_net): MADE(\n",
       "            (initial_layer): MaskedLinear(in_features=1, out_features=50, bias=True)\n",
       "            (context_layer): Linear(in_features=2, out_features=50, bias=True)\n",
       "            (blocks): ModuleList(\n",
       "              (0-1): 2 x MaskedFeedforwardBlock(\n",
       "                (linear): MaskedLinear(in_features=50, out_features=50, bias=True)\n",
       "                (dropout): Dropout(p=0.0, inplace=False)\n",
       "              )\n",
       "            )\n",
       "            (final_layer): MaskedLinear(in_features=50, out_features=2, bias=True)\n",
       "          )\n",
       "        )\n",
       "        (2): RandomPermutation()\n",
       "        (3): MaskedAffineAutoregressiveTransform(\n",
       "          (autoregressive_net): MADE(\n",
       "            (initial_layer): MaskedLinear(in_features=1, out_features=50, bias=True)\n",
       "            (context_layer): Linear(in_features=2, out_features=50, bias=True)\n",
       "            (blocks): ModuleList(\n",
       "              (0-1): 2 x MaskedFeedforwardBlock(\n",
       "                (linear): MaskedLinear(in_features=50, out_features=50, bias=True)\n",
       "                (dropout): Dropout(p=0.0, inplace=False)\n",
       "              )\n",
       "            )\n",
       "            (final_layer): MaskedLinear(in_features=50, out_features=2, bias=True)\n",
       "          )\n",
       "        )\n",
       "        (4): RandomPermutation()\n",
       "        (5): MaskedAffineAutoregressiveTransform(\n",
       "          (autoregressive_net): MADE(\n",
       "            (initial_layer): MaskedLinear(in_features=1, out_features=50, bias=True)\n",
       "            (context_layer): Linear(in_features=2, out_features=50, bias=True)\n",
       "            (blocks): ModuleList(\n",
       "              (0-1): 2 x MaskedFeedforwardBlock(\n",
       "                (linear): MaskedLinear(in_features=50, out_features=50, bias=True)\n",
       "                (dropout): Dropout(p=0.0, inplace=False)\n",
       "              )\n",
       "            )\n",
       "            (final_layer): MaskedLinear(in_features=50, out_features=2, bias=True)\n",
       "          )\n",
       "        )\n",
       "        (6): RandomPermutation()\n",
       "        (7): MaskedAffineAutoregressiveTransform(\n",
       "          (autoregressive_net): MADE(\n",
       "            (initial_layer): MaskedLinear(in_features=1, out_features=50, bias=True)\n",
       "            (context_layer): Linear(in_features=2, out_features=50, bias=True)\n",
       "            (blocks): ModuleList(\n",
       "              (0-1): 2 x MaskedFeedforwardBlock(\n",
       "                (linear): MaskedLinear(in_features=50, out_features=50, bias=True)\n",
       "                (dropout): Dropout(p=0.0, inplace=False)\n",
       "              )\n",
       "            )\n",
       "            (final_layer): MaskedLinear(in_features=50, out_features=2, bias=True)\n",
       "          )\n",
       "        )\n",
       "        (8): RandomPermutation()\n",
       "        (9): MaskedAffineAutoregressiveTransform(\n",
       "          (autoregressive_net): MADE(\n",
       "            (initial_layer): MaskedLinear(in_features=1, out_features=50, bias=True)\n",
       "            (context_layer): Linear(in_features=2, out_features=50, bias=True)\n",
       "            (blocks): ModuleList(\n",
       "              (0-1): 2 x MaskedFeedforwardBlock(\n",
       "                (linear): MaskedLinear(in_features=50, out_features=50, bias=True)\n",
       "                (dropout): Dropout(p=0.0, inplace=False)\n",
       "              )\n",
       "            )\n",
       "            (final_layer): MaskedLinear(in_features=50, out_features=2, bias=True)\n",
       "          )\n",
       "        )\n",
       "        (10): RandomPermutation()\n",
       "      )\n",
       "    )\n",
       "    (_distribution): StandardNormal()\n",
       "    (_embedding_net): Sequential(\n",
       "      (0): Standardize()\n",
       "      (1): Identity()\n",
       "    )\n",
       "  )\n",
       ")"
      ]
     },
     "execution_count": 29,
     "metadata": {},
     "output_type": "execute_result"
    }
   ],
   "source": [
    "trainer._neural_net"
   ]
  },
  {
   "cell_type": "markdown",
   "metadata": {},
   "source": [
    "# likelihood"
   ]
  },
  {
   "cell_type": "code",
   "execution_count": 18,
   "metadata": {},
   "outputs": [],
   "source": [
    "v = 1; a = 2\n",
    "sim_results = Parallel(n_jobs=-1)(delayed(single_bound_diffusion)(v,a) for _ in range(int(50e3)))"
   ]
  },
  {
   "cell_type": "code",
   "execution_count": 19,
   "metadata": {},
   "outputs": [],
   "source": [
    "bin_width = 0.1\n",
    "bins = np.arange(0, 10, bin_width)\n",
    "t_pts = bins[:-1] + bin_width/2"
   ]
  },
  {
   "cell_type": "code",
   "execution_count": null,
   "metadata": {},
   "outputs": [],
   "source": [
    "Dv, a = 1.0, 2.0  # rift rate and threshold\n",
    "theta = torch.tensor([[v, a]] * len(t_pts))  # Repeat (v, a) for all t_pts"
   ]
  },
  {
   "cell_type": "code",
   "execution_count": 21,
   "metadata": {},
   "outputs": [],
   "source": [
    "# Observations (t_pts as reaction times)\n",
    "t_pts_tensor = torch.tensor(t_pts).reshape(-1, 1)  # Reshape to (n_samples, 1)"
   ]
  },
  {
   "cell_type": "code",
   "execution_count": 22,
   "metadata": {},
   "outputs": [
    {
     "data": {
      "text/plain": [
       "(torch.Size([99, 1]), torch.Size([99, 2]))"
      ]
     },
     "execution_count": 22,
     "metadata": {},
     "output_type": "execute_result"
    }
   ],
   "source": [
    "t_pts_tensor.shape, theta.shape"
   ]
  },
  {
   "cell_type": "code",
   "execution_count": 23,
   "metadata": {},
   "outputs": [
    {
     "data": {
      "text/plain": [
       "torch.Size([1, 99, 1])"
      ]
     },
     "execution_count": 23,
     "metadata": {},
     "output_type": "execute_result"
    }
   ],
   "source": [
    "t_pts_tensor_reshaped = t_pts_tensor.unsqueeze(0)  \n",
    "t_pts_tensor_reshaped.shape"
   ]
  },
  {
   "cell_type": "code",
   "execution_count": 24,
   "metadata": {},
   "outputs": [],
   "source": [
    "t_pts_tensor_reshaped = t_pts_tensor_reshaped.to(dtype=torch.float32)\n",
    "theta = theta.to(dtype=torch.float32)"
   ]
  },
  {
   "cell_type": "code",
   "execution_count": 25,
   "metadata": {},
   "outputs": [],
   "source": [
    "log_likelihood = estimator.log_prob(t_pts_tensor_reshaped, theta)\n"
   ]
  },
  {
   "cell_type": "code",
   "execution_count": 26,
   "metadata": {},
   "outputs": [],
   "source": [
    "likelihood = torch.exp(log_likelihood)"
   ]
  },
  {
   "cell_type": "code",
   "execution_count": 27,
   "metadata": {},
   "outputs": [],
   "source": [
    "# convert likelihood to numpy array\n",
    "likelihood = likelihood.detach().numpy()"
   ]
  },
  {
   "cell_type": "code",
   "execution_count": 28,
   "metadata": {},
   "outputs": [
    {
     "data": {
      "text/plain": [
       "<matplotlib.legend.Legend at 0x78c35be76e90>"
      ]
     },
     "execution_count": 28,
     "metadata": {},
     "output_type": "execute_result"
    },
    {
     "data": {
      "image/png": "[encoded data removed]",
      "text/plain": [
       "<Figure size 640x480 with 1 Axes>"
      ]
     },
     "metadata": {},
     "output_type": "display_data"
    }
   ],
   "source": [
    "plt.plot(t_pts, likelihood.squeeze(), label=\"neural Likelihood\", color='r')\n",
    "plt.hist(sim_results, bins=bins, density=True, alpha=0.5, label=\"sim data\", color='b')\n",
    "plt.plot(t_pts, [rho_A_t_fn(t, v, a) for t in t_pts], label=\"theortical\", color='g')\n",
    "\n",
    "plt.xlabel('t')\n",
    "plt.ylabel('density')\n",
    "plt.legend()\n"
   ]
  },
  {
   "cell_type": "code",
   "execution_count": 33,
   "metadata": {},
   "outputs": [
    {
     "data": {
      "text/plain": [
       "{'epochs_trained': [72],\n",
       " 'best_validation_loss': [0.7274410070217762],\n",
       " 'validation_loss': [0.7761360726405665,\n",
       "  0.7533242806945879,\n",
       "  0.7393408983024126,\n",
       "  0.7425643629634503,\n",
       "  0.7448998032156954,\n",
       "  0.7617555739953346,\n",
       "  0.735129275272802,\n",
       "  0.7433102745370767,\n",
       "  0.7334162967721212,\n",
       "  0.7436344174994636,\n",
       "  0.7354754676523897,\n",
       "  0.7532760107640138,\n",
       "  0.7316327156479826,\n",
       "  0.7304842472076416,\n",
       "  0.7476137219016085,\n",
       "  0.7345226800318846,\n",
       "  0.7332993487721866,\n",
       "  0.7558182023235203,\n",
       "  0.7335032064890125,\n",
       "  0.7421500593731084,\n",
       "  0.7492361965867662,\n",
       "  0.7289107527929483,\n",
       "  0.7311626740337647,\n",
       "  0.7314797510805818,\n",
       "  0.744545311042943,\n",
       "  0.729760906745478,\n",
       "  0.7292218245181841,\n",
       "  0.7391897968410217,\n",
       "  0.733140635121729,\n",
       "  0.7310272627270099,\n",
       "  0.7309029679937461,\n",
       "  0.7356892602959859,\n",
       "  0.7346527871397353,\n",
       "  0.7314919337783892,\n",
       "  0.7424832865134957,\n",
       "  0.7368730368073454,\n",
       "  0.7365048834958028,\n",
       "  0.7336477090402976,\n",
       "  0.733242251209377,\n",
       "  0.7371495307720813,\n",
       "  0.7318122085836745,\n",
       "  0.7281142559248147,\n",
       "  0.7298911385929462,\n",
       "  0.7321167981501707,\n",
       "  0.7333612936673705,\n",
       "  0.7287036106758511,\n",
       "  0.7386105220342419,\n",
       "  0.7358495273540929,\n",
       "  0.7347813660336524,\n",
       "  0.7337785387776562,\n",
       "  0.733471662113347,\n",
       "  0.7274410070217762,\n",
       "  0.735174654070864,\n",
       "  0.7304723103021838,\n",
       "  0.7363880995622615,\n",
       "  0.7316469580856795,\n",
       "  0.7309307142631295,\n",
       "  0.7393163092357596,\n",
       "  0.7344018718630997,\n",
       "  0.7318297655312056,\n",
       "  0.7327461402440808,\n",
       "  0.7414826037957496,\n",
       "  0.7341166046476856,\n",
       "  0.7307345117490316,\n",
       "  0.7340746196274904,\n",
       "  0.7302598265028492,\n",
       "  0.7306556382130102,\n",
       "  0.7281109893444887,\n",
       "  0.7339969885717962,\n",
       "  0.7302416145187063,\n",
       "  0.7324465255147403,\n",
       "  0.7281725787624871],\n",
       " 'training_loss': [0.9533601987742074,\n",
       "  0.7686079021602665,\n",
       "  0.7536842649917125,\n",
       "  0.7525726029976082,\n",
       "  0.748160476123825,\n",
       "  0.7472541428644185,\n",
       "  0.7472854640530019,\n",
       "  0.7458555581629412,\n",
       "  0.7449663116475715,\n",
       "  0.7452073110127503,\n",
       "  0.7443665788765649,\n",
       "  0.7447887033835088,\n",
       "  0.7427279262852289,\n",
       "  0.7429938248118941,\n",
       "  0.7422404326243933,\n",
       "  0.7438477538101765,\n",
       "  0.7429810719636687,\n",
       "  0.7410950239807164,\n",
       "  0.7431162353392886,\n",
       "  0.7423350515696888,\n",
       "  0.7420313253761153,\n",
       "  0.7428006849215623,\n",
       "  0.741407670301294,\n",
       "  0.7416496434013501,\n",
       "  0.74281972544883,\n",
       "  0.7402400885600435,\n",
       "  0.7416366369278936,\n",
       "  0.7401888618640313,\n",
       "  0.7417412089323944,\n",
       "  0.7419893371284958,\n",
       "  0.7397684528575128,\n",
       "  0.7396740691061715,\n",
       "  0.7405516171917014,\n",
       "  0.7405068769473965,\n",
       "  0.7397713825819433,\n",
       "  0.7404563460235987,\n",
       "  0.7409854138902217,\n",
       "  0.7395016434931266,\n",
       "  0.740876309183301,\n",
       "  0.7393272947477588,\n",
       "  0.7385967511658245,\n",
       "  0.7406537286377171,\n",
       "  0.7392745465379641,\n",
       "  0.740819211158231,\n",
       "  0.7391134943125731,\n",
       "  0.7395310985403887,\n",
       "  0.7405886446085498,\n",
       "  0.7394109907685217,\n",
       "  0.740327402202578,\n",
       "  0.739317712961677,\n",
       "  0.7396435700272102,\n",
       "  0.7387451371665967,\n",
       "  0.7391006997818285,\n",
       "  0.7392985181955107,\n",
       "  0.7397507414866689,\n",
       "  0.7385514523825504,\n",
       "  0.7381272117070565,\n",
       "  0.7393449130796897,\n",
       "  0.7391625568100966,\n",
       "  0.7384494304113888,\n",
       "  0.7387901898600789,\n",
       "  0.7388202423454688,\n",
       "  0.7393196385379261,\n",
       "  0.7395284954195414,\n",
       "  0.7384535946579892,\n",
       "  0.7383820215634713,\n",
       "  0.738547763819032,\n",
       "  0.7380188055557108,\n",
       "  0.7391482277991831,\n",
       "  0.738431663237563,\n",
       "  0.7380796294820607,\n",
       "  0.7384854230970348],\n",
       " 'epoch_durations_sec': []}"
      ]
     },
     "execution_count": 33,
     "metadata": {},
     "output_type": "execute_result"
    }
   ],
   "source": [
    "trainer._summary"
   ]
  },
  {
   "cell_type": "code",
   "execution_count": 60,
   "metadata": {},
   "outputs": [
    {
     "data": {
      "text/plain": [
       "{'epochs_trained': [],\n",
       " 'best_validation_loss': [],\n",
       " 'validation_loss': [],\n",
       " 'training_loss': [],\n",
       " 'epoch_durations_sec': []}"
      ]
     },
     "execution_count": 60,
     "metadata": {},
     "output_type": "execute_result"
    }
   ],
   "source": [
    "trainer._summary"
   ]
  },
  {
   "cell_type": "code",
   "execution_count": 34,
   "metadata": {},
   "outputs": [
    {
     "data": {
      "image/png": "[encoded data removed]",
      "text/plain": [
       "<Figure size 640x480 with 1 Axes>"
      ]
     },
     "metadata": {},
     "output_type": "display_data"
    }
   ],
   "source": [
    "\n",
    "# Access the loss curve\n",
    "loss_history = trainer._summary[\"validation_loss\"]\n",
    "\n",
    "# Plot the loss curve (optional)\n",
    "import matplotlib.pyplot as plt\n",
    "\n",
    "plt.plot(loss_history)\n",
    "plt.xlabel(\"Epoch\")\n",
    "plt.ylabel(\"Loss\")\n",
    "plt.title(\"Loss Curve\")\n",
    "plt.show()\n"
   ]
  },
  {
   "cell_type": "code",
   "execution_count": null,
   "metadata": {},
   "outputs": [],
   "source": []
  }
 ],
 "metadata": {
  "kernelspec": {
   "display_name": "venv",
   "language": "python",
   "name": "python3"
  },
  "language_info": {
   "codemirror_mode": {
    "name": "ipython",
    "version": 3
   },
   "file_extension": ".py",
   "mimetype": "text/x-python",
   "name": "python",
   "nbconvert_exporter": "python",
   "pygments_lexer": "ipython3",
   "version": "3.10.12"
  }
 },
 "nbformat": 4,
 "nbformat_minor": 2
}
