{
 "cells": [
  {
   "cell_type": "code",
   "execution_count": 1,
   "metadata": {},
   "outputs": [],
   "source": [
    "import matplotlib.pyplot as plt\n",
    "import numpy as np"
   ]
  },
  {
   "cell_type": "code",
   "execution_count": 2,
   "metadata": {},
   "outputs": [],
   "source": [
    "def simulate_PA(params):\n",
    "    v,a = params\n",
    "    dt = 1e-3; dB = np.sqrt(dt)\n",
    "    DV = 0; t = 0\n",
    "    while True:\n",
    "        DV += v*dt + np.random.normal(0, dB)\n",
    "        t += dt\n",
    "\n",
    "        if DV >= a:\n",
    "            return t, (v,a)\n",
    "        "
   ]
  },
  {
   "cell_type": "code",
   "execution_count": 3,
   "metadata": {},
   "outputs": [],
   "source": [
    "v = 1; a = 1"
   ]
  },
  {
   "cell_type": "code",
   "execution_count": 4,
   "metadata": {},
   "outputs": [],
   "source": [
    "N_sim = int(1e5)"
   ]
  },
  {
   "cell_type": "code",
   "execution_count": 5,
   "metadata": {},
   "outputs": [],
   "source": [
    "import numpy as np\n",
    "v_distr = np.random.uniform(0.1, 3, N_sim)\n",
    "a_distr = np.random.uniform(0.1, 3, N_sim)\n",
    "\n",
    "params_np = np.array([v_distr,a_distr]).T"
   ]
  },
  {
   "cell_type": "code",
   "execution_count": 7,
   "metadata": {},
   "outputs": [],
   "source": [
    "from joblib import Parallel, delayed\n",
    "sim_results = Parallel(n_jobs=-1)(delayed(simulate_PA)([params_np[i,0], params_np[i,1]]) for i in range(N_sim))"
   ]
  },
  {
   "cell_type": "code",
   "execution_count": 8,
   "metadata": {},
   "outputs": [],
   "source": [
    "rt_np_arr = np.array([sim_results[i][0] for i in range(N_sim)])\n",
    "params_np_arr = np.array([sim_results[i][1] for i in range(N_sim)])"
   ]
  },
  {
   "cell_type": "code",
   "execution_count": 9,
   "metadata": {},
   "outputs": [
    {
     "data": {
      "text/plain": [
       "((100000,), (100000, 2))"
      ]
     },
     "execution_count": 9,
     "metadata": {},
     "output_type": "execute_result"
    }
   ],
   "source": [
    "rt_np_arr.shape, params_np_arr.shape"
   ]
  },
  {
   "cell_type": "code",
   "execution_count": 36,
   "metadata": {},
   "outputs": [],
   "source": [
    "import torch\n",
    "x_tensor = torch.tensor(rt_np_arr)\n",
    "theta_tensor = torch.tensor(params_np_arr)"
   ]
  },
  {
   "cell_type": "code",
   "execution_count": 37,
   "metadata": {},
   "outputs": [
    {
     "data": {
      "text/plain": [
       "(torch.Size([100000]), torch.Size([100000, 2]))"
      ]
     },
     "execution_count": 37,
     "metadata": {},
     "output_type": "execute_result"
    }
   ],
   "source": [
    "x_tensor.shape, theta_tensor.shape"
   ]
  },
  {
   "cell_type": "code",
   "execution_count": 38,
   "metadata": {},
   "outputs": [],
   "source": [
    "from torch.distributions import Uniform\n",
    "v_distr = Uniform(torch.tensor([0.1]), torch.tensor([3]))    # decision boundary\n",
    "a_distr = Uniform(torch.tensor([0.1]), torch.tensor([3]))    # decision boundary\n",
    "from sbi.utils import MultipleIndependent\n",
    "\n",
    "prior = MultipleIndependent(\n",
    "    [\n",
    "        v_distr,\n",
    "        a_distr\n",
    "    ]\n",
    ")"
   ]
  },
  {
   "cell_type": "code",
   "execution_count": 39,
   "metadata": {},
   "outputs": [],
   "source": [
    "from sbi.inference import SNLE\n",
    "trainer = SNLE(prior = prior)\n"
   ]
  },
  {
   "cell_type": "code",
   "execution_count": 40,
   "metadata": {},
   "outputs": [
    {
     "data": {
      "text/plain": [
       "(torch.float64, torch.float64)"
      ]
     },
     "execution_count": 40,
     "metadata": {},
     "output_type": "execute_result"
    }
   ],
   "source": [
    "theta_tensor.dtype, x_tensor.dtype"
   ]
  },
  {
   "cell_type": "code",
   "execution_count": 42,
   "metadata": {},
   "outputs": [
    {
     "name": "stdout",
     "output_type": "stream",
     "text": [
      "torch.float32 torch.float32\n",
      "torch.Size([100000, 2]) torch.Size([100000])\n",
      "torch.Size([100000])\n"
     ]
    }
   ],
   "source": [
    "theta_tensor = theta_tensor.to(dtype=torch.float32)\n",
    "x_tensor = x_tensor.to(dtype=torch.float32)\n",
    "\n",
    "print(theta_tensor.dtype, x_tensor.dtype)\n",
    "print(theta_tensor.shape, x_tensor.shape)\n",
    "\n",
    "# x_tensor = x_tensor.unsqueeze(0).squeeze(1)\n",
    "print(x_tensor.shape)"
   ]
  },
  {
   "cell_type": "code",
   "execution_count": 86,
   "metadata": {},
   "outputs": [
    {
     "name": "stdout",
     "output_type": "stream",
     "text": [
      "torch.Size([100000, 2]) torch.Size([100000, 1])\n",
      "torch.float32 torch.float32\n",
      "2 2\n",
      " Neural network successfully converged after 58 epochs."
     ]
    }
   ],
   "source": [
    "x_tensor = x_tensor.reshape(N_sim,1)\n",
    "\n",
    "print(theta_tensor.shape, x_tensor.shape)\n",
    "print(theta_tensor.dtype, x_tensor.dtype)\n",
    "# num of dim\n",
    "print(theta_tensor.dim(), x_tensor.dim())\n",
    "trainer_1 = trainer.append_simulations(theta=theta_tensor,x=x_tensor).train(validation_fraction=0.2)"
   ]
  },
  {
   "cell_type": "code",
   "execution_count": 87,
   "metadata": {},
   "outputs": [],
   "source": [
    "test_sim_data = Parallel(n_jobs=-1)(delayed(simulate_PA)([v,a]) for _ in range(N_sim))\n"
   ]
  },
  {
   "cell_type": "code",
   "execution_count": 88,
   "metadata": {},
   "outputs": [],
   "source": [
    "test_sim_rt = np.array([test_sim_data[i][0] for i in range(N_sim)])\n",
    "test_sim_theta = np.array([test_sim_data[i][1] for i in range(N_sim)])"
   ]
  },
  {
   "cell_type": "code",
   "execution_count": 89,
   "metadata": {},
   "outputs": [
    {
     "data": {
      "text/plain": [
       "((100000,), (100000, 2))"
      ]
     },
     "execution_count": 89,
     "metadata": {},
     "output_type": "execute_result"
    }
   ],
   "source": [
    "test_sim_rt.shape, test_sim_theta.shape"
   ]
  },
  {
   "cell_type": "code",
   "execution_count": 90,
   "metadata": {},
   "outputs": [],
   "source": [
    "test_sim_rt_tensor = torch.tensor(test_sim_rt)\n",
    "test_sim_theta_tensor = torch.tensor(test_sim_theta)"
   ]
  },
  {
   "cell_type": "code",
   "execution_count": 91,
   "metadata": {},
   "outputs": [
    {
     "data": {
      "text/plain": [
       "tensor([[1, 1],\n",
       "        [1, 1],\n",
       "        [1, 1],\n",
       "        ...,\n",
       "        [1, 1],\n",
       "        [1, 1],\n",
       "        [1, 1]])"
      ]
     },
     "execution_count": 91,
     "metadata": {},
     "output_type": "execute_result"
    }
   ],
   "source": [
    "test_sim_theta_tensor"
   ]
  },
  {
   "cell_type": "code",
   "execution_count": 92,
   "metadata": {},
   "outputs": [
    {
     "data": {
      "text/plain": [
       "(torch.Size([100000]), torch.Size([100000, 2]))"
      ]
     },
     "execution_count": 92,
     "metadata": {},
     "output_type": "execute_result"
    }
   ],
   "source": [
    "test_sim_rt_tensor.shape, test_sim_theta_tensor.shape"
   ]
  },
  {
   "cell_type": "code",
   "execution_count": 99,
   "metadata": {},
   "outputs": [],
   "source": [
    "test_data = torch.linspace(-2, 4, 1000)\n"
   ]
  },
  {
   "cell_type": "code",
   "execution_count": 100,
   "metadata": {},
   "outputs": [
    {
     "data": {
      "text/plain": [
       "(torch.Size([1, 1000]), torch.Size([1000, 2]))"
      ]
     },
     "execution_count": 100,
     "metadata": {},
     "output_type": "execute_result"
    }
   ],
   "source": [
    "test_data_reshape = test_data.reshape(1,1000)\n",
    "test_sim_theta_tensor_reshape = test_sim_theta_tensor[:1000, :]\n",
    "\n",
    "test_data_reshape.shape, test_sim_theta_tensor_reshape.shape"
   ]
  },
  {
   "cell_type": "code",
   "execution_count": 101,
   "metadata": {},
   "outputs": [],
   "source": [
    "loglike = trainer_1.log_prob(test_data_reshape, test_sim_theta_tensor_reshape).detach()"
   ]
  },
  {
   "cell_type": "code",
   "execution_count": 105,
   "metadata": {},
   "outputs": [
    {
     "data": {
      "image/png": "[encoded data removed]",
      "text/plain": [
       "<Figure size 640x480 with 1 Axes>"
      ]
     },
     "metadata": {},
     "output_type": "display_data"
    }
   ],
   "source": [
    "plt.plot(test_data, loglike.exp().squeeze());\n",
    "plt.hist(test_sim_rt, bins=100, density=True, alpha=0.5);\n",
    "plt.title('inv. gaussian PA');"
   ]
  },
  {
   "cell_type": "code",
   "execution_count": 106,
   "metadata": {},
   "outputs": [
    {
     "data": {
      "text/plain": [
       "Text(0.5, 1.0, 'Inverse gamma distr')"
      ]
     },
     "execution_count": 106,
     "metadata": {},
     "output_type": "execute_result"
    },
    {
     "data": {
      "image/png": "[encoded data removed]",
      "text/plain": [
       "<Figure size 640x480 with 1 Axes>"
      ]
     },
     "metadata": {},
     "output_type": "display_data"
    }
   ],
   "source": [
    "plt.plot(trainer._summary['training_loss'], label='training loss')\n",
    "plt.plot(trainer._summary['validation_loss'], label='validation loss');\n",
    "plt.legend()\n",
    "plt.title('Inverse gamma distr')\n"
   ]
  },
  {
   "cell_type": "code",
   "execution_count": null,
   "metadata": {},
   "outputs": [],
   "source": []
  }
 ],
 "metadata": {
  "kernelspec": {
   "display_name": "venv",
   "language": "python",
   "name": "python3"
  },
  "language_info": {
   "codemirror_mode": {
    "name": "ipython",
    "version": 3
   },
   "file_extension": ".py",
   "mimetype": "text/x-python",
   "name": "python",
   "nbconvert_exporter": "python",
   "pygments_lexer": "ipython3",
   "version": "3.10.12"
  }
 },
 "nbformat": 4,
 "nbformat_minor": 2
}
