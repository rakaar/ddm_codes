{
 "cells": [
  {
   "cell_type": "code",
   "execution_count": 1,
   "metadata": {},
   "outputs": [],
   "source": [
    "import torch\n",
    "from torch.distributions import Beta, Binomial, Categorical, Gamma\n",
    "from pyro.distributions import InverseGamma\n",
    "from sbi.utils import MultipleIndependent, mcmc_transform\n",
    "from sbi.inference.potentials.base_potential import BasePotential\n",
    "from sbi.utils.torchutils import atleast_2d"
   ]
  },
  {
   "cell_type": "markdown",
   "metadata": {},
   "source": [
    "# simulate"
   ]
  },
  {
   "cell_type": "code",
   "execution_count": null,
   "metadata": {},
   "outputs": [
    {
     "name": "stdout",
     "output_type": "stream",
     "text": [
      "torch.Size([3, 2])\n",
      "tensor([[0.1569, 1.0000],\n",
      "        [0.3242, 0.0000],\n",
      "        [0.0924, 1.0000]])\n"
     ]
    }
   ],
   "source": [
    "def simulate_choice_and_rt(params):\n",
    "    \"\"\"\n",
    "    args:\n",
    "        params - batch size x 2\n",
    "    returns:\n",
    "        (rt, choice)\n",
    "    \"\"\"\n",
    "    betas, rhos = params[:, 0], params[:,1] # beta - for RT , rho - for choice\n",
    "    choices =  Binomial(probs=rhos).sample().reshape(-1, 1)\n",
    "    rts = InverseGamma(concentration=torch.ones_like(betas), rate=betas).sample().reshape(-1, 1)\n",
    "\n",
    "    return torch.cat((rts, choices), 1)\n",
    "\n",
    "# test the above func\n",
    "params = torch.Tensor([[0.3, 0.5], [0.2, 0.5], [0.1, 0.5]])\n",
    "print(simulate_choice_and_rt(params).shape)\n",
    "print(simulate_choice_and_rt(params))"
   ]
  },
  {
   "cell_type": "code",
   "execution_count": 3,
   "metadata": {},
   "outputs": [],
   "source": [
    "# Define independent prior.\n",
    "prior = MultipleIndependent(\n",
    "    [\n",
    "        Gamma(torch.tensor([1.0]), torch.tensor([0.5])), # sample beta for RT distr-Inv.Gamma\n",
    "        Beta(torch.tensor([2.0]), torch.tensor([2.0])), # sample rho for choice distr-binomial\n",
    "    ],\n",
    "    validate_args=False,\n",
    ")"
   ]
  },
  {
   "cell_type": "code",
   "execution_count": 4,
   "metadata": {},
   "outputs": [],
   "source": [
    "class PotentialFunc(BasePotential):\n",
    "    def __init__(self, prior, x_o, device='cpu'):\n",
    "        super().__init__(prior, x_o, device)\n",
    "    \n",
    "    def __call__(self, theta, track_gradients=True):\n",
    "        theta = atleast_2d(theta)\n",
    "\n",
    "        with torch.set_grad_enabled(track_gradients):\n",
    "            iid_ll = self.iid_likelihood(theta)\n",
    "\n",
    "        return iid_ll + self.prior.log_prob(theta) # prior + likelihood\n",
    "\n",
    "    def iid_likelihood(self, theta):\n",
    "        batch_size = theta.shape[0]\n",
    "        num_trials = self.x_o.shape[0]\n",
    "\n",
    "        theta = theta.reshape(batch_size, 1, -1)\n",
    "\n",
    "        beta = theta[:, :, 0]\n",
    "        rho = theta[:, :, 1]\n",
    "\n",
    "        # u know how to calculate likelihood\n",
    "        logprob_choice = Binomial(probs=rho).log_prob(\n",
    "            self.x_0[:, 1].reshape(1, num_trials, -1)\n",
    "        )\n",
    "        logprob_rt = InverseGamma(\n",
    "            concentration=torch.ones_like(beta), rate=beta\n",
    "        ).log_prob(self.x_0[:, 0].reshape(1, num_trials, -1))\n",
    "\n",
    "        joint_likelihood = (logprob_choice + logprob_rt).squeeze()\n",
    "\n",
    "        return joint_likelihood.sum(dim=1)\n",
    "\n"
   ]
  },
  {
   "cell_type": "markdown",
   "metadata": {},
   "source": [
    "# posterior"
   ]
  },
  {
   "cell_type": "code",
   "execution_count": 5,
   "metadata": {},
   "outputs": [],
   "source": [
    "num_trials = 10\n",
    "num_samples = 1000\n",
    "theta_o = prior.sample((1,))"
   ]
  },
  {
   "cell_type": "code",
   "execution_count": 6,
   "metadata": {},
   "outputs": [
    {
     "data": {
      "text/plain": [
       "tensor([[0.4681, 0.1798]])"
      ]
     },
     "execution_count": 6,
     "metadata": {},
     "output_type": "execute_result"
    }
   ],
   "source": [
    "theta_o # beta, rho starting pt"
   ]
  },
  {
   "cell_type": "code",
   "execution_count": 7,
   "metadata": {},
   "outputs": [],
   "source": [
    "x_o = simulate_choice_and_rt(theta_o.repeat(num_trials, 1))"
   ]
  },
  {
   "cell_type": "code",
   "execution_count": 8,
   "metadata": {},
   "outputs": [
    {
     "data": {
      "text/plain": [
       "tensor([[0.8095, 0.0000],\n",
       "        [2.4087, 1.0000],\n",
       "        [0.1428, 1.0000],\n",
       "        [0.7105, 0.0000],\n",
       "        [2.3868, 0.0000],\n",
       "        [1.4493, 0.0000],\n",
       "        [1.3056, 1.0000],\n",
       "        [0.2990, 0.0000],\n",
       "        [5.1276, 0.0000],\n",
       "        [0.3478, 1.0000]])"
      ]
     },
     "execution_count": 8,
     "metadata": {},
     "output_type": "execute_result"
    }
   ],
   "source": [
    "x_o # num trials x 2, RT and choice"
   ]
  },
  {
   "cell_type": "code",
   "execution_count": 9,
   "metadata": {},
   "outputs": [],
   "source": [
    "mcmc_args = {\n",
    "    'num_chains': 10,\n",
    "    'warmup_steps': 50,\n",
    "    'method': 'slice_np_vectorized',\n",
    "    'init_strategy': 'proposal'\n",
    "\n",
    "}"
   ]
  },
  {
   "cell_type": "code",
   "execution_count": 10,
   "metadata": {},
   "outputs": [],
   "source": [
    "from sbi.inference import MNLE, MCMCPosterior"
   ]
  },
  {
   "cell_type": "code",
   "execution_count": 11,
   "metadata": {},
   "outputs": [
    {
     "data": {
      "text/plain": [
       "tensor([2.8579, 0.2624])"
      ]
     },
     "execution_count": 11,
     "metadata": {},
     "output_type": "execute_result"
    }
   ],
   "source": [
    "prior.sample()"
   ]
  },
  {
   "cell_type": "code",
   "execution_count": 12,
   "metadata": {},
   "outputs": [],
   "source": [
    "from sbi.utils import MultipleIndependent, mcmc_transform"
   ]
  },
  {
   "cell_type": "code",
   "execution_count": 13,
   "metadata": {},
   "outputs": [
    {
     "name": "stderr",
     "output_type": "stream",
     "text": [
      "/home/rka/code/ddm_codes/venv/lib/python3.10/site-packages/sbi/inference/posteriors/mcmc_posterior.py:115: UserWarning: The default value for thinning in MCMC sampling has been changed from 10 to 1. This might cause the results differ from the last benchmark.\n",
      "  thin = _process_thin_default(thin)\n"
     ]
    }
   ],
   "source": [
    "posterior = MCMCPosterior(\n",
    "    potential_fn=PotentialFunc(prior, x_o),\n",
    "    proposal=prior,\n",
    "    theta_transform=mcmc_transform(prior, enable_transform=True),\n",
    "    **mcmc_args,\n",
    ")"
   ]
  },
  {
   "cell_type": "markdown",
   "metadata": {},
   "source": [
    "# mnle"
   ]
  },
  {
   "cell_type": "code",
   "execution_count": 16,
   "metadata": {},
   "outputs": [],
   "source": [
    "num_simulations = 20000"
   ]
  },
  {
   "cell_type": "code",
   "execution_count": 17,
   "metadata": {},
   "outputs": [],
   "source": [
    "proposal = prior"
   ]
  },
  {
   "cell_type": "code",
   "execution_count": 18,
   "metadata": {},
   "outputs": [
    {
     "data": {
      "text/plain": [
       "torch.Size([20000, 2])"
      ]
     },
     "execution_count": 18,
     "metadata": {},
     "output_type": "execute_result"
    }
   ],
   "source": [
    "theta = proposal.sample((num_simulations,))\n",
    "theta.shape # num_simulations x 2"
   ]
  },
  {
   "cell_type": "code",
   "execution_count": 19,
   "metadata": {},
   "outputs": [],
   "source": [
    "x = simulate_choice_and_rt(theta)"
   ]
  },
  {
   "cell_type": "code",
   "execution_count": 20,
   "metadata": {},
   "outputs": [
    {
     "data": {
      "text/plain": [
       "tensor([[ 1.2642,  0.0000],\n",
       "        [ 1.1573,  0.0000],\n",
       "        [ 2.8579,  1.0000],\n",
       "        ...,\n",
       "        [ 5.2106,  1.0000],\n",
       "        [28.3209,  1.0000],\n",
       "        [ 1.1889,  0.0000]])"
      ]
     },
     "execution_count": 20,
     "metadata": {},
     "output_type": "execute_result"
    }
   ],
   "source": [
    "x # for each simulation, RT and choice"
   ]
  },
  {
   "cell_type": "code",
   "execution_count": 21,
   "metadata": {},
   "outputs": [],
   "source": [
    "trainer = MNLE()"
   ]
  },
  {
   "cell_type": "code",
   "execution_count": 22,
   "metadata": {},
   "outputs": [
    {
     "data": {
      "text/plain": [
       "<sbi.inference.trainers.nle.mnle.MNLE at 0x7e1824486e60>"
      ]
     },
     "execution_count": 22,
     "metadata": {},
     "output_type": "execute_result"
    }
   ],
   "source": [
    "trainer"
   ]
  },
  {
   "cell_type": "code",
   "execution_count": 23,
   "metadata": {},
   "outputs": [
    {
     "name": "stderr",
     "output_type": "stream",
     "text": [
      "/home/rka/code/ddm_codes/venv/lib/python3.10/site-packages/sbi/neural_nets/factory.py:205: UserWarning: The mixed neural likelihood estimator assumes that x contains continuous data in the first n-1 columns (e.g., reaction times) and categorical data in the last column (e.g., corresponding choices). If this is not the case for the passed `x` do not use this function.\n",
      "  return model_builders[model](batch_x=batch_x, batch_y=batch_theta, **kwargs)\n"
     ]
    },
    {
     "name": "stdout",
     "output_type": "stream",
     "text": [
      " Neural network successfully converged after 66 epochs."
     ]
    }
   ],
   "source": [
    "estimator = trainer.append_simulations(theta, x).train(training_batch_size=1000)"
   ]
  },
  {
   "cell_type": "code",
   "execution_count": 24,
   "metadata": {},
   "outputs": [],
   "source": [
    "mnle_posterior = trainer.build_posterior(prior=prior)\n"
   ]
  },
  {
   "cell_type": "code",
   "execution_count": 25,
   "metadata": {},
   "outputs": [
    {
     "data": {
      "application/vnd.jupyter.widget-view+json": {
       "model_id": "f0853229e9174b00adc1f73735a55d34",
       "version_major": 2,
       "version_minor": 0
      },
      "text/plain": [
       "Running vectorized MCMC with 10 chains:   0%|          | 0/2000 [00:00<?, ?it/s]"
      ]
     },
     "metadata": {},
     "output_type": "display_data"
    }
   ],
   "source": [
    "mnle_samples = mnle_posterior.sample((num_samples,), x=x_o, **mcmc_args)"
   ]
  },
  {
   "cell_type": "code",
   "execution_count": 26,
   "metadata": {},
   "outputs": [],
   "source": [
    "import matplotlib.pyplot as plt\n",
    "from sbi.analysis import pairplot"
   ]
  },
  {
   "cell_type": "code",
   "execution_count": 28,
   "metadata": {},
   "outputs": [
    {
     "data": {
      "image/png": "[encoded data removed]",
      "text/plain": [
       "<Figure size 600x600 with 4 Axes>"
      ]
     },
     "metadata": {},
     "output_type": "display_data"
    }
   ],
   "source": [
    "fig, ax = pairplot(\n",
    "    [\n",
    "        prior.sample((1000,)),\n",
    "        mnle_samples,\n",
    "    ],\n",
    "    points=theta_o,\n",
    "    diag=\"kde\",\n",
    "    upper=\"contour\",\n",
    "    upper_kwargs=dict(levels=[0.95]),\n",
    "    diag_kwargs=dict(bins=100),\n",
    "    fig_kwargs=dict(\n",
    "        points_offdiag=dict(marker=\"*\", markersize=10),\n",
    "        points_colors=[\"k\"],\n",
    "    ),\n",
    "    labels=[r\"$\\beta$\", r\"$\\rho$\"],\n",
    "    figsize=(6, 6),\n",
    ")\n",
    "\n",
    "plt.sca(ax[1, 1])\n",
    "plt.legend(\n",
    "    [\"Prior\", \"MNLE\", r\"$\\theta_o$\"],\n",
    "    frameon=False,\n",
    "    fontsize=12,\n",
    ");"
   ]
  },
  {
   "cell_type": "code",
   "execution_count": 29,
   "metadata": {},
   "outputs": [
    {
     "data": {
      "text/plain": [
       "tensor([[0.4681, 0.1798]])"
      ]
     },
     "execution_count": 29,
     "metadata": {},
     "output_type": "execute_result"
    }
   ],
   "source": [
    "theta_o"
   ]
  }
 ],
 "metadata": {
  "kernelspec": {
   "display_name": "venv",
   "language": "python",
   "name": "python3"
  },
  "language_info": {
   "codemirror_mode": {
    "name": "ipython",
    "version": 3
   },
   "file_extension": ".py",
   "mimetype": "text/x-python",
   "name": "python",
   "nbconvert_exporter": "python",
   "pygments_lexer": "ipython3",
   "version": "3.10.12"
  }
 },
 "nbformat": 4,
 "nbformat_minor": 2
}
