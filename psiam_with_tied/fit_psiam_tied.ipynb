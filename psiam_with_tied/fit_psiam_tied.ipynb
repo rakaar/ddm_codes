{
 "cells": [
  {
   "cell_type": "code",
   "execution_count": 1,
   "metadata": {},
   "outputs": [],
   "source": [
    "import numpy as np\n",
    "import matplotlib.pyplot as plt\n",
    "from joblib import Parallel, delayed\n",
    "\n",
    "from psiam_tied_utils import psiam_tied_data_gen_wrapper"
   ]
  },
  {
   "cell_type": "markdown",
   "metadata": {},
   "source": [
    "# params"
   ]
  },
  {
   "cell_type": "code",
   "execution_count": 2,
   "metadata": {},
   "outputs": [],
   "source": [
    "# stim params\n",
    "ABL_arr = [20]\n",
    "ILD_arr = [3]\n",
    "\n",
    "# Model params\n",
    "rate_lambda = 0.076\n",
    "theta_E = 50.7\n",
    "T_0 = 0.19*(1e-3)\n",
    "t_non_decision = 78e-3\n",
    "\n",
    "V_A = 0.5\n",
    "theta_A = 1\n",
    "\n",
    "t_stim = 0.25\n",
    "t_A_aff = 0.01\n",
    "t_E_aff = 0.02\n",
    "t_motor = 0.03\n",
    "Z_E = 0\n",
    "\n",
    "# sim params\n",
    "N_sim = int(1e6)\n",
    "dt = 1e-4\n",
    "\n",
    "# fitting params\n",
    "K_max = 10"
   ]
  },
  {
   "cell_type": "markdown",
   "metadata": {},
   "source": [
    "# gen data"
   ]
  },
  {
   "cell_type": "code",
   "execution_count": 3,
   "metadata": {},
   "outputs": [
    {
     "name": "stdout",
     "output_type": "stream",
     "text": [
      "Num of AI process = 202987/1000000\n",
      "Num of Aborts = 45940\n",
      "Num of up hits = 756206, Num of down hits = 243794\n"
     ]
    }
   ],
   "source": [
    "sim_results = Parallel(n_jobs=-1)(delayed(psiam_tied_data_gen_wrapper)(V_A, theta_A, ABL_arr, ILD_arr,\\\n",
    "                                                                        rate_lambda, T_0, theta_E, Z_E, \\\n",
    "                                                                            t_stim, t_A_aff, t_E_aff, t_motor, dt)\\\n",
    "                                                                                  for _ in range(N_sim))\n",
    "# parse results\n",
    "all_choice = np.array([res['choice'] for res in sim_results])\n",
    "all_RT = np.array([res['rt'] for res in sim_results])\n",
    "all_is_act = np.array([res['is_act'] for res in sim_results])\n",
    "\n",
    "\n",
    "print(f\"Num of AI process = {np.sum(all_is_act)}/{N_sim}\")\n",
    "print(f\"Num of Aborts = {np.sum(all_RT < t_stim)}\")\n",
    "print(f\"Num of up hits = {np.sum(all_choice == 1)}, Num of down hits = {np.sum(all_choice == -1)}\")"
   ]
  },
  {
   "cell_type": "markdown",
   "metadata": {},
   "source": [
    "# sim + theory"
   ]
  },
  {
   "cell_type": "code",
   "execution_count": 4,
   "metadata": {},
   "outputs": [],
   "source": [
    "from psiam_tied_utils import all_RTs_fit_fn"
   ]
  },
  {
   "cell_type": "code",
   "execution_count": 5,
   "metadata": {},
   "outputs": [],
   "source": [
    "t_pts = np.linspace(0.001, 1.5, 2000)\n",
    "ABL = ABL_arr[0]; ILD = ILD_arr[0]\n",
    "theory = all_RTs_fit_fn(t_pts, V_A, theta_A, ABL, ILD, rate_lambda, T_0, theta_E, Z_E, t_stim, t_A_aff, t_E_aff, t_motor, K_max)"
   ]
  },
  {
   "cell_type": "code",
   "execution_count": 7,
   "metadata": {},
   "outputs": [
    {
     "data": {
      "text/plain": [
       "[<matplotlib.lines.Line2D at 0x76fb9c70bd30>]"
      ]
     },
     "execution_count": 7,
     "metadata": {},
     "output_type": "execute_result"
    },
    {
     "data": {
      "image/png": "[encoded data removed]",
      "text/plain": [
       "<Figure size 640x480 with 1 Axes>"
      ]
     },
     "metadata": {},
     "output_type": "display_data"
    }
   ],
   "source": [
    "plt.hist(all_RT, bins=250, color='b', alpha=0.5, density=True);\n",
    "plt.axvline(x=t_stim, color='r', linestyle='--')\n",
    "plt.plot(t_pts, theory, 'b', lw=3)"
   ]
  }
 ],
 "metadata": {
  "kernelspec": {
   "display_name": "Python 3",
   "language": "python",
   "name": "python3"
  },
  "language_info": {
   "codemirror_mode": {
    "name": "ipython",
    "version": 3
   },
   "file_extension": ".py",
   "mimetype": "text/x-python",
   "name": "python",
   "nbconvert_exporter": "python",
   "pygments_lexer": "ipython3",
   "version": "3.10.12"
  }
 },
 "nbformat": 4,
 "nbformat_minor": 2
}
