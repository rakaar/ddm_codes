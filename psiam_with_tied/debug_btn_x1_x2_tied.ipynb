{
 "cells": [
  {
   "cell_type": "code",
   "execution_count": 15,
   "metadata": {},
   "outputs": [],
   "source": [
    "import numpy as np\n",
    "\n",
    "from tqdm import tqdm\n",
    "import matplotlib.pyplot as plt\n",
    "from scipy.special import erf"
   ]
  },
  {
   "cell_type": "code",
   "execution_count": 26,
   "metadata": {},
   "outputs": [],
   "source": [
    "def classic_ddm(v,theta,z,T,dt):\n",
    "    dv = z\n",
    "    n_T = int(T/dt)\n",
    "    dv_arr = np.full(n_T, np.nan)\n",
    "    dv_arr[0] = dv\n",
    "    dB = dt**0.5\n",
    "    for i in range(1,n_T):\n",
    "        dv += v*dt + np.random.normal(0, dB)\n",
    "        dv_arr[i] = (dv/theta) + 1\n",
    "\n",
    "        if dv >= theta or dv <= -theta:\n",
    "            return dv_arr"
   ]
  },
  {
   "cell_type": "code",
   "execution_count": 27,
   "metadata": {},
   "outputs": [
    {
     "name": "stderr",
     "output_type": "stream",
     "text": [
      "100%|██████████| 5000/5000 [01:06<00:00, 75.62it/s]\n"
     ]
    }
   ],
   "source": [
    "N_sim = int(5e3)\n",
    "dt = 1e-4\n",
    "\n",
    "v = 1.5\n",
    "theta = 2\n",
    "z = 0\n",
    "T = 2\n",
    "\n",
    "dv_distr = np.zeros((N_sim, int(T/dt)))\n",
    "t_pts = np.arange(0, T, dt)\n",
    "\n",
    "for N in tqdm(range(N_sim)):\n",
    "    dv_distr[N,:] = classic_ddm(v,theta,z,T,dt)"
   ]
  },
  {
   "cell_type": "code",
   "execution_count": 41,
   "metadata": {},
   "outputs": [
    {
     "name": "stderr",
     "output_type": "stream",
     "text": [
      "100%|██████████| 19999/19999 [00:01<00:00, 10759.92it/s]\n"
     ]
    }
   ],
   "source": [
    "x1 = 1; x2 = 2;\n",
    "prob_x1_x2 = np.zeros_like(t_pts)\n",
    "\n",
    "for i in tqdm(range(1,len(t_pts))):\n",
    "    # remove nan from dv_distr[:,i]\n",
    "    dv_distr_i = dv_distr[:,i]\n",
    "    dv_distr_i = dv_distr_i[~np.isnan(dv_distr_i)]\n",
    "    prob_x1_x2[i] = np.sum((dv_distr_i >= x1) & (dv_distr_i <= x2))/N_sim\n",
    "\n",
    "    "
   ]
  },
  {
   "cell_type": "code",
   "execution_count": 34,
   "metadata": {},
   "outputs": [],
   "source": [
    "def P_small_t_btn_x1_x2_v1(x1, x2, t, v, theta, z, K_max):\n",
    "    \"\"\"\n",
    "    Integration of P_small(x,t) btn x1 and x2\n",
    "    \"\"\"\n",
    "    def Phi(x):\n",
    "        \"\"\"\n",
    "        Define the normal cumulative distribution function Φ(x) using erf\n",
    "        \"\"\"\n",
    "        return 0.5 * (1 + erf(x / np.sqrt(2)))\n",
    "\n",
    "    if t <= 0:\n",
    "        return 0\n",
    "    \n",
    "\n",
    "    mu = v*theta\n",
    "    z = (z/theta) + 1.0\n",
    "\n",
    "    \n",
    "    t_theta = theta**2\n",
    "    t /= t_theta\n",
    "\n",
    "    result = 0\n",
    "    \n",
    "    sqrt_t = np.sqrt(t)\n",
    "    \n",
    "    for n in range(-K_max, K_max + 1):\n",
    "        term1 = np.exp(4 * mu * n) * (\n",
    "            Phi((x2 - (z + 4 * n + mu * t)) / sqrt_t) -\n",
    "            Phi((x1 - (z + 4 * n + mu * t)) / sqrt_t)\n",
    "        )\n",
    "        \n",
    "        term2 = np.exp(2 * mu * (2 * (1 - n) - z)) * (\n",
    "            Phi((x2 - (-z + 4 * (1 - n) + mu * t)) / sqrt_t) -\n",
    "            Phi((x1 - (-z + 4 * (1 - n) + mu * t)) / sqrt_t)\n",
    "        )\n",
    "        \n",
    "        result += term1 - term2\n",
    "    \n",
    "    return result\n"
   ]
  },
  {
   "cell_type": "code",
   "execution_count": 42,
   "metadata": {},
   "outputs": [],
   "source": [
    "t_theory_pts = np.linspace(0, 1, 1000)\n",
    "prob_x1_x2_theory = [P_small_t_btn_x1_x2_v1(x1, x2, t, v, theta, z, 10) for t in t_theory_pts]\n"
   ]
  },
  {
   "cell_type": "code",
   "execution_count": 43,
   "metadata": {},
   "outputs": [
    {
     "data": {
      "image/png": "[encoded data removed]",
      "text/plain": [
       "<Figure size 640x480 with 1 Axes>"
      ]
     },
     "metadata": {},
     "output_type": "display_data"
    }
   ],
   "source": [
    "plt.plot(t_theory_pts, prob_x1_x2_theory, label='Theory')\n",
    "plt.plot(t_pts, prob_x1_x2, label='data')\n",
    "plt.legend()\n",
    "plt.xlim([0, 1]);"
   ]
  }
 ],
 "metadata": {
  "kernelspec": {
   "display_name": "Python 3",
   "language": "python",
   "name": "python3"
  },
  "language_info": {
   "codemirror_mode": {
    "name": "ipython",
    "version": 3
   },
   "file_extension": ".py",
   "mimetype": "text/x-python",
   "name": "python",
   "nbconvert_exporter": "python",
   "pygments_lexer": "ipython3",
   "version": "3.10.12"
  }
 },
 "nbformat": 4,
 "nbformat_minor": 2
}
